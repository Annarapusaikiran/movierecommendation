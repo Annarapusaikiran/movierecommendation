{
  "nbformat": 4,
  "nbformat_minor": 0,
  "metadata": {
    "colab": {
      "provenance": [],
      "authorship_tag": "ABX9TyMOHOcH/AeZy/HHzCT0o8iZ",
      "include_colab_link": true
    },
    "kernelspec": {
      "name": "python3",
      "display_name": "Python 3"
    },
    "language_info": {
      "name": "python"
    }
  },
  "cells": [
    {
      "cell_type": "markdown",
      "metadata": {
        "id": "view-in-github",
        "colab_type": "text"
      },
      "source": [
        "<a href=\"https://colab.research.google.com/github/Annarapusaikiran/movierecommendation/blob/main/Copy_of_SAILKIRAN.ipynb\" target=\"_parent\"><img src=\"https://colab.research.google.com/assets/colab-badge.svg\" alt=\"Open In Colab\"/></a>"
      ]
    },
    {
      "cell_type": "code",
      "execution_count": null,
      "metadata": {
        "id": "_QT0a4t7CX-i"
      },
      "outputs": [],
      "source": [
        "import pandas as pd\n",
        "import numpy as no"
      ]
    },
    {
      "cell_type": "code",
      "source": [
        "df = pd.read_csv(r'http://raw.githubusercontent.com/YBI-Foundation/Dataset/main/Movies%20Recommendation.csv')"
      ],
      "metadata": {
        "id": "FW8wa_fbCj7g"
      },
      "execution_count": null,
      "outputs": []
    },
    {
      "cell_type": "code",
      "source": [
        "df.head()"
      ],
      "metadata": {
        "colab": {
          "base_uri": "https://localhost:8080/",
          "height": 672
        },
        "id": "DSFlPPlWCjtx",
        "outputId": "2d053466-4d3f-434f-a0f2-37a25d7e25a9"
      },
      "execution_count": null,
      "outputs": [
        {
          "output_type": "execute_result",
          "data": {
            "text/plain": [
              "   Movie_ID      Movie_Title                       Movie_Genre Movie_Language  \\\n",
              "0         1       Four Rooms                      Crime Comedy             en   \n",
              "1         2        Star Wars  Adventure Action Science Fiction             en   \n",
              "2         3     Finding Nemo                  Animation Family             en   \n",
              "3         4     Forrest Gump              Comedy Drama Romance             en   \n",
              "4         5  American Beauty                             Drama             en   \n",
              "\n",
              "   Movie_Budget  Movie_Popularity Movie_Release_Date  Movie_Revenue  \\\n",
              "0       4000000         22.876230         09-12-1995        4300000   \n",
              "1      11000000        126.393695         25-05-1977      775398007   \n",
              "2      94000000         85.688789         30-05-2003      940335536   \n",
              "3      55000000        138.133331         06-07-1994      677945399   \n",
              "4      15000000         80.878605         15-09-1999      356296601   \n",
              "\n",
              "   Movie_Runtime  Movie_Vote  ...  \\\n",
              "0           98.0         6.5  ...   \n",
              "1          121.0         8.1  ...   \n",
              "2          100.0         7.6  ...   \n",
              "3          142.0         8.2  ...   \n",
              "4          122.0         7.9  ...   \n",
              "\n",
              "                                      Movie_Homepage  \\\n",
              "0                                                NaN   \n",
              "1  http://www.starwars.com/films/star-wars-episod...   \n",
              "2              http://movies.disney.com/finding-nemo   \n",
              "3                                                NaN   \n",
              "4                      http://www.dreamworks.com/ab/   \n",
              "\n",
              "                                      Movie_Keywords  \\\n",
              "0          hotel new year's eve witch bet hotel room   \n",
              "1        android galaxy hermit death star lightsaber   \n",
              "2  father son relationship harbor underwater fish...   \n",
              "3  vietnam veteran hippie mentally disabled runni...   \n",
              "4  male nudity female nudity adultery midlife cri...   \n",
              "\n",
              "                                      Movie_Overview  \\\n",
              "0  It's Ted the Bellhop's first night on the job....   \n",
              "1  Princess Leia is captured and held hostage by ...   \n",
              "2  Nemo, an adventurous young clownfish, is unexp...   \n",
              "3  A man with a low IQ has accomplished great thi...   \n",
              "4  Lester Burnham, a depressed suburban father in...   \n",
              "\n",
              "                              Movie_Production_House  \\\n",
              "0  [{\"name\": \"Miramax Films\", \"id\": 14}, {\"name\":...   \n",
              "1  [{\"name\": \"Lucasfilm\", \"id\": 1}, {\"name\": \"Twe...   \n",
              "2     [{\"name\": \"Pixar Animation Studios\", \"id\": 3}]   \n",
              "3          [{\"name\": \"Paramount Pictures\", \"id\": 4}]   \n",
              "4  [{\"name\": \"DreamWorks SKG\", \"id\": 27}, {\"name\"...   \n",
              "\n",
              "                            Movie_Production_Country  \\\n",
              "0  [{\"iso_3166_1\": \"US\", \"name\": \"United States o...   \n",
              "1  [{\"iso_3166_1\": \"US\", \"name\": \"United States o...   \n",
              "2  [{\"iso_3166_1\": \"US\", \"name\": \"United States o...   \n",
              "3  [{\"iso_3166_1\": \"US\", \"name\": \"United States o...   \n",
              "4  [{\"iso_3166_1\": \"US\", \"name\": \"United States o...   \n",
              "\n",
              "                      Movie_Spoken_Language  \\\n",
              "0  [{\"iso_639_1\": \"en\", \"name\": \"English\"}]   \n",
              "1  [{\"iso_639_1\": \"en\", \"name\": \"English\"}]   \n",
              "2  [{\"iso_639_1\": \"en\", \"name\": \"English\"}]   \n",
              "3  [{\"iso_639_1\": \"en\", \"name\": \"English\"}]   \n",
              "4  [{\"iso_639_1\": \"en\", \"name\": \"English\"}]   \n",
              "\n",
              "                                       Movie_Tagline  \\\n",
              "0  Twelve outrageous guests. Four scandalous requ...   \n",
              "1       A long time ago in a galaxy far, far away...   \n",
              "2  There are 3.7 trillion fish in the ocean, they...   \n",
              "3  The world will never be the same, once you've ...   \n",
              "4                                       Look closer.   \n",
              "\n",
              "                                          Movie_Cast  \\\n",
              "0  Tim Roth Antonio Banderas Jennifer Beals Madon...   \n",
              "1  Mark Hamill Harrison Ford Carrie Fisher Peter ...   \n",
              "2  Albert Brooks Ellen DeGeneres Alexander Gould ...   \n",
              "3  Tom Hanks Robin Wright Gary Sinise Mykelti Wil...   \n",
              "4  Kevin Spacey Annette Bening Thora Birch Wes Be...   \n",
              "\n",
              "                                          Movie_Crew   Movie_Director  \n",
              "0  [{'name': 'Allison Anders', 'gender': 1, 'depa...   Allison Anders  \n",
              "1  [{'name': 'George Lucas', 'gender': 2, 'depart...     George Lucas  \n",
              "2  [{'name': 'Andrew Stanton', 'gender': 2, 'depa...   Andrew Stanton  \n",
              "3  [{'name': 'Alan Silvestri', 'gender': 2, 'depa...  Robert Zemeckis  \n",
              "4  [{'name': 'Thomas Newman', 'gender': 2, 'depar...       Sam Mendes  \n",
              "\n",
              "[5 rows x 21 columns]"
            ],
            "text/html": [
              "\n",
              "  <div id=\"df-dbd37377-10c9-4afd-b951-99e643b429c2\" class=\"colab-df-container\">\n",
              "    <div>\n",
              "<style scoped>\n",
              "    .dataframe tbody tr th:only-of-type {\n",
              "        vertical-align: middle;\n",
              "    }\n",
              "\n",
              "    .dataframe tbody tr th {\n",
              "        vertical-align: top;\n",
              "    }\n",
              "\n",
              "    .dataframe thead th {\n",
              "        text-align: right;\n",
              "    }\n",
              "</style>\n",
              "<table border=\"1\" class=\"dataframe\">\n",
              "  <thead>\n",
              "    <tr style=\"text-align: right;\">\n",
              "      <th></th>\n",
              "      <th>Movie_ID</th>\n",
              "      <th>Movie_Title</th>\n",
              "      <th>Movie_Genre</th>\n",
              "      <th>Movie_Language</th>\n",
              "      <th>Movie_Budget</th>\n",
              "      <th>Movie_Popularity</th>\n",
              "      <th>Movie_Release_Date</th>\n",
              "      <th>Movie_Revenue</th>\n",
              "      <th>Movie_Runtime</th>\n",
              "      <th>Movie_Vote</th>\n",
              "      <th>...</th>\n",
              "      <th>Movie_Homepage</th>\n",
              "      <th>Movie_Keywords</th>\n",
              "      <th>Movie_Overview</th>\n",
              "      <th>Movie_Production_House</th>\n",
              "      <th>Movie_Production_Country</th>\n",
              "      <th>Movie_Spoken_Language</th>\n",
              "      <th>Movie_Tagline</th>\n",
              "      <th>Movie_Cast</th>\n",
              "      <th>Movie_Crew</th>\n",
              "      <th>Movie_Director</th>\n",
              "    </tr>\n",
              "  </thead>\n",
              "  <tbody>\n",
              "    <tr>\n",
              "      <th>0</th>\n",
              "      <td>1</td>\n",
              "      <td>Four Rooms</td>\n",
              "      <td>Crime Comedy</td>\n",
              "      <td>en</td>\n",
              "      <td>4000000</td>\n",
              "      <td>22.876230</td>\n",
              "      <td>09-12-1995</td>\n",
              "      <td>4300000</td>\n",
              "      <td>98.0</td>\n",
              "      <td>6.5</td>\n",
              "      <td>...</td>\n",
              "      <td>NaN</td>\n",
              "      <td>hotel new year's eve witch bet hotel room</td>\n",
              "      <td>It's Ted the Bellhop's first night on the job....</td>\n",
              "      <td>[{\"name\": \"Miramax Films\", \"id\": 14}, {\"name\":...</td>\n",
              "      <td>[{\"iso_3166_1\": \"US\", \"name\": \"United States o...</td>\n",
              "      <td>[{\"iso_639_1\": \"en\", \"name\": \"English\"}]</td>\n",
              "      <td>Twelve outrageous guests. Four scandalous requ...</td>\n",
              "      <td>Tim Roth Antonio Banderas Jennifer Beals Madon...</td>\n",
              "      <td>[{'name': 'Allison Anders', 'gender': 1, 'depa...</td>\n",
              "      <td>Allison Anders</td>\n",
              "    </tr>\n",
              "    <tr>\n",
              "      <th>1</th>\n",
              "      <td>2</td>\n",
              "      <td>Star Wars</td>\n",
              "      <td>Adventure Action Science Fiction</td>\n",
              "      <td>en</td>\n",
              "      <td>11000000</td>\n",
              "      <td>126.393695</td>\n",
              "      <td>25-05-1977</td>\n",
              "      <td>775398007</td>\n",
              "      <td>121.0</td>\n",
              "      <td>8.1</td>\n",
              "      <td>...</td>\n",
              "      <td>http://www.starwars.com/films/star-wars-episod...</td>\n",
              "      <td>android galaxy hermit death star lightsaber</td>\n",
              "      <td>Princess Leia is captured and held hostage by ...</td>\n",
              "      <td>[{\"name\": \"Lucasfilm\", \"id\": 1}, {\"name\": \"Twe...</td>\n",
              "      <td>[{\"iso_3166_1\": \"US\", \"name\": \"United States o...</td>\n",
              "      <td>[{\"iso_639_1\": \"en\", \"name\": \"English\"}]</td>\n",
              "      <td>A long time ago in a galaxy far, far away...</td>\n",
              "      <td>Mark Hamill Harrison Ford Carrie Fisher Peter ...</td>\n",
              "      <td>[{'name': 'George Lucas', 'gender': 2, 'depart...</td>\n",
              "      <td>George Lucas</td>\n",
              "    </tr>\n",
              "    <tr>\n",
              "      <th>2</th>\n",
              "      <td>3</td>\n",
              "      <td>Finding Nemo</td>\n",
              "      <td>Animation Family</td>\n",
              "      <td>en</td>\n",
              "      <td>94000000</td>\n",
              "      <td>85.688789</td>\n",
              "      <td>30-05-2003</td>\n",
              "      <td>940335536</td>\n",
              "      <td>100.0</td>\n",
              "      <td>7.6</td>\n",
              "      <td>...</td>\n",
              "      <td>http://movies.disney.com/finding-nemo</td>\n",
              "      <td>father son relationship harbor underwater fish...</td>\n",
              "      <td>Nemo, an adventurous young clownfish, is unexp...</td>\n",
              "      <td>[{\"name\": \"Pixar Animation Studios\", \"id\": 3}]</td>\n",
              "      <td>[{\"iso_3166_1\": \"US\", \"name\": \"United States o...</td>\n",
              "      <td>[{\"iso_639_1\": \"en\", \"name\": \"English\"}]</td>\n",
              "      <td>There are 3.7 trillion fish in the ocean, they...</td>\n",
              "      <td>Albert Brooks Ellen DeGeneres Alexander Gould ...</td>\n",
              "      <td>[{'name': 'Andrew Stanton', 'gender': 2, 'depa...</td>\n",
              "      <td>Andrew Stanton</td>\n",
              "    </tr>\n",
              "    <tr>\n",
              "      <th>3</th>\n",
              "      <td>4</td>\n",
              "      <td>Forrest Gump</td>\n",
              "      <td>Comedy Drama Romance</td>\n",
              "      <td>en</td>\n",
              "      <td>55000000</td>\n",
              "      <td>138.133331</td>\n",
              "      <td>06-07-1994</td>\n",
              "      <td>677945399</td>\n",
              "      <td>142.0</td>\n",
              "      <td>8.2</td>\n",
              "      <td>...</td>\n",
              "      <td>NaN</td>\n",
              "      <td>vietnam veteran hippie mentally disabled runni...</td>\n",
              "      <td>A man with a low IQ has accomplished great thi...</td>\n",
              "      <td>[{\"name\": \"Paramount Pictures\", \"id\": 4}]</td>\n",
              "      <td>[{\"iso_3166_1\": \"US\", \"name\": \"United States o...</td>\n",
              "      <td>[{\"iso_639_1\": \"en\", \"name\": \"English\"}]</td>\n",
              "      <td>The world will never be the same, once you've ...</td>\n",
              "      <td>Tom Hanks Robin Wright Gary Sinise Mykelti Wil...</td>\n",
              "      <td>[{'name': 'Alan Silvestri', 'gender': 2, 'depa...</td>\n",
              "      <td>Robert Zemeckis</td>\n",
              "    </tr>\n",
              "    <tr>\n",
              "      <th>4</th>\n",
              "      <td>5</td>\n",
              "      <td>American Beauty</td>\n",
              "      <td>Drama</td>\n",
              "      <td>en</td>\n",
              "      <td>15000000</td>\n",
              "      <td>80.878605</td>\n",
              "      <td>15-09-1999</td>\n",
              "      <td>356296601</td>\n",
              "      <td>122.0</td>\n",
              "      <td>7.9</td>\n",
              "      <td>...</td>\n",
              "      <td>http://www.dreamworks.com/ab/</td>\n",
              "      <td>male nudity female nudity adultery midlife cri...</td>\n",
              "      <td>Lester Burnham, a depressed suburban father in...</td>\n",
              "      <td>[{\"name\": \"DreamWorks SKG\", \"id\": 27}, {\"name\"...</td>\n",
              "      <td>[{\"iso_3166_1\": \"US\", \"name\": \"United States o...</td>\n",
              "      <td>[{\"iso_639_1\": \"en\", \"name\": \"English\"}]</td>\n",
              "      <td>Look closer.</td>\n",
              "      <td>Kevin Spacey Annette Bening Thora Birch Wes Be...</td>\n",
              "      <td>[{'name': 'Thomas Newman', 'gender': 2, 'depar...</td>\n",
              "      <td>Sam Mendes</td>\n",
              "    </tr>\n",
              "  </tbody>\n",
              "</table>\n",
              "<p>5 rows × 21 columns</p>\n",
              "</div>\n",
              "    <div class=\"colab-df-buttons\">\n",
              "\n",
              "  <div class=\"colab-df-container\">\n",
              "    <button class=\"colab-df-convert\" onclick=\"convertToInteractive('df-dbd37377-10c9-4afd-b951-99e643b429c2')\"\n",
              "            title=\"Convert this dataframe to an interactive table.\"\n",
              "            style=\"display:none;\">\n",
              "\n",
              "  <svg xmlns=\"http://www.w3.org/2000/svg\" height=\"24px\" viewBox=\"0 -960 960 960\">\n",
              "    <path d=\"M120-120v-720h720v720H120Zm60-500h600v-160H180v160Zm220 220h160v-160H400v160Zm0 220h160v-160H400v160ZM180-400h160v-160H180v160Zm440 0h160v-160H620v160ZM180-180h160v-160H180v160Zm440 0h160v-160H620v160Z\"/>\n",
              "  </svg>\n",
              "    </button>\n",
              "\n",
              "  <style>\n",
              "    .colab-df-container {\n",
              "      display:flex;\n",
              "      gap: 12px;\n",
              "    }\n",
              "\n",
              "    .colab-df-convert {\n",
              "      background-color: #E8F0FE;\n",
              "      border: none;\n",
              "      border-radius: 50%;\n",
              "      cursor: pointer;\n",
              "      display: none;\n",
              "      fill: #1967D2;\n",
              "      height: 32px;\n",
              "      padding: 0 0 0 0;\n",
              "      width: 32px;\n",
              "    }\n",
              "\n",
              "    .colab-df-convert:hover {\n",
              "      background-color: #E2EBFA;\n",
              "      box-shadow: 0px 1px 2px rgba(60, 64, 67, 0.3), 0px 1px 3px 1px rgba(60, 64, 67, 0.15);\n",
              "      fill: #174EA6;\n",
              "    }\n",
              "\n",
              "    .colab-df-buttons div {\n",
              "      margin-bottom: 4px;\n",
              "    }\n",
              "\n",
              "    [theme=dark] .colab-df-convert {\n",
              "      background-color: #3B4455;\n",
              "      fill: #D2E3FC;\n",
              "    }\n",
              "\n",
              "    [theme=dark] .colab-df-convert:hover {\n",
              "      background-color: #434B5C;\n",
              "      box-shadow: 0px 1px 3px 1px rgba(0, 0, 0, 0.15);\n",
              "      filter: drop-shadow(0px 1px 2px rgba(0, 0, 0, 0.3));\n",
              "      fill: #FFFFFF;\n",
              "    }\n",
              "  </style>\n",
              "\n",
              "    <script>\n",
              "      const buttonEl =\n",
              "        document.querySelector('#df-dbd37377-10c9-4afd-b951-99e643b429c2 button.colab-df-convert');\n",
              "      buttonEl.style.display =\n",
              "        google.colab.kernel.accessAllowed ? 'block' : 'none';\n",
              "\n",
              "      async function convertToInteractive(key) {\n",
              "        const element = document.querySelector('#df-dbd37377-10c9-4afd-b951-99e643b429c2');\n",
              "        const dataTable =\n",
              "          await google.colab.kernel.invokeFunction('convertToInteractive',\n",
              "                                                    [key], {});\n",
              "        if (!dataTable) return;\n",
              "\n",
              "        const docLinkHtml = 'Like what you see? Visit the ' +\n",
              "          '<a target=\"_blank\" href=https://colab.research.google.com/notebooks/data_table.ipynb>data table notebook</a>'\n",
              "          + ' to learn more about interactive tables.';\n",
              "        element.innerHTML = '';\n",
              "        dataTable['output_type'] = 'display_data';\n",
              "        await google.colab.output.renderOutput(dataTable, element);\n",
              "        const docLink = document.createElement('div');\n",
              "        docLink.innerHTML = docLinkHtml;\n",
              "        element.appendChild(docLink);\n",
              "      }\n",
              "    </script>\n",
              "  </div>\n",
              "\n",
              "\n",
              "<div id=\"df-db7bad2c-06a4-4857-b6e8-8122b8a53da0\">\n",
              "  <button class=\"colab-df-quickchart\" onclick=\"quickchart('df-db7bad2c-06a4-4857-b6e8-8122b8a53da0')\"\n",
              "            title=\"Suggest charts.\"\n",
              "            style=\"display:none;\">\n",
              "\n",
              "<svg xmlns=\"http://www.w3.org/2000/svg\" height=\"24px\"viewBox=\"0 0 24 24\"\n",
              "     width=\"24px\">\n",
              "    <g>\n",
              "        <path d=\"M19 3H5c-1.1 0-2 .9-2 2v14c0 1.1.9 2 2 2h14c1.1 0 2-.9 2-2V5c0-1.1-.9-2-2-2zM9 17H7v-7h2v7zm4 0h-2V7h2v10zm4 0h-2v-4h2v4z\"/>\n",
              "    </g>\n",
              "</svg>\n",
              "  </button>\n",
              "\n",
              "<style>\n",
              "  .colab-df-quickchart {\n",
              "      --bg-color: #E8F0FE;\n",
              "      --fill-color: #1967D2;\n",
              "      --hover-bg-color: #E2EBFA;\n",
              "      --hover-fill-color: #174EA6;\n",
              "      --disabled-fill-color: #AAA;\n",
              "      --disabled-bg-color: #DDD;\n",
              "  }\n",
              "\n",
              "  [theme=dark] .colab-df-quickchart {\n",
              "      --bg-color: #3B4455;\n",
              "      --fill-color: #D2E3FC;\n",
              "      --hover-bg-color: #434B5C;\n",
              "      --hover-fill-color: #FFFFFF;\n",
              "      --disabled-bg-color: #3B4455;\n",
              "      --disabled-fill-color: #666;\n",
              "  }\n",
              "\n",
              "  .colab-df-quickchart {\n",
              "    background-color: var(--bg-color);\n",
              "    border: none;\n",
              "    border-radius: 50%;\n",
              "    cursor: pointer;\n",
              "    display: none;\n",
              "    fill: var(--fill-color);\n",
              "    height: 32px;\n",
              "    padding: 0;\n",
              "    width: 32px;\n",
              "  }\n",
              "\n",
              "  .colab-df-quickchart:hover {\n",
              "    background-color: var(--hover-bg-color);\n",
              "    box-shadow: 0 1px 2px rgba(60, 64, 67, 0.3), 0 1px 3px 1px rgba(60, 64, 67, 0.15);\n",
              "    fill: var(--button-hover-fill-color);\n",
              "  }\n",
              "\n",
              "  .colab-df-quickchart-complete:disabled,\n",
              "  .colab-df-quickchart-complete:disabled:hover {\n",
              "    background-color: var(--disabled-bg-color);\n",
              "    fill: var(--disabled-fill-color);\n",
              "    box-shadow: none;\n",
              "  }\n",
              "\n",
              "  .colab-df-spinner {\n",
              "    border: 2px solid var(--fill-color);\n",
              "    border-color: transparent;\n",
              "    border-bottom-color: var(--fill-color);\n",
              "    animation:\n",
              "      spin 1s steps(1) infinite;\n",
              "  }\n",
              "\n",
              "  @keyframes spin {\n",
              "    0% {\n",
              "      border-color: transparent;\n",
              "      border-bottom-color: var(--fill-color);\n",
              "      border-left-color: var(--fill-color);\n",
              "    }\n",
              "    20% {\n",
              "      border-color: transparent;\n",
              "      border-left-color: var(--fill-color);\n",
              "      border-top-color: var(--fill-color);\n",
              "    }\n",
              "    30% {\n",
              "      border-color: transparent;\n",
              "      border-left-color: var(--fill-color);\n",
              "      border-top-color: var(--fill-color);\n",
              "      border-right-color: var(--fill-color);\n",
              "    }\n",
              "    40% {\n",
              "      border-color: transparent;\n",
              "      border-right-color: var(--fill-color);\n",
              "      border-top-color: var(--fill-color);\n",
              "    }\n",
              "    60% {\n",
              "      border-color: transparent;\n",
              "      border-right-color: var(--fill-color);\n",
              "    }\n",
              "    80% {\n",
              "      border-color: transparent;\n",
              "      border-right-color: var(--fill-color);\n",
              "      border-bottom-color: var(--fill-color);\n",
              "    }\n",
              "    90% {\n",
              "      border-color: transparent;\n",
              "      border-bottom-color: var(--fill-color);\n",
              "    }\n",
              "  }\n",
              "</style>\n",
              "\n",
              "  <script>\n",
              "    async function quickchart(key) {\n",
              "      const quickchartButtonEl =\n",
              "        document.querySelector('#' + key + ' button');\n",
              "      quickchartButtonEl.disabled = true;  // To prevent multiple clicks.\n",
              "      quickchartButtonEl.classList.add('colab-df-spinner');\n",
              "      try {\n",
              "        const charts = await google.colab.kernel.invokeFunction(\n",
              "            'suggestCharts', [key], {});\n",
              "      } catch (error) {\n",
              "        console.error('Error during call to suggestCharts:', error);\n",
              "      }\n",
              "      quickchartButtonEl.classList.remove('colab-df-spinner');\n",
              "      quickchartButtonEl.classList.add('colab-df-quickchart-complete');\n",
              "    }\n",
              "    (() => {\n",
              "      let quickchartButtonEl =\n",
              "        document.querySelector('#df-db7bad2c-06a4-4857-b6e8-8122b8a53da0 button');\n",
              "      quickchartButtonEl.style.display =\n",
              "        google.colab.kernel.accessAllowed ? 'block' : 'none';\n",
              "    })();\n",
              "  </script>\n",
              "</div>\n",
              "    </div>\n",
              "  </div>\n"
            ]
          },
          "metadata": {},
          "execution_count": 4
        }
      ]
    },
    {
      "cell_type": "code",
      "source": [
        "df.info()"
      ],
      "metadata": {
        "colab": {
          "base_uri": "https://localhost:8080/"
        },
        "id": "PySf-Wb7Dl6A",
        "outputId": "8bd8cac1-5452-4021-84af-e268e8fba028"
      },
      "execution_count": null,
      "outputs": [
        {
          "output_type": "stream",
          "name": "stdout",
          "text": [
            "<class 'pandas.core.frame.DataFrame'>\n",
            "RangeIndex: 4760 entries, 0 to 4759\n",
            "Data columns (total 21 columns):\n",
            " #   Column                    Non-Null Count  Dtype  \n",
            "---  ------                    --------------  -----  \n",
            " 0   Movie_ID                  4760 non-null   int64  \n",
            " 1   Movie_Title               4760 non-null   object \n",
            " 2   Movie_Genre               4760 non-null   object \n",
            " 3   Movie_Language            4760 non-null   object \n",
            " 4   Movie_Budget              4760 non-null   int64  \n",
            " 5   Movie_Popularity          4760 non-null   float64\n",
            " 6   Movie_Release_Date        4760 non-null   object \n",
            " 7   Movie_Revenue             4760 non-null   int64  \n",
            " 8   Movie_Runtime             4758 non-null   float64\n",
            " 9   Movie_Vote                4760 non-null   float64\n",
            " 10  Movie_Vote_Count          4760 non-null   int64  \n",
            " 11  Movie_Homepage            1699 non-null   object \n",
            " 12  Movie_Keywords            4373 non-null   object \n",
            " 13  Movie_Overview            4757 non-null   object \n",
            " 14  Movie_Production_House    4760 non-null   object \n",
            " 15  Movie_Production_Country  4760 non-null   object \n",
            " 16  Movie_Spoken_Language     4760 non-null   object \n",
            " 17  Movie_Tagline             3942 non-null   object \n",
            " 18  Movie_Cast                4733 non-null   object \n",
            " 19  Movie_Crew                4760 non-null   object \n",
            " 20  Movie_Director            4738 non-null   object \n",
            "dtypes: float64(3), int64(4), object(14)\n",
            "memory usage: 781.1+ KB\n"
          ]
        }
      ]
    },
    {
      "cell_type": "code",
      "source": [
        "df.shape"
      ],
      "metadata": {
        "colab": {
          "base_uri": "https://localhost:8080/"
        },
        "id": "j3EEFBihDvsx",
        "outputId": "8c9d8fca-ef40-4f72-f350-acf1fec8ef4b"
      },
      "execution_count": null,
      "outputs": [
        {
          "output_type": "execute_result",
          "data": {
            "text/plain": [
              "(4760, 21)"
            ]
          },
          "metadata": {},
          "execution_count": 6
        }
      ]
    },
    {
      "cell_type": "code",
      "source": [
        "df.columns"
      ],
      "metadata": {
        "colab": {
          "base_uri": "https://localhost:8080/"
        },
        "id": "hHzp_mmxD1lT",
        "outputId": "5a1d69d5-9c22-4bd6-9cad-fa3f28534790"
      },
      "execution_count": null,
      "outputs": [
        {
          "output_type": "execute_result",
          "data": {
            "text/plain": [
              "Index(['Movie_ID', 'Movie_Title', 'Movie_Genre', 'Movie_Language',\n",
              "       'Movie_Budget', 'Movie_Popularity', 'Movie_Release_Date',\n",
              "       'Movie_Revenue', 'Movie_Runtime', 'Movie_Vote', 'Movie_Vote_Count',\n",
              "       'Movie_Homepage', 'Movie_Keywords', 'Movie_Overview',\n",
              "       'Movie_Production_House', 'Movie_Production_Country',\n",
              "       'Movie_Spoken_Language', 'Movie_Tagline', 'Movie_Cast', 'Movie_Crew',\n",
              "       'Movie_Director'],\n",
              "      dtype='object')"
            ]
          },
          "metadata": {},
          "execution_count": 7
        }
      ]
    },
    {
      "cell_type": "code",
      "source": [
        "df_features = df[['Movie_Genre','Movie_Keywords','Movie_Tagline','Movie_Cast','Movie_Director']].fillna('')"
      ],
      "metadata": {
        "id": "RESvmsTuD1Zp"
      },
      "execution_count": null,
      "outputs": []
    },
    {
      "cell_type": "code",
      "source": [
        "df_features.shape"
      ],
      "metadata": {
        "colab": {
          "base_uri": "https://localhost:8080/"
        },
        "id": "XvVky2cyEv4p",
        "outputId": "4f969405-2f47-47f8-acad-99c7b8571879"
      },
      "execution_count": null,
      "outputs": [
        {
          "output_type": "execute_result",
          "data": {
            "text/plain": [
              "(4760, 5)"
            ]
          },
          "metadata": {},
          "execution_count": 10
        }
      ]
    },
    {
      "cell_type": "code",
      "source": [
        "df_features"
      ],
      "metadata": {
        "colab": {
          "base_uri": "https://localhost:8080/",
          "height": 684
        },
        "id": "vPvTfejAE2Ez",
        "outputId": "95452019-8d1f-4acc-bbfd-f9d1d34cba0a"
      },
      "execution_count": null,
      "outputs": [
        {
          "output_type": "execute_result",
          "data": {
            "text/plain": [
              "                           Movie_Genre  \\\n",
              "0                         Crime Comedy   \n",
              "1     Adventure Action Science Fiction   \n",
              "2                     Animation Family   \n",
              "3                 Comedy Drama Romance   \n",
              "4                                Drama   \n",
              "...                                ...   \n",
              "4755                            Horror   \n",
              "4756               Comedy Family Drama   \n",
              "4757                    Thriller Drama   \n",
              "4758                            Family   \n",
              "4759                       Documentary   \n",
              "\n",
              "                                         Movie_Keywords  \\\n",
              "0             hotel new year's eve witch bet hotel room   \n",
              "1           android galaxy hermit death star lightsaber   \n",
              "2     father son relationship harbor underwater fish...   \n",
              "3     vietnam veteran hippie mentally disabled runni...   \n",
              "4     male nudity female nudity adultery midlife cri...   \n",
              "...                                                 ...   \n",
              "4755                                                      \n",
              "4756                                                      \n",
              "4757                     christian film sex trafficking   \n",
              "4758                                                      \n",
              "4759  music actors legendary perfomer classic hollyw...   \n",
              "\n",
              "                                          Movie_Tagline  \\\n",
              "0     Twelve outrageous guests. Four scandalous requ...   \n",
              "1          A long time ago in a galaxy far, far away...   \n",
              "2     There are 3.7 trillion fish in the ocean, they...   \n",
              "3     The world will never be the same, once you've ...   \n",
              "4                                          Look closer.   \n",
              "...                                                 ...   \n",
              "4755                The hot spot where Satan's waitin'.   \n",
              "4756           It’s better to stand out than to fit in.   \n",
              "4757           She never knew it could happen to her...   \n",
              "4758                                                      \n",
              "4759                                                      \n",
              "\n",
              "                                             Movie_Cast     Movie_Director  \n",
              "0     Tim Roth Antonio Banderas Jennifer Beals Madon...     Allison Anders  \n",
              "1     Mark Hamill Harrison Ford Carrie Fisher Peter ...       George Lucas  \n",
              "2     Albert Brooks Ellen DeGeneres Alexander Gould ...     Andrew Stanton  \n",
              "3     Tom Hanks Robin Wright Gary Sinise Mykelti Wil...    Robert Zemeckis  \n",
              "4     Kevin Spacey Annette Bening Thora Birch Wes Be...         Sam Mendes  \n",
              "...                                                 ...                ...  \n",
              "4755  Lisa Hart Carroll Michael Des Barres Paul Drak...         Pece Dingo  \n",
              "4756  Roni Akurati Brighton Sharbino Jason Lee Anjul...       Frank Lotito  \n",
              "4757  Nicole Smolen Kim Baldwin Ariana Stephens Brys...       Jaco Booyens  \n",
              "4758                                                                        \n",
              "4759                                    Tony Oppedisano  Simon Napier-Bell  \n",
              "\n",
              "[4760 rows x 5 columns]"
            ],
            "text/html": [
              "\n",
              "  <div id=\"df-5810fdcc-2f5d-479d-96bb-ab2817c989f7\" class=\"colab-df-container\">\n",
              "    <div>\n",
              "<style scoped>\n",
              "    .dataframe tbody tr th:only-of-type {\n",
              "        vertical-align: middle;\n",
              "    }\n",
              "\n",
              "    .dataframe tbody tr th {\n",
              "        vertical-align: top;\n",
              "    }\n",
              "\n",
              "    .dataframe thead th {\n",
              "        text-align: right;\n",
              "    }\n",
              "</style>\n",
              "<table border=\"1\" class=\"dataframe\">\n",
              "  <thead>\n",
              "    <tr style=\"text-align: right;\">\n",
              "      <th></th>\n",
              "      <th>Movie_Genre</th>\n",
              "      <th>Movie_Keywords</th>\n",
              "      <th>Movie_Tagline</th>\n",
              "      <th>Movie_Cast</th>\n",
              "      <th>Movie_Director</th>\n",
              "    </tr>\n",
              "  </thead>\n",
              "  <tbody>\n",
              "    <tr>\n",
              "      <th>0</th>\n",
              "      <td>Crime Comedy</td>\n",
              "      <td>hotel new year's eve witch bet hotel room</td>\n",
              "      <td>Twelve outrageous guests. Four scandalous requ...</td>\n",
              "      <td>Tim Roth Antonio Banderas Jennifer Beals Madon...</td>\n",
              "      <td>Allison Anders</td>\n",
              "    </tr>\n",
              "    <tr>\n",
              "      <th>1</th>\n",
              "      <td>Adventure Action Science Fiction</td>\n",
              "      <td>android galaxy hermit death star lightsaber</td>\n",
              "      <td>A long time ago in a galaxy far, far away...</td>\n",
              "      <td>Mark Hamill Harrison Ford Carrie Fisher Peter ...</td>\n",
              "      <td>George Lucas</td>\n",
              "    </tr>\n",
              "    <tr>\n",
              "      <th>2</th>\n",
              "      <td>Animation Family</td>\n",
              "      <td>father son relationship harbor underwater fish...</td>\n",
              "      <td>There are 3.7 trillion fish in the ocean, they...</td>\n",
              "      <td>Albert Brooks Ellen DeGeneres Alexander Gould ...</td>\n",
              "      <td>Andrew Stanton</td>\n",
              "    </tr>\n",
              "    <tr>\n",
              "      <th>3</th>\n",
              "      <td>Comedy Drama Romance</td>\n",
              "      <td>vietnam veteran hippie mentally disabled runni...</td>\n",
              "      <td>The world will never be the same, once you've ...</td>\n",
              "      <td>Tom Hanks Robin Wright Gary Sinise Mykelti Wil...</td>\n",
              "      <td>Robert Zemeckis</td>\n",
              "    </tr>\n",
              "    <tr>\n",
              "      <th>4</th>\n",
              "      <td>Drama</td>\n",
              "      <td>male nudity female nudity adultery midlife cri...</td>\n",
              "      <td>Look closer.</td>\n",
              "      <td>Kevin Spacey Annette Bening Thora Birch Wes Be...</td>\n",
              "      <td>Sam Mendes</td>\n",
              "    </tr>\n",
              "    <tr>\n",
              "      <th>...</th>\n",
              "      <td>...</td>\n",
              "      <td>...</td>\n",
              "      <td>...</td>\n",
              "      <td>...</td>\n",
              "      <td>...</td>\n",
              "    </tr>\n",
              "    <tr>\n",
              "      <th>4755</th>\n",
              "      <td>Horror</td>\n",
              "      <td></td>\n",
              "      <td>The hot spot where Satan's waitin'.</td>\n",
              "      <td>Lisa Hart Carroll Michael Des Barres Paul Drak...</td>\n",
              "      <td>Pece Dingo</td>\n",
              "    </tr>\n",
              "    <tr>\n",
              "      <th>4756</th>\n",
              "      <td>Comedy Family Drama</td>\n",
              "      <td></td>\n",
              "      <td>It’s better to stand out than to fit in.</td>\n",
              "      <td>Roni Akurati Brighton Sharbino Jason Lee Anjul...</td>\n",
              "      <td>Frank Lotito</td>\n",
              "    </tr>\n",
              "    <tr>\n",
              "      <th>4757</th>\n",
              "      <td>Thriller Drama</td>\n",
              "      <td>christian film sex trafficking</td>\n",
              "      <td>She never knew it could happen to her...</td>\n",
              "      <td>Nicole Smolen Kim Baldwin Ariana Stephens Brys...</td>\n",
              "      <td>Jaco Booyens</td>\n",
              "    </tr>\n",
              "    <tr>\n",
              "      <th>4758</th>\n",
              "      <td>Family</td>\n",
              "      <td></td>\n",
              "      <td></td>\n",
              "      <td></td>\n",
              "      <td></td>\n",
              "    </tr>\n",
              "    <tr>\n",
              "      <th>4759</th>\n",
              "      <td>Documentary</td>\n",
              "      <td>music actors legendary perfomer classic hollyw...</td>\n",
              "      <td></td>\n",
              "      <td>Tony Oppedisano</td>\n",
              "      <td>Simon Napier-Bell</td>\n",
              "    </tr>\n",
              "  </tbody>\n",
              "</table>\n",
              "<p>4760 rows × 5 columns</p>\n",
              "</div>\n",
              "    <div class=\"colab-df-buttons\">\n",
              "\n",
              "  <div class=\"colab-df-container\">\n",
              "    <button class=\"colab-df-convert\" onclick=\"convertToInteractive('df-5810fdcc-2f5d-479d-96bb-ab2817c989f7')\"\n",
              "            title=\"Convert this dataframe to an interactive table.\"\n",
              "            style=\"display:none;\">\n",
              "\n",
              "  <svg xmlns=\"http://www.w3.org/2000/svg\" height=\"24px\" viewBox=\"0 -960 960 960\">\n",
              "    <path d=\"M120-120v-720h720v720H120Zm60-500h600v-160H180v160Zm220 220h160v-160H400v160Zm0 220h160v-160H400v160ZM180-400h160v-160H180v160Zm440 0h160v-160H620v160ZM180-180h160v-160H180v160Zm440 0h160v-160H620v160Z\"/>\n",
              "  </svg>\n",
              "    </button>\n",
              "\n",
              "  <style>\n",
              "    .colab-df-container {\n",
              "      display:flex;\n",
              "      gap: 12px;\n",
              "    }\n",
              "\n",
              "    .colab-df-convert {\n",
              "      background-color: #E8F0FE;\n",
              "      border: none;\n",
              "      border-radius: 50%;\n",
              "      cursor: pointer;\n",
              "      display: none;\n",
              "      fill: #1967D2;\n",
              "      height: 32px;\n",
              "      padding: 0 0 0 0;\n",
              "      width: 32px;\n",
              "    }\n",
              "\n",
              "    .colab-df-convert:hover {\n",
              "      background-color: #E2EBFA;\n",
              "      box-shadow: 0px 1px 2px rgba(60, 64, 67, 0.3), 0px 1px 3px 1px rgba(60, 64, 67, 0.15);\n",
              "      fill: #174EA6;\n",
              "    }\n",
              "\n",
              "    .colab-df-buttons div {\n",
              "      margin-bottom: 4px;\n",
              "    }\n",
              "\n",
              "    [theme=dark] .colab-df-convert {\n",
              "      background-color: #3B4455;\n",
              "      fill: #D2E3FC;\n",
              "    }\n",
              "\n",
              "    [theme=dark] .colab-df-convert:hover {\n",
              "      background-color: #434B5C;\n",
              "      box-shadow: 0px 1px 3px 1px rgba(0, 0, 0, 0.15);\n",
              "      filter: drop-shadow(0px 1px 2px rgba(0, 0, 0, 0.3));\n",
              "      fill: #FFFFFF;\n",
              "    }\n",
              "  </style>\n",
              "\n",
              "    <script>\n",
              "      const buttonEl =\n",
              "        document.querySelector('#df-5810fdcc-2f5d-479d-96bb-ab2817c989f7 button.colab-df-convert');\n",
              "      buttonEl.style.display =\n",
              "        google.colab.kernel.accessAllowed ? 'block' : 'none';\n",
              "\n",
              "      async function convertToInteractive(key) {\n",
              "        const element = document.querySelector('#df-5810fdcc-2f5d-479d-96bb-ab2817c989f7');\n",
              "        const dataTable =\n",
              "          await google.colab.kernel.invokeFunction('convertToInteractive',\n",
              "                                                    [key], {});\n",
              "        if (!dataTable) return;\n",
              "\n",
              "        const docLinkHtml = 'Like what you see? Visit the ' +\n",
              "          '<a target=\"_blank\" href=https://colab.research.google.com/notebooks/data_table.ipynb>data table notebook</a>'\n",
              "          + ' to learn more about interactive tables.';\n",
              "        element.innerHTML = '';\n",
              "        dataTable['output_type'] = 'display_data';\n",
              "        await google.colab.output.renderOutput(dataTable, element);\n",
              "        const docLink = document.createElement('div');\n",
              "        docLink.innerHTML = docLinkHtml;\n",
              "        element.appendChild(docLink);\n",
              "      }\n",
              "    </script>\n",
              "  </div>\n",
              "\n",
              "\n",
              "<div id=\"df-ad67ce46-0182-4d36-9f76-d9c4771b90d2\">\n",
              "  <button class=\"colab-df-quickchart\" onclick=\"quickchart('df-ad67ce46-0182-4d36-9f76-d9c4771b90d2')\"\n",
              "            title=\"Suggest charts.\"\n",
              "            style=\"display:none;\">\n",
              "\n",
              "<svg xmlns=\"http://www.w3.org/2000/svg\" height=\"24px\"viewBox=\"0 0 24 24\"\n",
              "     width=\"24px\">\n",
              "    <g>\n",
              "        <path d=\"M19 3H5c-1.1 0-2 .9-2 2v14c0 1.1.9 2 2 2h14c1.1 0 2-.9 2-2V5c0-1.1-.9-2-2-2zM9 17H7v-7h2v7zm4 0h-2V7h2v10zm4 0h-2v-4h2v4z\"/>\n",
              "    </g>\n",
              "</svg>\n",
              "  </button>\n",
              "\n",
              "<style>\n",
              "  .colab-df-quickchart {\n",
              "      --bg-color: #E8F0FE;\n",
              "      --fill-color: #1967D2;\n",
              "      --hover-bg-color: #E2EBFA;\n",
              "      --hover-fill-color: #174EA6;\n",
              "      --disabled-fill-color: #AAA;\n",
              "      --disabled-bg-color: #DDD;\n",
              "  }\n",
              "\n",
              "  [theme=dark] .colab-df-quickchart {\n",
              "      --bg-color: #3B4455;\n",
              "      --fill-color: #D2E3FC;\n",
              "      --hover-bg-color: #434B5C;\n",
              "      --hover-fill-color: #FFFFFF;\n",
              "      --disabled-bg-color: #3B4455;\n",
              "      --disabled-fill-color: #666;\n",
              "  }\n",
              "\n",
              "  .colab-df-quickchart {\n",
              "    background-color: var(--bg-color);\n",
              "    border: none;\n",
              "    border-radius: 50%;\n",
              "    cursor: pointer;\n",
              "    display: none;\n",
              "    fill: var(--fill-color);\n",
              "    height: 32px;\n",
              "    padding: 0;\n",
              "    width: 32px;\n",
              "  }\n",
              "\n",
              "  .colab-df-quickchart:hover {\n",
              "    background-color: var(--hover-bg-color);\n",
              "    box-shadow: 0 1px 2px rgba(60, 64, 67, 0.3), 0 1px 3px 1px rgba(60, 64, 67, 0.15);\n",
              "    fill: var(--button-hover-fill-color);\n",
              "  }\n",
              "\n",
              "  .colab-df-quickchart-complete:disabled,\n",
              "  .colab-df-quickchart-complete:disabled:hover {\n",
              "    background-color: var(--disabled-bg-color);\n",
              "    fill: var(--disabled-fill-color);\n",
              "    box-shadow: none;\n",
              "  }\n",
              "\n",
              "  .colab-df-spinner {\n",
              "    border: 2px solid var(--fill-color);\n",
              "    border-color: transparent;\n",
              "    border-bottom-color: var(--fill-color);\n",
              "    animation:\n",
              "      spin 1s steps(1) infinite;\n",
              "  }\n",
              "\n",
              "  @keyframes spin {\n",
              "    0% {\n",
              "      border-color: transparent;\n",
              "      border-bottom-color: var(--fill-color);\n",
              "      border-left-color: var(--fill-color);\n",
              "    }\n",
              "    20% {\n",
              "      border-color: transparent;\n",
              "      border-left-color: var(--fill-color);\n",
              "      border-top-color: var(--fill-color);\n",
              "    }\n",
              "    30% {\n",
              "      border-color: transparent;\n",
              "      border-left-color: var(--fill-color);\n",
              "      border-top-color: var(--fill-color);\n",
              "      border-right-color: var(--fill-color);\n",
              "    }\n",
              "    40% {\n",
              "      border-color: transparent;\n",
              "      border-right-color: var(--fill-color);\n",
              "      border-top-color: var(--fill-color);\n",
              "    }\n",
              "    60% {\n",
              "      border-color: transparent;\n",
              "      border-right-color: var(--fill-color);\n",
              "    }\n",
              "    80% {\n",
              "      border-color: transparent;\n",
              "      border-right-color: var(--fill-color);\n",
              "      border-bottom-color: var(--fill-color);\n",
              "    }\n",
              "    90% {\n",
              "      border-color: transparent;\n",
              "      border-bottom-color: var(--fill-color);\n",
              "    }\n",
              "  }\n",
              "</style>\n",
              "\n",
              "  <script>\n",
              "    async function quickchart(key) {\n",
              "      const quickchartButtonEl =\n",
              "        document.querySelector('#' + key + ' button');\n",
              "      quickchartButtonEl.disabled = true;  // To prevent multiple clicks.\n",
              "      quickchartButtonEl.classList.add('colab-df-spinner');\n",
              "      try {\n",
              "        const charts = await google.colab.kernel.invokeFunction(\n",
              "            'suggestCharts', [key], {});\n",
              "      } catch (error) {\n",
              "        console.error('Error during call to suggestCharts:', error);\n",
              "      }\n",
              "      quickchartButtonEl.classList.remove('colab-df-spinner');\n",
              "      quickchartButtonEl.classList.add('colab-df-quickchart-complete');\n",
              "    }\n",
              "    (() => {\n",
              "      let quickchartButtonEl =\n",
              "        document.querySelector('#df-ad67ce46-0182-4d36-9f76-d9c4771b90d2 button');\n",
              "      quickchartButtonEl.style.display =\n",
              "        google.colab.kernel.accessAllowed ? 'block' : 'none';\n",
              "    })();\n",
              "  </script>\n",
              "</div>\n",
              "    </div>\n",
              "  </div>\n"
            ]
          },
          "metadata": {},
          "execution_count": 11
        }
      ]
    },
    {
      "cell_type": "code",
      "source": [
        "x = df_features['Movie_Genre'] +''+ df_features['Movie_Keywords'] +''+ df_features['Movie_Tagline'] +''+df_features['Movie_Cast']"
      ],
      "metadata": {
        "id": "N5zv1j9gE8WB"
      },
      "execution_count": null,
      "outputs": []
    },
    {
      "cell_type": "code",
      "source": [
        "x\n"
      ],
      "metadata": {
        "colab": {
          "base_uri": "https://localhost:8080/"
        },
        "id": "VuAYvYbiFjQn",
        "outputId": "412d752d-2886-4a88-a9d4-2764e301bbc5"
      },
      "execution_count": null,
      "outputs": [
        {
          "output_type": "execute_result",
          "data": {
            "text/plain": [
              "0       Crime Comedyhotel new year's eve witch bet hot...\n",
              "1       Adventure Action Science Fictionandroid galaxy...\n",
              "2       Animation Familyfather son relationship harbor...\n",
              "3       Comedy Drama Romancevietnam veteran hippie men...\n",
              "4       Dramamale nudity female nudity adultery midlif...\n",
              "                              ...                        \n",
              "4755    HorrorThe hot spot where Satan's waitin'.Lisa ...\n",
              "4756    Comedy Family DramaIt’s better to stand out th...\n",
              "4757    Thriller Dramachristian film sex traffickingSh...\n",
              "4758                                               Family\n",
              "4759    Documentarymusic actors legendary perfomer cla...\n",
              "Length: 4760, dtype: object"
            ]
          },
          "metadata": {},
          "execution_count": 13
        }
      ]
    },
    {
      "cell_type": "code",
      "source": [
        "x.shape"
      ],
      "metadata": {
        "colab": {
          "base_uri": "https://localhost:8080/"
        },
        "id": "87tLAjPzFmIt",
        "outputId": "965cc237-3fe2-4961-ead3-b2439d7ab7a0"
      },
      "execution_count": null,
      "outputs": [
        {
          "output_type": "execute_result",
          "data": {
            "text/plain": [
              "(4760,)"
            ]
          },
          "metadata": {},
          "execution_count": 14
        }
      ]
    },
    {
      "cell_type": "code",
      "source": [
        "from sklearn.feature_extraction.text import TfidfVectorizer"
      ],
      "metadata": {
        "id": "vPgc4jV6FqMY"
      },
      "execution_count": null,
      "outputs": []
    },
    {
      "cell_type": "code",
      "source": [
        "tfidf = TfidfVectorizer()"
      ],
      "metadata": {
        "id": "hzaKkjFtF6D1"
      },
      "execution_count": null,
      "outputs": []
    },
    {
      "cell_type": "code",
      "source": [
        "x = tfidf.fit_transform(x)"
      ],
      "metadata": {
        "id": "NR12bshmGPQN"
      },
      "execution_count": null,
      "outputs": []
    },
    {
      "cell_type": "code",
      "source": [
        "x.shape"
      ],
      "metadata": {
        "colab": {
          "base_uri": "https://localhost:8080/"
        },
        "id": "c8k1JZL5GdZc",
        "outputId": "74837cd4-3a82-4809-e964-fec3641c9738"
      },
      "execution_count": null,
      "outputs": [
        {
          "output_type": "execute_result",
          "data": {
            "text/plain": [
              "(4760, 22603)"
            ]
          },
          "metadata": {},
          "execution_count": 23
        }
      ]
    },
    {
      "cell_type": "code",
      "source": [
        "print(x)"
      ],
      "metadata": {
        "colab": {
          "base_uri": "https://localhost:8080/"
        },
        "id": "YNtC7n8zGlS4",
        "outputId": "481c8133-d076-4ba9-b843-388fbbf8899f"
      },
      "execution_count": null,
      "outputs": [
        {
          "output_type": "stream",
          "name": "stdout",
          "text": [
            "  (0, 20467)\t0.14906342736351608\n",
            "  (0, 13008)\t0.14571364605198503\n",
            "  (0, 12769)\t0.17540130442857657\n",
            "  (0, 1837)\t0.17187907503195715\n",
            "  (0, 11078)\t0.10170054183161432\n",
            "  (0, 1658)\t0.14189658336705027\n",
            "  (0, 1108)\t0.14469795604637498\n",
            "  (0, 17412)\t0.1516048511320126\n",
            "  (0, 20394)\t0.11650302510251181\n",
            "  (0, 12311)\t0.09373309121287177\n",
            "  (0, 14828)\t0.063603237256218\n",
            "  (0, 22070)\t0.1795672175967618\n",
            "  (0, 8323)\t0.08937226263938496\n",
            "  (0, 22019)\t0.11456313539851247\n",
            "  (0, 11155)\t0.14103424469421272\n",
            "  (0, 19836)\t0.1100300147035556\n",
            "  (0, 14907)\t0.07466462373383909\n",
            "  (0, 5131)\t0.12241125011838476\n",
            "  (0, 8197)\t0.12061116513545331\n",
            "  (0, 9942)\t0.20653234419175545\n",
            "  (0, 10650)\t0.15698022954214003\n",
            "  (0, 1975)\t0.20050378534510827\n",
            "  (0, 12490)\t0.15773448546574984\n",
            "  (0, 14911)\t0.08800260845659252\n",
            "  (0, 952)\t0.07778866555146645\n",
            "  :\t:\n",
            "  (4757, 8601)\t0.2552485020174359\n",
            "  (4757, 19046)\t0.25986140527064416\n",
            "  (4757, 1619)\t0.1987967129145631\n",
            "  (4757, 4513)\t0.20958783979888088\n",
            "  (4757, 9506)\t0.22920910910002706\n",
            "  (4757, 18102)\t0.17485162538635915\n",
            "  (4757, 14566)\t0.20052434584962775\n",
            "  (4757, 8059)\t0.149869058714586\n",
            "  (4757, 11733)\t0.24753990560757003\n",
            "  (4757, 9793)\t0.18395727365326592\n",
            "  (4757, 11643)\t0.1874147026704861\n",
            "  (4757, 19934)\t0.11619088010142037\n",
            "  (4757, 20437)\t0.10354702544895061\n",
            "  (4757, 10909)\t0.1316949312240065\n",
            "  (4757, 14517)\t0.1581444091477717\n",
            "  (4758, 7293)\t1.0\n",
            "  (4759, 14940)\t0.3618349220931921\n",
            "  (4759, 18428)\t0.3618349220931921\n",
            "  (4759, 15422)\t0.3618349220931921\n",
            "  (4759, 5815)\t0.3618349220931921\n",
            "  (4759, 336)\t0.34511579557392663\n",
            "  (4759, 12168)\t0.34511579557392663\n",
            "  (4759, 10093)\t0.29981513348844296\n",
            "  (4759, 3652)\t0.30467185096075605\n",
            "  (4759, 8453)\t0.23532547858117678\n"
          ]
        }
      ]
    },
    {
      "cell_type": "code",
      "source": [
        "from sklearn.metrics.pairwise import cosine_similarity"
      ],
      "metadata": {
        "id": "UunTgYyKGyGZ"
      },
      "execution_count": null,
      "outputs": []
    },
    {
      "cell_type": "code",
      "source": [
        "similarity_Score = cosine_similarity(x)"
      ],
      "metadata": {
        "id": "6IrGjpYdGpB2"
      },
      "execution_count": null,
      "outputs": []
    },
    {
      "cell_type": "code",
      "source": [
        "similarity_Score"
      ],
      "metadata": {
        "colab": {
          "base_uri": "https://localhost:8080/"
        },
        "id": "zQ6VJUc1HDqd",
        "outputId": "07d3efc4-1951-4824-b5d5-659930c022f3"
      },
      "execution_count": null,
      "outputs": [
        {
          "output_type": "execute_result",
          "data": {
            "text/plain": [
              "array([[1.       , 0.0150772, 0.0402541, ..., 0.       , 0.       ,\n",
              "        0.       ],\n",
              "       [0.0150772, 1.       , 0.0088974, ..., 0.       , 0.       ,\n",
              "        0.       ],\n",
              "       [0.0402541, 0.0088974, 1.       , ..., 0.       , 0.       ,\n",
              "        0.       ],\n",
              "       ...,\n",
              "       [0.       , 0.       , 0.       , ..., 1.       , 0.       ,\n",
              "        0.       ],\n",
              "       [0.       , 0.       , 0.       , ..., 0.       , 1.       ,\n",
              "        0.       ],\n",
              "       [0.       , 0.       , 0.       , ..., 0.       , 0.       ,\n",
              "        1.       ]])"
            ]
          },
          "metadata": {},
          "execution_count": 27
        }
      ]
    },
    {
      "cell_type": "code",
      "source": [
        "similarity_Score.shape"
      ],
      "metadata": {
        "colab": {
          "base_uri": "https://localhost:8080/"
        },
        "id": "K_ztWzbkHIlV",
        "outputId": "8a340e88-9efe-4598-abac-57dff79cdee0"
      },
      "execution_count": null,
      "outputs": [
        {
          "output_type": "execute_result",
          "data": {
            "text/plain": [
              "(4760, 4760)"
            ]
          },
          "metadata": {},
          "execution_count": 28
        }
      ]
    },
    {
      "cell_type": "code",
      "source": [
        "Favourite_Movie_Name = input('Enter your favourite movie name :')"
      ],
      "metadata": {
        "colab": {
          "base_uri": "https://localhost:8080/"
        },
        "id": "0yWbLBxAHRRg",
        "outputId": "1d059eb0-0c59-49bc-b1f1-0478de348326"
      },
      "execution_count": null,
      "outputs": [
        {
          "name": "stdout",
          "output_type": "stream",
          "text": [
            "Enter your favourite movie name :avtaar\n"
          ]
        }
      ]
    },
    {
      "cell_type": "code",
      "source": [
        "All_Movies_Title_List = df['Movie_Title'].tolist()"
      ],
      "metadata": {
        "id": "1seSMwvZHkuo"
      },
      "execution_count": null,
      "outputs": []
    },
    {
      "cell_type": "code",
      "source": [
        "import difflib"
      ],
      "metadata": {
        "id": "dFPil0KwH4F3"
      },
      "execution_count": null,
      "outputs": []
    },
    {
      "cell_type": "code",
      "source": [
        "Movie_Recommendation = difflib.get_close_matches(Favourite_Movie_Name,All_Movies_Title_List)\n",
        "print(Movie_Recommendation)"
      ],
      "metadata": {
        "colab": {
          "base_uri": "https://localhost:8080/"
        },
        "id": "Z-dMSm1JH65v",
        "outputId": "b8b5f381-c674-432c-a1cb-b7d8affeaabe"
      },
      "execution_count": null,
      "outputs": [
        {
          "output_type": "stream",
          "name": "stdout",
          "text": [
            "['Avatar', 'Gattaca']\n"
          ]
        }
      ]
    },
    {
      "cell_type": "code",
      "source": [
        "Close_Match = Movie_Recommendation[0]\n",
        "print(Close_Match)"
      ],
      "metadata": {
        "colab": {
          "base_uri": "https://localhost:8080/"
        },
        "id": "5d4ry8TzIIax",
        "outputId": "d51b7bca-3627-4ee3-ad3e-e6f6c8963a8d"
      },
      "execution_count": null,
      "outputs": [
        {
          "output_type": "stream",
          "name": "stdout",
          "text": [
            "Avatar\n"
          ]
        }
      ]
    },
    {
      "cell_type": "code",
      "source": [
        "Index_of_Close_Match_Movie = df[df.Movie_Title == Close_Match]['Movie_ID'].values[0]\n",
        "print(Index_of_Close_Match_Movie)"
      ],
      "metadata": {
        "colab": {
          "base_uri": "https://localhost:8080/"
        },
        "id": "3OEP0QxKIhLi",
        "outputId": "61238ac6-6ac9-4341-f0ec-ca4d51e1e198"
      },
      "execution_count": null,
      "outputs": [
        {
          "output_type": "stream",
          "name": "stdout",
          "text": [
            "2692\n"
          ]
        }
      ]
    },
    {
      "cell_type": "code",
      "source": [
        "# getting a list of similar movies\n",
        "Recommendation_Score = list(enumerate(similarity_Score[Index_of_Close_Match_Movie]))\n",
        "print(Recommendation_Score)"
      ],
      "metadata": {
        "colab": {
          "base_uri": "https://localhost:8080/"
        },
        "id": "8TGEPcP-I2ns",
        "outputId": "2ac24ffd-8697-44aa-8932-0727f65f0a43"
      },
      "execution_count": null,
      "outputs": [
        {
          "output_type": "stream",
          "name": "stdout",
          "text": [
            "[(0, 0.011546332026688772), (1, 0.0), (2, 0.0), (3, 0.008984959557563017), (4, 0.0), (5, 0.013607237167715466), (6, 0.0), (7, 0.014561732392097335), (8, 0.004443848290745335), (9, 0.006192501109286881), (10, 0.0), (11, 0.004097965878863071), (12, 0.00441699787325966), (13, 0.014050351477465329), (14, 0.0), (15, 0.02419997233407001), (16, 0.003557623606882507), (17, 0.0), (18, 0.0037152057009939374), (19, 0.010477646223865114), (20, 0.0), (21, 0.015795545957229106), (22, 0.006545199761396595), (23, 0.0041161690235314834), (24, 0.0), (25, 0.029661993146240587), (26, 0.0), (27, 0.0), (28, 0.0), (29, 0.010091542144401052), (30, 0.0), (31, 0.0036677890863186977), (32, 0.00976201656835813), (33, 0.01982811976881327), (34, 0.004185208069075577), (35, 0.006080511087095571), (36, 0.0), (37, 0.0), (38, 0.0), (39, 0.0), (40, 0.007280723063074608), (41, 0.004239671204916577), (42, 0.0), (43, 0.014052561459717302), (44, 0.037830015490610526), (45, 0.050108239825324204), (46, 0.014549246041298935), (47, 0.0), (48, 0.01483249268913463), (49, 0.0), (50, 0.0), (51, 0.01352291002996663), (52, 0.012975256196223476), (53, 0.0), (54, 0.0), (55, 0.0), (56, 0.006670148371498796), (57, 0.011064777625903402), (58, 0.0), (59, 0.0), (60, 0.008978372279410486), (61, 0.018947643510867085), (62, 0.07268402188220147), (63, 0.008284191186349864), (64, 0.0), (65, 0.033335222357432075), (66, 0.0), (67, 0.04249089742743942), (68, 0.024308018909129085), (69, 0.0), (70, 0.0), (71, 0.00403329357032042), (72, 0.0), (73, 0.0), (74, 0.004198218721165316), (75, 0.014428537276150274), (76, 0.0), (77, 0.0), (78, 0.005782774485676316), (79, 0.010329076997204336), (80, 0.0), (81, 0.0), (82, 0.010331738357008288), (83, 0.016135916557259204), (84, 0.02686510334016931), (85, 0.018858881701653337), (86, 0.013667324946912935), (87, 0.013692854412594213), (88, 0.012956422804104644), (89, 0.04050454982746093), (90, 0.0), (91, 0.0), (92, 0.003749187930371604), (93, 0.0), (94, 0.0), (95, 0.0), (96, 0.00364011999035985), (97, 0.003405316238909232), (98, 0.0), (99, 0.0), (100, 0.0), (101, 0.0), (102, 0.0), (103, 0.0036842435672748944), (104, 0.010469928260091), (105, 0.00918842632765017), (106, 0.017694291926821353), (107, 0.004541537719491987), (108, 0.03819377240669859), (109, 0.02643205139332214), (110, 0.08580598510291418), (111, 0.0036735132997608054), (112, 0.028351803202462823), (113, 0.008565009077469229), (114, 0.003907242116802649), (115, 0.0), (116, 0.021190297203543807), (117, 0.0), (118, 0.0), (119, 0.01016947266156409), (120, 0.014232706717788538), (121, 0.0036243615566701752), (122, 0.008369986681741898), (123, 0.02002495485298424), (124, 0.023973708373304002), (125, 0.008260195767917448), (126, 0.03442723886142512), (127, 0.0038960683962480187), (128, 0.0), (129, 0.0026826030701816513), (130, 0.01185976890698336), (131, 0.006898659530457524), (132, 0.003700565489969978), (133, 0.0), (134, 0.0), (135, 0.0), (136, 0.0036190073757653616), (137, 0.05240560575406966), (138, 0.024323105403960665), (139, 0.0), (140, 0.0), (141, 0.0), (142, 0.00929852677783197), (143, 0.0), (144, 0.015229049454914857), (145, 0.018478616191454234), (146, 0.0), (147, 0.017501692034776428), (148, 0.008272929674343028), (149, 0.012703554654840922), (150, 0.0), (151, 0.0), (152, 0.0), (153, 0.0), (154, 0.0), (155, 0.004891211919300356), (156, 0.00846423104417469), (157, 0.0), (158, 0.0), (159, 0.005266572069223145), (160, 0.014339567681854841), (161, 0.01546060413571044), (162, 0.009925397162243546), (163, 0.0), (164, 0.006321000682505369), (165, 0.003376724317833042), (166, 0.034106880338721), (167, 0.0), (168, 0.005186677922893971), (169, 0.004080493594620273), (170, 0.008564276862129822), (171, 0.0), (172, 0.04234411302800835), (173, 0.011079543531217229), (174, 0.03966201614383314), (175, 0.021435814145122585), (176, 0.028567462620482154), (177, 0.005491101201021732), (178, 0.004185155889164909), (179, 0.03299791206643425), (180, 0.010086200877770091), (181, 0.018394486596062576), (182, 0.006663066274836816), (183, 0.0097016288658367), (184, 0.003523166194396505), (185, 0.04251532728291675), (186, 0.0), (187, 0.0), (188, 0.0), (189, 0.0), (190, 0.0033819786494244442), (191, 0.0), (192, 0.004186610838934528), (193, 0.02965574164746973), (194, 0.003454559852102992), (195, 0.003373304385025805), (196, 0.0), (197, 0.010047369018008278), (198, 0.0040319097172374085), (199, 0.019192798827108476), (200, 0.003680552833700227), (201, 0.009774889174251346), (202, 0.002532977448581821), (203, 0.015318327312479462), (204, 0.020819175434232413), (205, 0.0), (206, 0.0043412939834492036), (207, 0.010650481762796352), (208, 0.011835479126553415), (209, 0.016565455949954615), (210, 0.042107425532658026), (211, 0.0), (212, 0.0), (213, 0.05108545484139001), (214, 0.0), (215, 0.003790959138400922), (216, 0.004043498821506541), (217, 0.0), (218, 0.018276257011838694), (219, 0.0), (220, 0.0), (221, 0.003854197973099234), (222, 0.014984201882502504), (223, 0.0), (224, 0.010271607429212274), (225, 0.0), (226, 0.0), (227, 0.05900058767913702), (228, 0.002978768358312792), (229, 0.0), (230, 0.006384226146923099), (231, 0.013795410846082965), (232, 0.007076532287517437), (233, 0.0), (234, 0.0), (235, 0.0), (236, 0.012317479904365464), (237, 0.0), (238, 0.004115269661001162), (239, 0.0), (240, 0.02560329815324629), (241, 0.0), (242, 0.009416841722584083), (243, 0.007612298185224817), (244, 0.009497339133224132), (245, 0.0), (246, 0.0), (247, 0.0), (248, 0.006315560705028522), (249, 0.0), (250, 0.027226566489663265), (251, 0.01774293546366945), (252, 0.015905266971820226), (253, 0.0), (254, 0.06246000001206675), (255, 0.004123664784851486), (256, 0.002953600720387565), (257, 0.0), (258, 0.0), (259, 0.0), (260, 0.0), (261, 0.018469737886631928), (262, 0.0), (263, 0.0063354323864049135), (264, 0.0), (265, 0.0), (266, 0.007929871577527243), (267, 0.003517810452666374), (268, 0.0), (269, 0.025911826668303183), (270, 0.01370860576870114), (271, 0.008166790376581298), (272, 0.0), (273, 0.006480655870039018), (274, 0.0044853402432961645), (275, 0.0), (276, 0.01252962854227663), (277, 0.005710140683143754), (278, 0.0), (279, 0.0), (280, 0.010502475712557234), (281, 0.010815984070260461), (282, 0.02932381417627929), (283, 0.007419661860114194), (284, 0.02521675941908483), (285, 0.00842027926297156), (286, 0.0035614938568766666), (287, 0.015164603675996941), (288, 0.005499348808270385), (289, 0.0), (290, 0.0), (291, 0.0), (292, 0.05427744751241797), (293, 0.0), (294, 0.0), (295, 0.0), (296, 0.01339762170508024), (297, 0.0), (298, 0.0), (299, 0.0), (300, 0.0062928139021815105), (301, 0.007003708482466545), (302, 0.0), (303, 0.0), (304, 0.0), (305, 0.0), (306, 0.0), (307, 0.009640339882171715), (308, 0.0), (309, 0.008594889499257782), (310, 0.0), (311, 0.0), (312, 0.0), (313, 0.006851145805926166), (314, 0.0), (315, 0.0), (316, 0.0), (317, 0.011714070653083877), (318, 0.004425454183812406), (319, 0.0), (320, 0.0), (321, 0.006529242409618219), (322, 0.0064698550656045115), (323, 0.0), (324, 0.0), (325, 0.003795769964289687), (326, 0.004984318161225925), (327, 0.006062090738104845), (328, 0.0464843716309764), (329, 0.012971822938654213), (330, 0.02083432598098427), (331, 0.0), (332, 0.010032160223039715), (333, 0.008155374594179303), (334, 0.021678309789128568), (335, 0.0), (336, 0.0050170058716180665), (337, 0.0), (338, 0.0), (339, 0.0), (340, 0.007271194459830218), (341, 0.0072552016295216746), (342, 0.011310653658386478), (343, 0.01676885472520075), (344, 0.0), (345, 0.0175943078594971), (346, 0.006677268361386033), (347, 0.0), (348, 0.003906469160269509), (349, 0.003779070090821499), (350, 0.004421278073155824), (351, 0.0030724474092060465), (352, 0.0), (353, 0.010390644409440396), (354, 0.006048094982817403), (355, 0.003699668131678568), (356, 0.01004590886272929), (357, 0.0034907473579112464), (358, 0.016548057253371957), (359, 0.0036684097175786537), (360, 0.00937785508785987), (361, 0.0), (362, 0.0), (363, 0.007022706177395017), (364, 0.020462476124809705), (365, 0.0), (366, 0.0), (367, 0.0), (368, 0.010855396813514415), (369, 0.00711621768175912), (370, 0.012984783707001383), (371, 0.024162281910511438), (372, 0.003690572905675907), (373, 0.0038177132775606267), (374, 0.01691138841431111), (375, 0.0), (376, 0.0), (377, 0.0), (378, 0.0), (379, 0.0), (380, 0.0), (381, 0.02720887951029035), (382, 0.0), (383, 0.022503035178312987), (384, 0.031375886864517796), (385, 0.010394461466413964), (386, 0.007162898760070513), (387, 0.03846716146793771), (388, 0.0037751153873016806), (389, 0.0), (390, 0.0), (391, 0.0), (392, 0.0), (393, 0.0), (394, 0.0), (395, 0.0), (396, 0.008905390550959387), (397, 0.0), (398, 0.025596180204185172), (399, 0.0), (400, 0.0039047847780559557), (401, 0.0), (402, 0.007984916079711708), (403, 0.009107643962202684), (404, 0.0), (405, 0.0), (406, 0.010649908220718967), (407, 0.013656767863832686), (408, 0.0486332058355097), (409, 0.01777044534680698), (410, 0.0035085204623433817), (411, 0.0), (412, 0.04308674158234682), (413, 0.006964259008201645), (414, 0.004965340194418802), (415, 0.0), (416, 0.0035509444278017297), (417, 0.0), (418, 0.009930581968006055), (419, 0.004669521377201264), (420, 0.0), (421, 0.030755045924564337), (422, 0.0), (423, 0.0), (424, 0.02894292202508125), (425, 0.0), (426, 0.0), (427, 0.0), (428, 0.009814984263600201), (429, 0.013902846394619965), (430, 0.032775557782386826), (431, 0.0045850807358710065), (432, 0.0), (433, 0.013753146198475443), (434, 0.012166727196737497), (435, 0.007438122390803795), (436, 0.004663627458235286), (437, 0.016944602980234473), (438, 0.04227488974233439), (439, 0.0), (440, 0.0), (441, 0.008885023626133538), (442, 0.018793431504857287), (443, 0.004461422811767923), (444, 0.0), (445, 0.0061326207254436835), (446, 0.006502028324105184), (447, 0.009517464445640644), (448, 0.004752876601378251), (449, 0.006378671507567389), (450, 0.014210175002890063), (451, 0.0), (452, 0.01288582460710976), (453, 0.0033715932866815166), (454, 0.0), (455, 0.022348666202256947), (456, 0.004212116012138784), (457, 0.0037949259294785052), (458, 0.015090523702394661), (459, 0.028306192029611772), (460, 0.0), (461, 0.011064201898523054), (462, 0.0), (463, 0.009503173248807468), (464, 0.01083335489922152), (465, 0.030045940733574215), (466, 0.0), (467, 0.0), (468, 0.006096968216757005), (469, 0.0), (470, 0.011085389716308505), (471, 0.003719838832096509), (472, 0.011204084176594097), (473, 0.0), (474, 0.0), (475, 0.0036963997787459943), (476, 0.0), (477, 0.005289019782645597), (478, 0.0), (479, 0.04642039395283739), (480, 0.003469299532548244), (481, 0.004325423768154502), (482, 0.011041699880214494), (483, 0.009448013665941748), (484, 0.0), (485, 0.009897907197972532), (486, 0.0), (487, 0.0), (488, 0.0038432652265478666), (489, 0.0), (490, 0.003937191738517629), (491, 0.0), (492, 0.0), (493, 0.00422557234706502), (494, 0.009242953469126507), (495, 0.0035416130243417633), (496, 0.01480342928956529), (497, 0.0), (498, 0.0), (499, 0.0), (500, 0.008595696291907136), (501, 0.008543408534374648), (502, 0.01339494016877194), (503, 0.0), (504, 0.004002156769431164), (505, 0.0), (506, 0.0), (507, 0.0), (508, 0.0), (509, 0.003984786902268343), (510, 0.015851766812052134), (511, 0.012455949362485567), (512, 0.0), (513, 0.0), (514, 0.0), (515, 0.026331765438682486), (516, 0.0), (517, 0.0), (518, 0.0), (519, 0.04752790770849365), (520, 0.0), (521, 0.006560043491193264), (522, 0.0038048722740887356), (523, 0.006763786453451801), (524, 0.0), (525, 0.0), (526, 0.0), (527, 0.010493181314430985), (528, 0.0), (529, 0.0), (530, 0.027291221851277365), (531, 0.0), (532, 0.0), (533, 0.015259432494182327), (534, 0.014358237401011813), (535, 0.0), (536, 0.0), (537, 0.007452995639068521), (538, 0.011356101129767182), (539, 0.0), (540, 0.03336403021943048), (541, 0.0), (542, 0.009574150912277793), (543, 0.013756127802902772), (544, 0.009903602149461817), (545, 0.013645211421365168), (546, 0.0), (547, 0.017005788191998508), (548, 0.0), (549, 0.0), (550, 0.0), (551, 0.017879021481163687), (552, 0.0), (553, 0.018626091591471963), (554, 0.0), (555, 0.01086890100320765), (556, 0.0), (557, 0.0), (558, 0.003652217698575911), (559, 0.0), (560, 0.0), (561, 0.004866407462010676), (562, 0.003031511900567948), (563, 0.003630963515063103), (564, 0.004136210957731788), (565, 0.0), (566, 0.022510892276261706), (567, 0.0), (568, 0.00638149070005827), (569, 0.0), (570, 0.0), (571, 0.0030711116695979583), (572, 0.0), (573, 0.0), (574, 0.0), (575, 0.0), (576, 0.004418166135292814), (577, 0.0), (578, 0.03804219258239511), (579, 0.004123122816878563), (580, 0.004048329060468331), (581, 0.0), (582, 0.007987917694670024), (583, 0.005914592386889126), (584, 0.014218769455158303), (585, 0.0), (586, 0.015953169855907084), (587, 0.004332948197653346), (588, 0.004092765581601982), (589, 0.003804446742305112), (590, 0.02052016774661852), (591, 0.0), (592, 0.0), (593, 0.0), (594, 0.003665428646098084), (595, 0.0), (596, 0.0044810881476520705), (597, 0.005876169153043846), (598, 0.0038452507923214924), (599, 0.0), (600, 0.006902310649410325), (601, 0.0), (602, 0.0), (603, 0.0), (604, 0.0035540814866799695), (605, 0.0036353019344139907), (606, 0.004169754394464729), (607, 0.0029913645784479972), (608, 0.0035912015694880297), (609, 0.013660629425987567), (610, 0.0), (611, 0.0034327626069459286), (612, 0.004311764966990096), (613, 0.024711185471569135), (614, 0.004528930883883815), (615, 0.04532997208125295), (616, 0.008663009982624082), (617, 0.0035202674065801104), (618, 0.033215387566493546), (619, 0.0), (620, 0.012940453515295866), (621, 0.0), (622, 0.013805519867592712), (623, 0.004417409213640194), (624, 0.0), (625, 0.0), (626, 0.0033226487714441456), (627, 0.00570552945844678), (628, 0.08316819994944563), (629, 0.028323818657113326), (630, 0.0), (631, 0.00678308866266927), (632, 0.035424916531778275), (633, 0.0), (634, 0.0), (635, 0.007125604623157847), (636, 0.00407311053814283), (637, 0.042906361932565015), (638, 0.018638192181457982), (639, 0.0), (640, 0.0), (641, 0.007994263141358081), (642, 0.0033872851329153904), (643, 0.018891608215082303), (644, 0.004109646947186838), (645, 0.0), (646, 0.0), (647, 0.0), (648, 0.012204668452305547), (649, 0.0), (650, 0.0), (651, 0.010176179921232549), (652, 0.004321510202629334), (653, 0.011513826516229802), (654, 0.00977139499551023), (655, 0.003694308660335933), (656, 0.0), (657, 0.02016753843494962), (658, 0.0), (659, 0.003680037171445061), (660, 0.004069730448135065), (661, 0.0), (662, 0.0), (663, 0.0), (664, 0.005889532248709414), (665, 0.0), (666, 0.0), (667, 0.010311635595686243), (668, 0.007300911082921824), (669, 0.01839887981557003), (670, 0.02419783739179122), (671, 0.006861381317100525), (672, 0.025943888978326675), (673, 0.004257668397527923), (674, 0.0), (675, 0.009999134874459291), (676, 0.012791327793818873), (677, 0.01698009867158477), (678, 0.0), (679, 0.0), (680, 0.0), (681, 0.0), (682, 0.0436883173526529), (683, 0.010323349396015442), (684, 0.01540692351558269), (685, 0.0), (686, 0.0), (687, 0.0), (688, 0.004335000632789941), (689, 0.01057221173888857), (690, 0.0), (691, 0.021334517132856164), (692, 0.013313176120458552), (693, 0.004053902454877006), (694, 0.03398424975713772), (695, 0.008361435012516133), (696, 0.003955250956899405), (697, 0.010502500684441488), (698, 0.003923567534769372), (699, 0.0), (700, 0.0), (701, 0.014690575100321904), (702, 0.0), (703, 0.0035017727504891723), (704, 0.0), (705, 0.009183036992320015), (706, 0.022053813781350767), (707, 0.003297541470992398), (708, 0.0), (709, 0.0), (710, 0.03822767153218363), (711, 0.0), (712, 0.0033969184965951405), (713, 0.0), (714, 0.0), (715, 0.007303801861649951), (716, 0.004421793024705079), (717, 0.0), (718, 0.0), (719, 0.008669340731470465), (720, 0.0), (721, 0.004587888087888673), (722, 0.0035227481301806913), (723, 0.0), (724, 0.0), (725, 0.0), (726, 0.0), (727, 0.003887602434741252), (728, 0.004225744795406348), (729, 0.00432710556426363), (730, 0.0), (731, 0.0), (732, 0.009118694621452657), (733, 0.011344502297943426), (734, 0.009737287870242913), (735, 0.005911853404231016), (736, 0.0), (737, 0.007195749922832982), (738, 0.0), (739, 0.0044845073790034055), (740, 0.0), (741, 0.0), (742, 0.00986486898578012), (743, 0.004094394269701722), (744, 0.0035510836047965323), (745, 0.0), (746, 0.0), (747, 0.0), (748, 0.0070575006083655025), (749, 0.003975218449187911), (750, 0.004027081403910688), (751, 0.0), (752, 0.006898704889986701), (753, 0.010184075834557929), (754, 0.0), (755, 0.0039625020200632155), (756, 0.0), (757, 0.018121270779317498), (758, 0.006450782753423989), (759, 0.0), (760, 0.011262128100237268), (761, 0.00429776004512419), (762, 0.011565802460271628), (763, 0.020936049474702144), (764, 0.0), (765, 0.0), (766, 0.006173630640640379), (767, 0.0), (768, 0.01839963761616678), (769, 0.003955516341151442), (770, 0.0), (771, 0.0), (772, 0.0), (773, 0.0), (774, 0.004334180793365964), (775, 0.010302690885454237), (776, 0.017430727774203354), (777, 0.0), (778, 0.0067792264530558135), (779, 0.016228507558802327), (780, 0.0), (781, 0.0), (782, 0.006718365785921707), (783, 0.0041501241391827095), (784, 0.0), (785, 0.0), (786, 0.0), (787, 0.016442330447973753), (788, 0.03839577528011016), (789, 0.0), (790, 0.008996276213128665), (791, 0.0), (792, 0.004192285440989171), (793, 0.0), (794, 0.01772266317947682), (795, 0.022089183519609534), (796, 0.019118783855076666), (797, 0.0), (798, 0.0037593627563697503), (799, 0.012908976316232222), (800, 0.009423495816262624), (801, 0.008420104869418596), (802, 0.0), (803, 0.0), (804, 0.0035960818811651514), (805, 0.0), (806, 0.013290987571578932), (807, 0.0), (808, 0.015057478276055709), (809, 0.006812198583765322), (810, 0.0), (811, 0.0), (812, 0.03264897213964471), (813, 0.004539315734847688), (814, 0.013212168677904455), (815, 0.0034586369756708204), (816, 0.011975288642133864), (817, 0.006725833501611385), (818, 0.0372026191183479), (819, 0.0), (820, 0.0), (821, 0.006671888711593748), (822, 0.0), (823, 0.0), (824, 0.02703617955742673), (825, 0.0), (826, 0.00420745384628956), (827, 0.0089107755741947), (828, 0.008864835418897179), (829, 0.00858070436183787), (830, 0.04181275670284866), (831, 0.0029256237051194325), (832, 0.022703674798015473), (833, 0.01514687365251938), (834, 0.006537744197752728), (835, 0.0062409012401110605), (836, 0.03017572496332514), (837, 0.0), (838, 0.010087983539556002), (839, 0.0), (840, 0.0), (841, 0.0), (842, 0.010863913402683723), (843, 0.008599147653695724), (844, 0.011119001318339317), (845, 0.0), (846, 0.0), (847, 0.012003880073605616), (848, 0.0), (849, 0.0), (850, 0.010506643629643903), (851, 0.0035090393372846107), (852, 0.003855018800544787), (853, 0.012317907655928231), (854, 0.003822550847002764), (855, 0.0), (856, 0.003604115256923291), (857, 0.004464882621948349), (858, 0.021657567915261598), (859, 0.0), (860, 0.015533028774021677), (861, 0.003403552149162261), (862, 0.0), (863, 0.0), (864, 0.02642919857781322), (865, 0.004129712877648873), (866, 0.013012421455628639), (867, 0.017143280070086912), (868, 0.0), (869, 0.009337580366574547), (870, 0.019101458733942714), (871, 0.004062366078001136), (872, 0.004086391241020856), (873, 0.05384836617800791), (874, 0.014502778784036694), (875, 0.0), (876, 0.004384885099825269), (877, 0.04851580759898446), (878, 0.012704431695162225), (879, 0.013996539333911356), (880, 0.0037988332352336634), (881, 0.0), (882, 0.0), (883, 0.0), (884, 0.0), (885, 0.024665225460945826), (886, 0.003639791310577937), (887, 0.0), (888, 0.004376319648834274), (889, 0.0), (890, 0.0), (891, 0.0), (892, 0.0), (893, 0.0), (894, 0.003804108776199438), (895, 0.012506345789181894), (896, 0.014102144879434203), (897, 0.01056533697792477), (898, 0.0), (899, 0.012275301519464476), (900, 0.009714231144515674), (901, 0.0), (902, 0.0), (903, 0.033277273556547776), (904, 0.04572492696385014), (905, 0.010957540311738892), (906, 0.013379024805873552), (907, 0.0037183958831229114), (908, 0.009461533122046964), (909, 0.0), (910, 0.003609109516789663), (911, 0.029489742949694437), (912, 0.0), (913, 0.0), (914, 0.0), (915, 0.008666891446694672), (916, 0.01463886765183706), (917, 0.024102304079891786), (918, 0.009796121456467676), (919, 0.0), (920, 0.0), (921, 0.006640900730374652), (922, 0.0), (923, 0.003933513143231304), (924, 0.008870485536153758), (925, 0.004780355801111837), (926, 0.0), (927, 0.0), (928, 0.0), (929, 0.01907750610682304), (930, 0.0042003529936593285), (931, 0.009431722641386215), (932, 0.0), (933, 0.0), (934, 0.01595064416078665), (935, 0.03242498779516858), (936, 0.00948585114603557), (937, 0.01586173807897033), (938, 0.0), (939, 0.008767454038442027), (940, 0.007286066596438564), (941, 0.0), (942, 0.02331162231421371), (943, 0.0), (944, 0.0035977168157321346), (945, 0.0), (946, 0.0), (947, 0.019580028749610776), (948, 0.011958857631358647), (949, 0.007596921650926837), (950, 0.0), (951, 0.003558315031166773), (952, 0.025074170173939075), (953, 0.003135026334496788), (954, 0.0), (955, 0.0), (956, 0.0), (957, 0.015611344190509285), (958, 0.006477690109302091), (959, 0.003963474403763089), (960, 0.0), (961, 0.0), (962, 0.01057289929089713), (963, 0.009711408033792846), (964, 0.0), (965, 0.0), (966, 0.010293809380852462), (967, 0.02212890515437886), (968, 0.01568348382689181), (969, 0.0039045519374739887), (970, 0.005901790047932684), (971, 0.0), (972, 0.0), (973, 0.0), (974, 0.0), (975, 0.0037170710983798075), (976, 0.025835457630843953), (977, 0.0), (978, 0.0), (979, 0.005822924913747538), (980, 0.0041102746990228116), (981, 0.0035888706517672748), (982, 0.0), (983, 0.0), (984, 0.0), (985, 0.0045867971408777835), (986, 0.014116073114025348), (987, 0.0), (988, 0.013041709488215064), (989, 0.012810542379155082), (990, 0.0), (991, 0.00416777536985811), (992, 0.0), (993, 0.0), (994, 0.009609158240342761), (995, 0.0), (996, 0.0), (997, 0.0), (998, 0.004542837194426327), (999, 0.004524951474597808), (1000, 0.012045963737434223), (1001, 0.0037208090249630918), (1002, 0.0037537396452862674), (1003, 0.017413799914358263), (1004, 0.0), (1005, 0.008466918490902427), (1006, 0.010781845206556945), (1007, 0.004465601161250122), (1008, 0.0), (1009, 0.009767370381797957), (1010, 0.0), (1011, 0.0), (1012, 0.006416430846532506), (1013, 0.0), (1014, 0.0076785263071838285), (1015, 0.011106598768129543), (1016, 0.0), (1017, 0.010625464152176384), (1018, 0.01387541604684045), (1019, 0.010748064965956908), (1020, 0.010580958939484273), (1021, 0.06341971479047902), (1022, 0.0), (1023, 0.051345341490008564), (1024, 0.038916765858727116), (1025, 0.0), (1026, 0.003926008835785079), (1027, 0.003912624164531648), (1028, 0.0), (1029, 0.0), (1030, 0.05000192483027615), (1031, 0.0), (1032, 0.0), (1033, 0.01851494052997313), (1034, 0.003806055300052256), (1035, 0.013019037128158814), (1036, 0.0), (1037, 0.00579241104014424), (1038, 0.0), (1039, 0.0), (1040, 0.0036250435677794303), (1041, 0.003630930984758848), (1042, 0.0), (1043, 0.02667909799514787), (1044, 0.0038174192327837535), (1045, 0.0160884253507564), (1046, 0.0296668463294941), (1047, 0.0), (1048, 0.006767266394881065), (1049, 0.004615813826131996), (1050, 0.012345137811971371), (1051, 0.0), (1052, 0.02088418939821205), (1053, 0.016016951983817734), (1054, 0.0), (1055, 0.0), (1056, 0.0), (1057, 0.0), (1058, 0.011627044096957787), (1059, 0.027383630633248824), (1060, 0.0038422303294164475), (1061, 0.008710885683051032), (1062, 0.0), (1063, 0.03323564884897325), (1064, 0.017489338955572784), (1065, 0.0036459226397245943), (1066, 0.0), (1067, 0.0), (1068, 0.030119469068224283), (1069, 0.007670430228387972), (1070, 0.05178639421596523), (1071, 0.00411774021393769), (1072, 0.0), (1073, 0.0), (1074, 0.015378519615075786), (1075, 0.010760057578878247), (1076, 0.0), (1077, 0.010789161116283615), (1078, 0.0033424948966648944), (1079, 0.003586946831122914), (1080, 0.003536759537882012), (1081, 0.0), (1082, 0.0), (1083, 0.004144393398254513), (1084, 0.0038000655774031162), (1085, 0.040358683891911454), (1086, 0.0), (1087, 0.0065569616465325905), (1088, 0.0034356129233749635), (1089, 0.0), (1090, 0.01128807213379552), (1091, 0.0), (1092, 0.0), (1093, 0.0), (1094, 0.006802037991309833), (1095, 0.030321463637026903), (1096, 0.0063186827173887595), (1097, 0.0), (1098, 0.0), (1099, 0.007150193193624154), (1100, 0.0), (1101, 0.0), (1102, 0.05262569846944298), (1103, 0.0), (1104, 0.0), (1105, 0.0), (1106, 0.0), (1107, 0.003695576725421135), (1108, 0.0), (1109, 0.004389444025976211), (1110, 0.0), (1111, 0.006688146273371885), (1112, 0.01577254802604813), (1113, 0.0), (1114, 0.012371623689646847), (1115, 0.008206366471880389), (1116, 0.016726215596439508), (1117, 0.0), (1118, 0.06717316797366256), (1119, 0.014617721104969384), (1120, 0.0), (1121, 0.0), (1122, 0.004154705805087538), (1123, 0.003814181202538646), (1124, 0.00696909565399992), (1125, 0.009962331180589526), (1126, 0.0), (1127, 0.0), (1128, 0.015707961718627903), (1129, 0.013092756424589489), (1130, 0.0), (1131, 0.004072796916110354), (1132, 0.021624739874048587), (1133, 0.0), (1134, 0.05688041146647251), (1135, 0.0), (1136, 0.009186306579227508), (1137, 0.01980738079879983), (1138, 0.003874343990870502), (1139, 0.0), (1140, 0.004035182776376835), (1141, 0.021736792745387323), (1142, 0.0), (1143, 0.0), (1144, 0.005298015622701029), (1145, 0.0), (1146, 0.032323912276792106), (1147, 0.0), (1148, 0.010596409366512552), (1149, 0.0), (1150, 0.0), (1151, 0.0), (1152, 0.014647638320278773), (1153, 0.0), (1154, 0.0), (1155, 0.0), (1156, 0.0), (1157, 0.011998065138340714), (1158, 0.0), (1159, 0.0), (1160, 0.01323149047406923), (1161, 0.0041595907928347175), (1162, 0.014720098876354176), (1163, 0.003981854561532991), (1164, 0.0), (1165, 0.0), (1166, 0.0), (1167, 0.0), (1168, 0.0), (1169, 0.0), (1170, 0.003945076203332522), (1171, 0.0), (1172, 0.006790123511238522), (1173, 0.020690121637365135), (1174, 0.0), (1175, 0.019846996971881223), (1176, 0.004123731032685853), (1177, 0.0036983219973410982), (1178, 0.0), (1179, 0.004113295608504514), (1180, 0.0), (1181, 0.0), (1182, 0.011647006341078184), (1183, 0.012906269176476522), (1184, 0.015407476885689782), (1185, 0.009704962358633225), (1186, 0.027697372029676395), (1187, 0.004742908550049819), (1188, 0.00432857691505016), (1189, 0.0), (1190, 0.0), (1191, 0.003908847263284002), (1192, 0.010783618651049126), (1193, 0.0), (1194, 0.005753615273212544), (1195, 0.035158954522053865), (1196, 0.0), (1197, 0.0), (1198, 0.0), (1199, 0.0034922606117121714), (1200, 0.0), (1201, 0.0), (1202, 0.01661947521336266), (1203, 0.0), (1204, 0.0), (1205, 0.0), (1206, 0.00971521287045669), (1207, 0.0), (1208, 0.005090013050375528), (1209, 0.0036083884882391836), (1210, 0.0), (1211, 0.0), (1212, 0.0), (1213, 0.0), (1214, 0.0), (1215, 0.008978905758741702), (1216, 0.01788937155795879), (1217, 0.0036401527082462), (1218, 0.0), (1219, 0.003597260125931698), (1220, 0.010052170305988449), (1221, 0.0), (1222, 0.0), (1223, 0.004043656132503028), (1224, 0.013939957597182777), (1225, 0.004212920454944933), (1226, 0.006481871564674706), (1227, 0.0), (1228, 0.0), (1229, 0.004056817588338421), (1230, 0.0088311531862817), (1231, 0.009075052444429218), (1232, 0.014320935908685805), (1233, 0.0), (1234, 0.00977326672368651), (1235, 0.0), (1236, 0.008617520499085022), (1237, 0.011690951109487684), (1238, 0.006479862589605734), (1239, 0.013075700495336883), (1240, 0.0), (1241, 0.040634658892013516), (1242, 0.0), (1243, 0.05611450095866215), (1244, 0.0), (1245, 0.019023779576221953), (1246, 0.0), (1247, 0.003845931376268928), (1248, 0.043885986047042906), (1249, 0.011639216045274231), (1250, 0.006751714524906311), (1251, 0.003485721959299503), (1252, 0.013552491629523412), (1253, 0.0), (1254, 0.014042648823130817), (1255, 0.00989347854064574), (1256, 0.0), (1257, 0.016780122395827466), (1258, 0.0), (1259, 0.0), (1260, 0.0), (1261, 0.021646010087361715), (1262, 0.006566963721084713), (1263, 0.0), (1264, 0.004821141602282036), (1265, 0.0), (1266, 0.006852117891655171), (1267, 0.006285635229132145), (1268, 0.0), (1269, 0.0), (1270, 0.01707457290337614), (1271, 0.0), (1272, 0.031689897067797304), (1273, 0.003569548934626697), (1274, 0.017878676796084562), (1275, 0.015075634959301136), (1276, 0.0068674919474429295), (1277, 0.0), (1278, 0.014894319811663174), (1279, 0.005540551305106071), (1280, 0.0), (1281, 0.0), (1282, 0.0), (1283, 0.02627360429690346), (1284, 0.0), (1285, 0.0), (1286, 0.004068030176826906), (1287, 0.0), (1288, 0.0), (1289, 0.0), (1290, 0.011752245728485647), (1291, 0.0), (1292, 0.04282386837099794), (1293, 0.012815994408426321), (1294, 0.0), (1295, 0.0), (1296, 0.0), (1297, 0.0), (1298, 0.0), (1299, 0.0), (1300, 0.007753524164805389), (1301, 0.0), (1302, 0.006703820478998934), (1303, 0.003145776942830235), (1304, 0.0), (1305, 0.0032143428567419207), (1306, 0.007563871341010695), (1307, 0.006351602955077388), (1308, 0.009679464459947915), (1309, 0.0), (1310, 0.012283211521432984), (1311, 0.04197145630090104), (1312, 0.00612487689342198), (1313, 0.003897899969845205), (1314, 0.023791247938785967), (1315, 0.0), (1316, 0.0060836344883706695), (1317, 0.01396146411608441), (1318, 0.0034510870149951573), (1319, 0.0), (1320, 0.044892869064811505), (1321, 0.0), (1322, 0.0), (1323, 0.0), (1324, 0.00423223248191581), (1325, 0.004407809070037862), (1326, 0.0), (1327, 0.006287217597652292), (1328, 0.0), (1329, 0.006512218840442316), (1330, 0.0), (1331, 0.01449454312780911), (1332, 0.0), (1333, 0.0), (1334, 0.013480813382578942), (1335, 0.003976785560194786), (1336, 0.0), (1337, 0.01313438059499921), (1338, 0.003966854084017741), (1339, 0.009559875948617734), (1340, 0.0036297361996925877), (1341, 0.08071765873975503), (1342, 0.013314294483239175), (1343, 0.011222254223028008), (1344, 0.0), (1345, 0.006650554153669217), (1346, 0.0), (1347, 0.0), (1348, 0.008312513381770331), (1349, 0.004425959156456921), (1350, 0.004170754201188117), (1351, 0.022939722371699195), (1352, 0.0034492264981698115), (1353, 0.0), (1354, 0.0), (1355, 0.0), (1356, 0.0032378231236762016), (1357, 0.003644794077967306), (1358, 0.043724367790096), (1359, 0.006910564299485398), (1360, 0.012764583843040246), (1361, 0.016639999192608577), (1362, 0.0), (1363, 0.0), (1364, 0.00432395439849661), (1365, 0.019404267158884537), (1366, 0.0), (1367, 0.0314740609551944), (1368, 0.0), (1369, 0.03902193079561562), (1370, 0.00341076013982029), (1371, 0.01036450004203284), (1372, 0.003706361631555888), (1373, 0.0), (1374, 0.006479629355186382), (1375, 0.003659409974124722), (1376, 0.012847283136857804), (1377, 0.016706693014931055), (1378, 0.003908722067951611), (1379, 0.03661021249825171), (1380, 0.0), (1381, 0.0), (1382, 0.01110618558663647), (1383, 0.08682496743153686), (1384, 0.01490299422307468), (1385, 0.018811075043573905), (1386, 0.01841612325325868), (1387, 0.011749140403712121), (1388, 0.009910266546574944), (1389, 0.03699958334302858), (1390, 0.0), (1391, 0.0), (1392, 0.0), (1393, 0.038302439033236456), (1394, 0.00341696701932093), (1395, 0.0), (1396, 0.006710037736042231), (1397, 0.02240397966612787), (1398, 0.032551250177787705), (1399, 0.0), (1400, 0.004216299889311737), (1401, 0.013946798330583255), (1402, 0.0), (1403, 0.01816635933860338), (1404, 0.0), (1405, 0.031301597471054377), (1406, 0.00937996804820557), (1407, 0.007006752218112212), (1408, 0.0038620343627022474), (1409, 0.0), (1410, 0.004012904983502088), (1411, 0.0), (1412, 0.021165317455705907), (1413, 0.011188735613001662), (1414, 0.003479134276565176), (1415, 0.0037257061437202983), (1416, 0.0), (1417, 0.015336160004975511), (1418, 0.010269077653008699), (1419, 0.009535285903943458), (1420, 0.006486571646021314), (1421, 0.0040655980672453865), (1422, 0.003847463084059563), (1423, 0.00346864633482125), (1424, 0.0), (1425, 0.006406212689404369), (1426, 0.0), (1427, 0.0035527324235992952), (1428, 0.0), (1429, 0.004763647787816012), (1430, 0.0), (1431, 0.0), (1432, 0.009921677470521905), (1433, 0.0), (1434, 0.0), (1435, 0.0), (1436, 0.009519640688582322), (1437, 0.0), (1438, 0.0038308925562838465), (1439, 0.0), (1440, 0.009490939168370578), (1441, 0.0), (1442, 0.007789624420120254), (1443, 0.013642714463001691), (1444, 0.0), (1445, 0.016799842459308857), (1446, 0.010278609879867494), (1447, 0.0), (1448, 0.0038425518606934788), (1449, 0.0), (1450, 0.0), (1451, 0.0), (1452, 0.0), (1453, 0.005495109182484126), (1454, 0.0041655009645293175), (1455, 0.009140632893604766), (1456, 0.0), (1457, 0.0), (1458, 0.0), (1459, 0.0), (1460, 0.0), (1461, 0.006874164775380991), (1462, 0.0036156009707725935), (1463, 0.004126964335592213), (1464, 0.03177501194679649), (1465, 0.011511653723195103), (1466, 0.0), (1467, 0.0), (1468, 0.0), (1469, 0.0), (1470, 0.0), (1471, 0.019723140371140438), (1472, 0.003925391849626983), (1473, 0.0), (1474, 0.004392960800022228), (1475, 0.010869933299643395), (1476, 0.003909033895805162), (1477, 0.00962015066684186), (1478, 0.00375432483820309), (1479, 0.0), (1480, 0.0), (1481, 0.0038257032154625325), (1482, 0.0), (1483, 0.0038262617942213368), (1484, 0.0), (1485, 0.0), (1486, 0.0073546815379607), (1487, 0.0), (1488, 0.0038237723310434917), (1489, 0.00456368768200518), (1490, 0.0), (1491, 0.0), (1492, 0.02208738059393966), (1493, 0.012663718670588823), (1494, 0.006876041980734002), (1495, 0.0), (1496, 0.0), (1497, 0.0), (1498, 0.004685567174437593), (1499, 0.0), (1500, 0.025230380767933713), (1501, 0.006688262696346834), (1502, 0.0), (1503, 0.0036739714523375236), (1504, 0.0), (1505, 0.02311408723590848), (1506, 0.04278473995135462), (1507, 0.0), (1508, 0.0), (1509, 0.007263697469805648), (1510, 0.016426077036086853), (1511, 0.0), (1512, 0.016020103358719232), (1513, 0.004201928673728265), (1514, 0.009866821301493628), (1515, 0.02212279379611688), (1516, 0.0), (1517, 0.0), (1518, 0.004324492633372803), (1519, 0.010129574817871941), (1520, 0.0), (1521, 0.0), (1522, 0.0), (1523, 0.015615555422060808), (1524, 0.0), (1525, 0.0), (1526, 0.006953405120345168), (1527, 0.04001506808232745), (1528, 0.0), (1529, 0.0), (1530, 0.0), (1531, 0.0), (1532, 0.0), (1533, 0.004053413013584801), (1534, 0.0), (1535, 0.0), (1536, 0.0), (1537, 0.004256321168085056), (1538, 0.005996499659210246), (1539, 0.00941254779942789), (1540, 0.0), (1541, 0.0), (1542, 0.009428365835964393), (1543, 0.003612830979848079), (1544, 0.02662438148871933), (1545, 0.0), (1546, 0.0), (1547, 0.00473161926117162), (1548, 0.0), (1549, 0.0), (1550, 0.0), (1551, 0.006553708061309069), (1552, 0.006337283951782572), (1553, 0.005805001926793313), (1554, 0.0), (1555, 0.0), (1556, 0.0), (1557, 0.0), (1558, 0.0038484654736963024), (1559, 0.0), (1560, 0.0), (1561, 0.0), (1562, 0.0), (1563, 0.0), (1564, 0.0), (1565, 0.0036761364385048375), (1566, 0.0), (1567, 0.006397492607177805), (1568, 0.032305200700807495), (1569, 0.0), (1570, 0.004262137037158504), (1571, 0.005824729279498281), (1572, 0.017151923914654442), (1573, 0.0), (1574, 0.0), (1575, 0.0), (1576, 0.0), (1577, 0.0), (1578, 0.0), (1579, 0.017305966010733264), (1580, 0.0), (1581, 0.0), (1582, 0.0037391522800040134), (1583, 0.007121860282853317), (1584, 0.0), (1585, 0.027019209474689714), (1586, 0.0), (1587, 0.0), (1588, 0.0), (1589, 0.0), (1590, 0.0), (1591, 0.010595951254207918), (1592, 0.0), (1593, 0.0), (1594, 0.0), (1595, 0.012555483630809636), (1596, 0.0), (1597, 0.00383700046943248), (1598, 0.003866812307646181), (1599, 0.0), (1600, 0.0), (1601, 0.0), (1602, 0.0), (1603, 0.0), (1604, 0.0), (1605, 0.003586437955728959), (1606, 0.0), (1607, 0.0), (1608, 0.003702842778067987), (1609, 0.017587837548734296), (1610, 0.0), (1611, 0.0), (1612, 0.0066721984139720275), (1613, 0.0), (1614, 0.0), (1615, 0.0), (1616, 0.0034622912984279), (1617, 0.0), (1618, 0.0), (1619, 0.010856373676182831), (1620, 0.003938369516461229), (1621, 0.013113562477272352), (1622, 0.0), (1623, 0.0), (1624, 0.0032568453106879896), (1625, 0.0), (1626, 0.0), (1627, 0.0036570132789441193), (1628, 0.004107129131292875), (1629, 0.019646522294603348), (1630, 0.008698397448485376), (1631, 0.0), (1632, 0.0), (1633, 0.0), (1634, 0.003892692367637699), (1635, 0.0), (1636, 0.0), (1637, 0.0), (1638, 0.0), (1639, 0.0), (1640, 0.0), (1641, 0.0), (1642, 0.0), (1643, 0.004222242349883334), (1644, 0.0068659234385540675), (1645, 0.003976599251078481), (1646, 0.0), (1647, 0.09565575674874045), (1648, 0.03304270458228897), (1649, 0.0), (1650, 0.006024901667398115), (1651, 0.0), (1652, 0.02395727943515226), (1653, 0.0038384793696573443), (1654, 0.01253982490592316), (1655, 0.01304010252032697), (1656, 0.0), (1657, 0.0), (1658, 0.01259991425175646), (1659, 0.0), (1660, 0.0), (1661, 0.0), (1662, 0.006066507539710643), (1663, 0.0), (1664, 0.006194512517979501), (1665, 0.012552706141532685), (1666, 0.0038369925280600323), (1667, 0.003761828324825524), (1668, 0.0), (1669, 0.0), (1670, 0.0), (1671, 0.022352000328679476), (1672, 0.0), (1673, 0.0), (1674, 0.01124945222498353), (1675, 0.04026429775557971), (1676, 0.03815540946787739), (1677, 0.00314187381913773), (1678, 0.010730519226336815), (1679, 0.0), (1680, 0.008558939161712437), (1681, 0.0), (1682, 0.01594644945965737), (1683, 0.0), (1684, 0.005929500399477763), (1685, 0.011310980627308592), (1686, 0.0), (1687, 0.004302698371174395), (1688, 0.006701753711206067), (1689, 0.0), (1690, 0.009535970361104613), (1691, 0.0), (1692, 0.00648305183587773), (1693, 0.003879612519064924), (1694, 0.008188562182799487), (1695, 0.0052034971458435955), (1696, 0.00643472289502409), (1697, 0.0), (1698, 0.0), (1699, 0.0), (1700, 0.0), (1701, 0.00517196817503084), (1702, 0.0), (1703, 0.0042193488807350955), (1704, 0.0), (1705, 0.010083302603999816), (1706, 0.0038734458094096765), (1707, 0.022535559244408136), (1708, 0.0076837934007438), (1709, 0.0), (1710, 0.010232198506991474), (1711, 0.004919503928223662), (1712, 0.007909230728310993), (1713, 0.007927652985652215), (1714, 0.01228766218948469), (1715, 0.005953061859010524), (1716, 0.014772859645077055), (1717, 0.004055597992694863), (1718, 0.0071356238971669005), (1719, 0.0035070843674083166), (1720, 0.028270493713760787), (1721, 0.012987922123915363), (1722, 0.004096331953506875), (1723, 0.006217771605585141), (1724, 0.0), (1725, 0.0), (1726, 0.0), (1727, 0.009770012863075628), (1728, 0.0), (1729, 0.0), (1730, 0.010627712630311892), (1731, 0.0), (1732, 0.0), (1733, 0.0), (1734, 0.0), (1735, 0.0097580510615841), (1736, 0.010182027943344848), (1737, 0.006994405005855892), (1738, 0.0), (1739, 0.011996828462853194), (1740, 0.0039611471636986275), (1741, 0.015543427312550043), (1742, 0.0), (1743, 0.00880393623577948), (1744, 0.003772681479571664), (1745, 0.0), (1746, 0.006234361388990929), (1747, 0.008288211905296921), (1748, 0.004663500772972878), (1749, 0.024072367723959605), (1750, 0.033525537500046165), (1751, 0.0), (1752, 0.012796412302868094), (1753, 0.0), (1754, 0.010196940983331935), (1755, 0.0), (1756, 0.0), (1757, 0.024689047289508097), (1758, 0.0), (1759, 0.015810989468568036), (1760, 0.0036002631611659138), (1761, 0.006903123192389253), (1762, 0.009396467294814635), (1763, 0.028743938343300912), (1764, 0.009619220913010313), (1765, 0.0), (1766, 0.0), (1767, 0.0), (1768, 0.0040355852130124804), (1769, 0.0), (1770, 0.007418142197255792), (1771, 0.0), (1772, 0.0), (1773, 0.006573977696333884), (1774, 0.01500249311075252), (1775, 0.0), (1776, 0.008708737355571674), (1777, 0.0), (1778, 0.0), (1779, 0.011010520028166298), (1780, 0.0), (1781, 0.0), (1782, 0.003827162946189437), (1783, 0.0), (1784, 0.0), (1785, 0.0), (1786, 0.0), (1787, 0.012556118300882092), (1788, 0.02456105346664419), (1789, 0.0), (1790, 0.008243934101338522), (1791, 0.0), (1792, 0.0), (1793, 0.006308172010903629), (1794, 0.0), (1795, 0.03170474022173689), (1796, 0.0037267425601400788), (1797, 0.008771969870402161), (1798, 0.011579023851276352), (1799, 0.007378079739748218), (1800, 0.0), (1801, 0.0), (1802, 0.013147833797064757), (1803, 0.0), (1804, 0.0), (1805, 0.0), (1806, 0.01127808917825061), (1807, 0.0065506758157188065), (1808, 0.0), (1809, 0.05083448281345343), (1810, 0.0), (1811, 0.0), (1812, 0.00711922898116932), (1813, 0.003921861713327999), (1814, 0.0), (1815, 0.010900864589426552), (1816, 0.008279564297019822), (1817, 0.017079365461392743), (1818, 0.006195705499817689), (1819, 0.003715398644768352), (1820, 0.0), (1821, 0.0503353712669925), (1822, 0.004432376592292647), (1823, 0.0), (1824, 0.0), (1825, 0.0), (1826, 0.0), (1827, 0.0035558807331722946), (1828, 0.0033577557923945922), (1829, 0.0), (1830, 0.003503615372178199), (1831, 0.0), (1832, 0.009770815519563129), (1833, 0.006064152613967461), (1834, 0.0), (1835, 0.0), (1836, 0.0), (1837, 0.0), (1838, 0.01628831865654077), (1839, 0.0), (1840, 0.0), (1841, 0.007262209049891806), (1842, 0.0), (1843, 0.0152191406699741), (1844, 0.0), (1845, 0.024243123237197288), (1846, 0.0), (1847, 0.01944158031878262), (1848, 0.0), (1849, 0.006467295024322502), (1850, 0.04413745153871697), (1851, 0.004279155872966623), (1852, 0.006422071641859014), (1853, 0.014322555937048509), (1854, 0.008706319366326778), (1855, 0.0), (1856, 0.0), (1857, 0.0), (1858, 0.010296807511669621), (1859, 0.0), (1860, 0.00674065598173895), (1861, 0.021080262633324805), (1862, 0.0), (1863, 0.00576767131598771), (1864, 0.010080255095200552), (1865, 0.020397135650474966), (1866, 0.004382418751820699), (1867, 0.006702697119115482), (1868, 0.03160159814929205), (1869, 0.0035909504478995238), (1870, 0.01187073196219161), (1871, 0.04263991066539836), (1872, 0.016855358418850993), (1873, 0.006685774904320673), (1874, 0.009825092621578988), (1875, 0.009755183973764858), (1876, 0.01103535421420103), (1877, 0.0), (1878, 0.018760426292574), (1879, 0.0), (1880, 0.01583435623846983), (1881, 0.0), (1882, 0.0038836972239921315), (1883, 0.0), (1884, 0.0036907733508304143), (1885, 0.03838133158543274), (1886, 0.0685994443647584), (1887, 0.0), (1888, 0.0), (1889, 0.0), (1890, 0.0), (1891, 0.003920938066907699), (1892, 0.003844383624364109), (1893, 0.004231866936480377), (1894, 0.0), (1895, 0.014760012112022297), (1896, 0.004286631959804867), (1897, 0.01149662091259292), (1898, 0.0), (1899, 0.0), (1900, 0.0), (1901, 0.0), (1902, 0.004151397687284035), (1903, 0.0059874130560775545), (1904, 0.0), (1905, 0.004243088492848145), (1906, 0.01586995913362982), (1907, 0.004307089952025274), (1908, 0.0070163895273879315), (1909, 0.004554598069154386), (1910, 0.0), (1911, 0.006802956270720859), (1912, 0.0), (1913, 0.006339737197669118), (1914, 0.0), (1915, 0.0), (1916, 0.004206906319902667), (1917, 0.0), (1918, 0.004162035854143324), (1919, 0.012745925530785358), (1920, 0.00950269921848561), (1921, 0.0), (1922, 0.009420742958559616), (1923, 0.004335215700104477), (1924, 0.004471037400308834), (1925, 0.0), (1926, 0.0), (1927, 0.015539168639317055), (1928, 0.0), (1929, 0.0), (1930, 0.0), (1931, 0.00407823557672052), (1932, 0.0), (1933, 0.0), (1934, 0.009330447922954102), (1935, 0.024183372537976706), (1936, 0.006697091727892684), (1937, 0.009080198695980935), (1938, 0.0), (1939, 0.0), (1940, 0.0), (1941, 0.0), (1942, 0.02021010647855676), (1943, 0.0033808184237231207), (1944, 0.0), (1945, 0.016241130909833448), (1946, 0.004062519180181587), (1947, 0.004667553478413007), (1948, 0.009272447228557613), (1949, 0.009516346583168883), (1950, 0.008680671085234747), (1951, 0.011072060093526442), (1952, 0.0), (1953, 0.0), (1954, 0.0), (1955, 0.0), (1956, 0.0), (1957, 0.01102634509621817), (1958, 0.0), (1959, 0.0), (1960, 0.004284461415061397), (1961, 0.0), (1962, 0.0), (1963, 0.0), (1964, 0.0035124499859084495), (1965, 0.0), (1966, 0.0), (1967, 0.013453359203777032), (1968, 0.004502966110446198), (1969, 0.0038505687177021702), (1970, 0.025311882584594714), (1971, 0.011687144380484432), (1972, 0.0), (1973, 0.0), (1974, 0.0), (1975, 0.0), (1976, 0.02731271945225685), (1977, 0.07869373851927064), (1978, 0.0), (1979, 0.0), (1980, 0.0), (1981, 0.0), (1982, 0.035132352090545965), (1983, 0.004080549494588665), (1984, 0.0), (1985, 0.020075913327063325), (1986, 0.0065985821638595765), (1987, 0.0), (1988, 0.01257922866654054), (1989, 0.003148871310024478), (1990, 0.02512127039352551), (1991, 0.0), (1992, 0.008702203093352184), (1993, 0.0), (1994, 0.08566877926250274), (1995, 0.004758628205698955), (1996, 0.017342260131035507), (1997, 0.01430468448900132), (1998, 0.0), (1999, 0.02827019196231145), (2000, 0.013864643907306354), (2001, 0.0), (2002, 0.0), (2003, 0.0), (2004, 0.003776467716873657), (2005, 0.012001203501429917), (2006, 0.0), (2007, 0.0), (2008, 0.01043758660771291), (2009, 0.0), (2010, 0.00329035824328422), (2011, 0.026551393092948215), (2012, 0.0), (2013, 0.024907854655946297), (2014, 0.03553164082856886), (2015, 0.0), (2016, 0.013995177806577885), (2017, 0.0), (2018, 0.021771545136099), (2019, 0.0), (2020, 0.02760433853454434), (2021, 0.0), (2022, 0.005333886735516834), (2023, 0.027421198546039825), (2024, 0.013034376555022186), (2025, 0.0), (2026, 0.060632813334738175), (2027, 0.017211762837406823), (2028, 0.0), (2029, 0.003790651438593641), (2030, 0.0), (2031, 0.003597333245842007), (2032, 0.0), (2033, 0.0), (2034, 0.003309836019928925), (2035, 0.019075806404203983), (2036, 0.0), (2037, 0.02855887886441926), (2038, 0.0), (2039, 0.0032575616538033105), (2040, 0.021766509490348654), (2041, 0.0), (2042, 0.0), (2043, 0.0), (2044, 0.0), (2045, 0.010465909407492945), (2046, 0.0), (2047, 0.0), (2048, 0.004233864667823104), (2049, 0.011920572346725958), (2050, 0.0), (2051, 0.012343307662585666), (2052, 0.013696665538090841), (2053, 0.01404911702047719), (2054, 0.0), (2055, 0.023671056500801105), (2056, 0.00633079415252761), (2057, 0.0), (2058, 0.006000708672979128), (2059, 0.0), (2060, 0.0), (2061, 0.00395095734023765), (2062, 0.0062783731055744444), (2063, 0.0), (2064, 0.004792777999846398), (2065, 0.011661194127102408), (2066, 0.0), (2067, 0.0041748212963176375), (2068, 0.004001187837191268), (2069, 0.003814508218087273), (2070, 0.016963642081950517), (2071, 0.0), (2072, 0.0), (2073, 0.003970941363082752), (2074, 0.0059399870550733425), (2075, 0.00511650347146088), (2076, 0.00796048248625369), (2077, 0.0), (2078, 0.0), (2079, 0.0), (2080, 0.009551713250487311), (2081, 0.0), (2082, 0.038480079775704494), (2083, 0.004146409350835014), (2084, 0.0), (2085, 0.0), (2086, 0.0), (2087, 0.010453506856812622), (2088, 0.004114459921440085), (2089, 0.004563073569796169), (2090, 0.0), (2091, 0.0040658340572372045), (2092, 0.0), (2093, 0.0), (2094, 0.006244646532246242), (2095, 0.006366290800796256), (2096, 0.011786252294593734), (2097, 0.014545966442513433), (2098, 0.006296930151813754), (2099, 0.0), (2100, 0.0), (2101, 0.007366277043688874), (2102, 0.031108113295811715), (2103, 0.010242680252041348), (2104, 0.004283473614175584), (2105, 0.004225367540477181), (2106, 0.0), (2107, 0.0), (2108, 0.004706216693405783), (2109, 0.006732113997182297), (2110, 0.01546291358070383), (2111, 0.0), (2112, 0.06183267352146365), (2113, 0.006036774862296073), (2114, 0.029953494904550772), (2115, 0.0), (2116, 0.012046636008574179), (2117, 0.003789381433255422), (2118, 0.0), (2119, 0.0157521095635279), (2120, 0.0), (2121, 0.010323492770154846), (2122, 0.04079130187527043), (2123, 0.03720054326801209), (2124, 0.0), (2125, 0.0), (2126, 0.010182008909063584), (2127, 0.003303103419667192), (2128, 0.0), (2129, 0.0), (2130, 0.0), (2131, 0.0037770935039500657), (2132, 0.003275060130152518), (2133, 0.05061349404903305), (2134, 0.004486901379034337), (2135, 0.0), (2136, 0.0), (2137, 0.0), (2138, 0.0), (2139, 0.0), (2140, 0.0), (2141, 0.0), (2142, 0.0), (2143, 0.009941052523923116), (2144, 0.010851474280455745), (2145, 0.012375532542918493), (2146, 0.0), (2147, 0.0), (2148, 0.0), (2149, 0.018534971099095614), (2150, 0.0), (2151, 0.0), (2152, 0.0), (2153, 0.0), (2154, 0.012929855270340417), (2155, 0.01061655870088541), (2156, 0.0058255224593960755), (2157, 0.026362418525426146), (2158, 0.0), (2159, 0.004373326159339099), (2160, 0.006514447982940101), (2161, 0.0166547993209256), (2162, 0.004631668873390758), (2163, 0.0), (2164, 0.0), (2165, 0.0), (2166, 0.0), (2167, 0.018554758706441375), (2168, 0.0), (2169, 0.004031031116976641), (2170, 0.0), (2171, 0.0), (2172, 0.0), (2173, 0.0), (2174, 0.010493342184459898), (2175, 0.00614527451416463), (2176, 0.004556797966743329), (2177, 0.013464528557619), (2178, 0.0), (2179, 0.0), (2180, 0.0), (2181, 0.0), (2182, 0.0), (2183, 0.0), (2184, 0.0), (2185, 0.0059038359956808525), (2186, 0.0), (2187, 0.0), (2188, 0.0048123759026123345), (2189, 0.0), (2190, 0.0), (2191, 0.04969047105836009), (2192, 0.0), (2193, 0.006847769791567298), (2194, 0.0), (2195, 0.0038242012456922384), (2196, 0.009804479595923923), (2197, 0.005544504176959088), (2198, 0.03226197545055136), (2199, 0.0051681967427707415), (2200, 0.0), (2201, 0.0036451260130785394), (2202, 0.00640953486482725), (2203, 0.006208168093385455), (2204, 0.0), (2205, 0.0062183974485320445), (2206, 0.008971302484828915), (2207, 0.0), (2208, 0.0), (2209, 0.007587005003349295), (2210, 0.022461057169533467), (2211, 0.009040248742664864), (2212, 0.041550942623166096), (2213, 0.0), (2214, 0.05449503002078705), (2215, 0.0), (2216, 0.012995751694138798), (2217, 0.0), (2218, 0.0), (2219, 0.0), (2220, 0.0), (2221, 0.026314127269730817), (2222, 0.0), (2223, 0.004448880396433958), (2224, 0.012443975119428822), (2225, 0.0), (2226, 0.003906735130836857), (2227, 0.0), (2228, 0.0), (2229, 0.004710607653164121), (2230, 0.004257641123518425), (2231, 0.0), (2232, 0.0), (2233, 0.0), (2234, 0.0), (2235, 0.009745252870439132), (2236, 0.006004370351054139), (2237, 0.019645170223878367), (2238, 0.0), (2239, 0.006652006017361275), (2240, 0.0035097568760357155), (2241, 0.0), (2242, 0.0043098641187901635), (2243, 0.0), (2244, 0.007349038006488715), (2245, 0.0), (2246, 0.0), (2247, 0.0), (2248, 0.0), (2249, 0.0), (2250, 0.013077723569381226), (2251, 0.005561275866525498), (2252, 0.0), (2253, 0.0), (2254, 0.01412420170643606), (2255, 0.005378419885867682), (2256, 0.0), (2257, 0.005317229176290935), (2258, 0.01695357969101458), (2259, 0.0), (2260, 0.0044471592848161325), (2261, 0.0), (2262, 0.0), (2263, 0.0), (2264, 0.00826267387707308), (2265, 0.009971549196754647), (2266, 0.004957542334345428), (2267, 0.0), (2268, 0.0), (2269, 0.0044307274003392546), (2270, 0.0), (2271, 0.0), (2272, 0.0), (2273, 0.0), (2274, 0.0), (2275, 0.012500396351830867), (2276, 0.015927001317592566), (2277, 0.011178584191527044), (2278, 0.0), (2279, 0.013596864692693608), (2280, 0.009109371006046767), (2281, 0.0), (2282, 0.0), (2283, 0.0), (2284, 0.009388814321436453), (2285, 0.0058659476361033695), (2286, 0.005121313367530718), (2287, 0.0036152324695102865), (2288, 0.0), (2289, 0.004284210849299535), (2290, 0.016568031713992765), (2291, 0.00640722957973634), (2292, 0.0), (2293, 0.0), (2294, 0.05214051334768202), (2295, 0.004376699071471705), (2296, 0.0), (2297, 0.0), (2298, 0.015631112734166605), (2299, 0.0), (2300, 0.0), (2301, 0.021749108998676787), (2302, 0.004553468253823313), (2303, 0.0070199352986839375), (2304, 0.0), (2305, 0.0), (2306, 0.008351057467662012), (2307, 0.0), (2308, 0.0), (2309, 0.006969670421573086), (2310, 0.0), (2311, 0.0), (2312, 0.0), (2313, 0.004008447656929598), (2314, 0.0), (2315, 0.0), (2316, 0.03939881147897681), (2317, 0.0), (2318, 0.06130040287819288), (2319, 0.004092668432104866), (2320, 0.004694168658607323), (2321, 0.040393019991417055), (2322, 0.0), (2323, 0.0), (2324, 0.0), (2325, 0.0), (2326, 0.0), (2327, 0.0), (2328, 0.0), (2329, 0.0), (2330, 0.0), (2331, 0.0), (2332, 0.0), (2333, 0.0), (2334, 0.014306061608309825), (2335, 0.006619888444473258), (2336, 0.0), (2337, 0.0), (2338, 0.0035339751512865974), (2339, 0.0076651495878491864), (2340, 0.0), (2341, 0.0), (2342, 0.0), (2343, 0.0), (2344, 0.0042800238638407255), (2345, 0.0), (2346, 0.010400677207781792), (2347, 0.018210532492251557), (2348, 0.004329586653616257), (2349, 0.005700322573049349), (2350, 0.005050327254062306), (2351, 0.0), (2352, 0.0), (2353, 0.016263782769292235), (2354, 0.0), (2355, 0.003574340453374228), (2356, 0.0), (2357, 0.0), (2358, 0.0), (2359, 0.003353561469544483), (2360, 0.0), (2361, 0.004235408031360269), (2362, 0.02151843086810087), (2363, 0.0), (2364, 0.0), (2365, 0.036371915311171454), (2366, 0.014306227535800372), (2367, 0.003661190313171404), (2368, 0.019472664825900016), (2369, 0.0), (2370, 0.0), (2371, 0.0), (2372, 0.0), (2373, 0.0), (2374, 0.045029267506010696), (2375, 0.04437949004678768), (2376, 0.015458562881164256), (2377, 0.0), (2378, 0.0), (2379, 0.005633014893031107), (2380, 0.0), (2381, 0.0), (2382, 0.0), (2383, 0.0), (2384, 0.0), (2385, 0.0), (2386, 0.0044147511450760655), (2387, 0.0), (2388, 0.004850807405873213), (2389, 0.0), (2390, 0.0043024313116174304), (2391, 0.0042866053701590716), (2392, 0.0), (2393, 0.004152455308324702), (2394, 0.004449237101866755), (2395, 0.0), (2396, 0.0), (2397, 0.003790808357010729), (2398, 0.0), (2399, 0.003688289174066015), (2400, 0.004596096986714327), (2401, 0.0), (2402, 0.004153383380168458), (2403, 0.007871244101935083), (2404, 0.0), (2405, 0.004118212975606719), (2406, 0.016378861308911825), (2407, 0.005554900351935012), (2408, 0.0), (2409, 0.0), (2410, 0.0), (2411, 0.00447249266289973), (2412, 0.01138069783023169), (2413, 0.029137442334702664), (2414, 0.0), (2415, 0.005142455419523625), (2416, 0.0), (2417, 0.007735154053179571), (2418, 0.007319120180583123), (2419, 0.0), (2420, 0.0), (2421, 0.006688176133467472), (2422, 0.003946818310086102), (2423, 0.0051321632210752305), (2424, 0.0), (2425, 0.0), (2426, 0.006151783125793033), (2427, 0.004604372272235798), (2428, 0.00478570106907872), (2429, 0.0), (2430, 0.003862359971383804), (2431, 0.0), (2432, 0.0), (2433, 0.0), (2434, 0.004805720659763191), (2435, 0.0), (2436, 0.011685003131880835), (2437, 0.004787307415709872), (2438, 0.005224334324821547), (2439, 0.0054723034269910644), (2440, 0.015914923649828855), (2441, 0.0032991874607980662), (2442, 0.0), (2443, 0.028202669442058022), (2444, 0.0), (2445, 0.0), (2446, 0.0), (2447, 0.011376534316809642), (2448, 0.0050219303718640395), (2449, 0.02566397530901887), (2450, 0.0), (2451, 0.0), (2452, 0.0), (2453, 0.003666478949652975), (2454, 0.0), (2455, 0.0), (2456, 0.0), (2457, 0.003717741015127545), (2458, 0.0), (2459, 0.004749527373216865), (2460, 0.014602840436490242), (2461, 0.003809949377794367), (2462, 0.0), (2463, 0.006561417365907359), (2464, 0.011601012310721607), (2465, 0.0), (2466, 0.004154203809753283), (2467, 0.030349832150181246), (2468, 0.01204193277800945), (2469, 0.020327331227689913), (2470, 0.0), (2471, 0.0), (2472, 0.0), (2473, 0.01022652656500996), (2474, 0.013927791478404537), (2475, 0.0045831845718758545), (2476, 0.0), (2477, 0.004287152252629707), (2478, 0.004522842813422323), (2479, 0.0), (2480, 0.006480626834042307), (2481, 0.026935755464672723), (2482, 0.0036879179691857097), (2483, 0.0), (2484, 0.028208218789779225), (2485, 0.0), (2486, 0.010826132359878388), (2487, 0.026550966695181515), (2488, 0.004910330480851291), (2489, 0.01351444283736527), (2490, 0.00563895219076985), (2491, 0.0), (2492, 0.003950419622646144), (2493, 0.0), (2494, 0.011304709742230268), (2495, 0.0), (2496, 0.0038344495238299085), (2497, 0.0), (2498, 0.0), (2499, 0.0), (2500, 0.0), (2501, 0.0), (2502, 0.0035869959294237094), (2503, 0.006687967170624807), (2504, 0.0), (2505, 0.00776878502570374), (2506, 0.0), (2507, 0.0), (2508, 0.0), (2509, 0.0034207052815823573), (2510, 0.007411940005111977), (2511, 0.0), (2512, 0.012873368025811719), (2513, 0.018254587131071066), (2514, 0.0), (2515, 0.0), (2516, 0.0), (2517, 0.03281805600946537), (2518, 0.0), (2519, 0.0), (2520, 0.003472228725159329), (2521, 0.0), (2522, 0.014458181026348469), (2523, 0.0), (2524, 0.010620749608614198), (2525, 0.0), (2526, 0.0033129833201272856), (2527, 0.003704470654797584), (2528, 0.003745117540238802), (2529, 0.005814453597916095), (2530, 0.004966898626282775), (2531, 0.004094937789697838), (2532, 0.0), (2533, 0.0), (2534, 0.0017630857497867138), (2535, 0.00485953643924831), (2536, 0.0), (2537, 0.0), (2538, 0.07076697827440319), (2539, 0.0), (2540, 0.036836044121869804), (2541, 0.0), (2542, 0.0), (2543, 0.0), (2544, 0.0), (2545, 0.007749624052838119), (2546, 0.009943078393128647), (2547, 0.0), (2548, 0.0), (2549, 0.0), (2550, 0.04919838966490607), (2551, 0.0), (2552, 0.0), (2553, 0.01918257948786488), (2554, 0.004074604771425584), (2555, 0.004415972696873658), (2556, 0.003977906414707372), (2557, 0.0), (2558, 0.08215333605773749), (2559, 0.005526840635781914), (2560, 0.024900884420043755), (2561, 0.0), (2562, 0.0), (2563, 0.008734549125480603), (2564, 0.0), (2565, 0.006783519947629211), (2566, 0.0), (2567, 0.0), (2568, 0.014978899281825336), (2569, 0.0), (2570, 0.004823604365306524), (2571, 0.0), (2572, 0.006629935428869165), (2573, 0.0), (2574, 0.0), (2575, 0.0), (2576, 0.0), (2577, 0.0), (2578, 0.0), (2579, 0.04993818719655133), (2580, 0.0034957371736071587), (2581, 0.0), (2582, 0.020038095910536066), (2583, 0.0), (2584, 0.0), (2585, 0.0), (2586, 0.0), (2587, 0.005806126961464257), (2588, 0.0), (2589, 0.0), (2590, 0.0), (2591, 0.0035197566761783045), (2592, 0.004378500543288703), (2593, 0.003980487978040464), (2594, 0.0), (2595, 0.0), (2596, 0.0), (2597, 0.0), (2598, 0.018413716693842064), (2599, 0.0), (2600, 0.0), (2601, 0.011772234445366592), (2602, 0.011841630546743824), (2603, 0.008885755942127496), (2604, 0.0), (2605, 0.0), (2606, 0.00391559289239259), (2607, 0.017886567640959257), (2608, 0.0), (2609, 0.004153445625914251), (2610, 0.0), (2611, 0.003657691043816513), (2612, 0.0038752991332185347), (2613, 0.0), (2614, 0.008930619537123981), (2615, 0.0), (2616, 0.0), (2617, 0.008008234349778032), (2618, 0.014965901317973531), (2619, 0.0), (2620, 0.0), (2621, 0.02206395229367044), (2622, 0.0337160608454464), (2623, 0.004662482651946681), (2624, 0.0), (2625, 0.00477881403059734), (2626, 0.0), (2627, 0.0), (2628, 0.0), (2629, 0.0045327245656580535), (2630, 0.046720021027048315), (2631, 0.0), (2632, 0.010510027778752077), (2633, 0.012089075105660915), (2634, 0.003800232398117619), (2635, 0.0), (2636, 0.0), (2637, 0.0), (2638, 0.02255008821433153), (2639, 0.01561662899650801), (2640, 0.00666271526389526), (2641, 0.0), (2642, 0.003799311682488931), (2643, 0.005060998766597588), (2644, 0.015183584629816978), (2645, 0.017722728087446543), (2646, 0.02254208834606765), (2647, 0.020023889238013525), (2648, 0.0), (2649, 0.0256383174759544), (2650, 0.01635719998257615), (2651, 0.0), (2652, 0.0042042955086627415), (2653, 0.04876806855764009), (2654, 0.016811871837205204), (2655, 0.005599455572982668), (2656, 0.0), (2657, 0.0), (2658, 0.0), (2659, 0.0), (2660, 0.004326054988345203), (2661, 0.004137872168730524), (2662, 0.0), (2663, 0.0), (2664, 0.004426893443875191), (2665, 0.005464719713671595), (2666, 0.0), (2667, 0.0), (2668, 0.01078942726484808), (2669, 0.0), (2670, 0.0), (2671, 0.0), (2672, 0.0), (2673, 0.0), (2674, 0.0038927078471473614), (2675, 0.0), (2676, 0.0), (2677, 0.0), (2678, 0.007206046186854666), (2679, 0.0), (2680, 0.006250475684112502), (2681, 0.0), (2682, 0.0), (2683, 0.0), (2684, 0.0), (2685, 0.0), (2686, 0.0), (2687, 0.03081295918048157), (2688, 0.011669149881610759), (2689, 0.019808662071225922), (2690, 0.0), (2691, 0.006782615765962009), (2692, 1.0000000000000002), (2693, 0.0), (2694, 0.04806572505875721), (2695, 0.013339337904542885), (2696, 0.005030509124126119), (2697, 0.003378899867419929), (2698, 0.010439251713064519), (2699, 0.0), (2700, 0.0), (2701, 0.0), (2702, 0.004683820382273867), (2703, 0.0), (2704, 0.0), (2705, 0.004758082283945374), (2706, 0.035004656428915204), (2707, 0.0), (2708, 0.006946355814354548), (2709, 0.0), (2710, 0.03228771115058383), (2711, 0.0), (2712, 0.019172242580976613), (2713, 0.0), (2714, 0.004266035500641544), (2715, 0.0), (2716, 0.0397323082051594), (2717, 0.0), (2718, 0.025295887709659855), (2719, 0.0), (2720, 0.0), (2721, 0.0), (2722, 0.0), (2723, 0.031213085596016894), (2724, 0.0035378825716355076), (2725, 0.0), (2726, 0.0067590242085366035), (2727, 0.011447851356393653), (2728, 0.0), (2729, 0.0), (2730, 0.0), (2731, 0.005338601363867317), (2732, 0.006757892395793574), (2733, 0.0), (2734, 0.0), (2735, 0.0), (2736, 0.0), (2737, 0.0), (2738, 0.0), (2739, 0.00985655375470751), (2740, 0.012188479622886064), (2741, 0.0036228459205336007), (2742, 0.014553162192577273), (2743, 0.003726386701672961), (2744, 0.010939049331654916), (2745, 0.020337986529536882), (2746, 0.004053015263420347), (2747, 0.003539024793376063), (2748, 0.004721389497990495), (2749, 0.0), (2750, 0.0), (2751, 0.029940871616184327), (2752, 0.009161111980987987), (2753, 0.0), (2754, 0.0), (2755, 0.0042931129483367155), (2756, 0.0), (2757, 0.0), (2758, 0.0032488753378975502), (2759, 0.007227276038400544), (2760, 0.019230881303190634), (2761, 0.003321847991753816), (2762, 0.027619395792128788), (2763, 0.0), (2764, 0.005662729632665728), (2765, 0.0), (2766, 0.0030790235853099227), (2767, 0.02234483438413418), (2768, 0.005748137846309452), (2769, 0.012583469830766872), (2770, 0.0), (2771, 0.0035443920547181293), (2772, 0.004793888672041674), (2773, 0.0), (2774, 0.0052374960755379694), (2775, 0.005779383291061602), (2776, 0.00424480262340213), (2777, 0.019150069111818525), (2778, 0.004879617708647509), (2779, 0.0038725818725747992), (2780, 0.009923087976692415), (2781, 0.0), (2782, 0.03504604984628269), (2783, 0.0), (2784, 0.013427951471864175), (2785, 0.0), (2786, 0.0), (2787, 0.0), (2788, 0.0), (2789, 0.005526535759588908), (2790, 0.0), (2791, 0.026726865554305944), (2792, 0.0), (2793, 0.0), (2794, 0.0), (2795, 0.018018971168215946), (2796, 0.004816730303314325), (2797, 0.005001975904334972), (2798, 0.011049787952846082), (2799, 0.0), (2800, 0.0036563302052199393), (2801, 0.0), (2802, 0.004001277470518704), (2803, 0.009727567835885863), (2804, 0.0), (2805, 0.013804793732694665), (2806, 0.0), (2807, 0.03434466105144191), (2808, 0.020116617330486353), (2809, 0.008452096715804122), (2810, 0.0), (2811, 0.0), (2812, 0.010694110938761766), (2813, 0.0), (2814, 0.0), (2815, 0.0), (2816, 0.006783625101974758), (2817, 0.0), (2818, 0.0), (2819, 0.0), (2820, 0.005877069615822826), (2821, 0.004115583392005328), (2822, 0.0), (2823, 0.01835491005385117), (2824, 0.0), (2825, 0.0), (2826, 0.0), (2827, 0.0), (2828, 0.0), (2829, 0.0), (2830, 0.004337511797558874), (2831, 0.010452802987261168), (2832, 0.006163292249768243), (2833, 0.0), (2834, 0.004913324020913746), (2835, 0.0), (2836, 0.0), (2837, 0.0), (2838, 0.004949520448217215), (2839, 0.0), (2840, 0.00440342561119288), (2841, 0.019672158527660424), (2842, 0.0), (2843, 0.007407967804734604), (2844, 0.008488422960752726), (2845, 0.00351213425596008), (2846, 0.0), (2847, 0.0), (2848, 0.004798299994512464), (2849, 0.010615337013807966), (2850, 0.0), (2851, 0.0), (2852, 0.0), (2853, 0.0), (2854, 0.0043767234483945185), (2855, 0.0), (2856, 0.0), (2857, 0.004739805109155436), (2858, 0.0), (2859, 0.04321721849143023), (2860, 0.0), (2861, 0.0), (2862, 0.003696611291003953), (2863, 0.0), (2864, 0.0), (2865, 0.0), (2866, 0.0), (2867, 0.020012896776963475), (2868, 0.03531528371089705), (2869, 0.043555737346399455), (2870, 0.005759942395059957), (2871, 0.00894365846792624), (2872, 0.005096554897692993), (2873, 0.007285137506640218), (2874, 0.014469350858331106), (2875, 0.0), (2876, 0.03170607645913188), (2877, 0.0), (2878, 0.004007698016444397), (2879, 0.00492729229814617), (2880, 0.0), (2881, 0.004618216116021635), (2882, 0.0), (2883, 0.005415758957807224), (2884, 0.0), (2885, 0.022204403658743432), (2886, 0.013331186571955887), (2887, 0.033339889077161164), (2888, 0.004436624948649858), (2889, 0.005525633964277727), (2890, 0.0044275383024382844), (2891, 0.0), (2892, 0.00372210426644054), (2893, 0.049291461722511434), (2894, 0.004114011559340001), (2895, 0.0), (2896, 0.0), (2897, 0.00914570098329675), (2898, 0.0), (2899, 0.0037565437878071587), (2900, 0.0), (2901, 0.005541901576931012), (2902, 0.0), (2903, 0.0656145978412406), (2904, 0.003973735303503441), (2905, 0.0), (2906, 0.0), (2907, 0.0038112508998538923), (2908, 0.028133859011006228), (2909, 0.0), (2910, 0.014047882678899877), (2911, 0.004100054145057739), (2912, 0.0), (2913, 0.008611039285439727), (2914, 0.004984099548637066), (2915, 0.011778793545965182), (2916, 0.0043930861550104195), (2917, 0.013896344261972239), (2918, 0.009141178103745474), (2919, 0.013938194730751122), (2920, 0.030419985119144483), (2921, 0.0), (2922, 0.0), (2923, 0.0), (2924, 0.004557100839093546), (2925, 0.010688792348950454), (2926, 0.004488267265783805), (2927, 0.0), (2928, 0.0), (2929, 0.005914239312500572), (2930, 0.0), (2931, 0.019007267712085392), (2932, 0.021787138267220237), (2933, 0.009273924429013284), (2934, 0.013830701237675484), (2935, 0.006240581084176121), (2936, 0.007585917209365681), (2937, 0.0), (2938, 0.0), (2939, 0.011876757880343435), (2940, 0.0), (2941, 0.0), (2942, 0.005765687449278094), (2943, 0.004486838527042858), (2944, 0.05056552145253638), (2945, 0.003924864362784203), (2946, 0.003971568756995637), (2947, 0.0), (2948, 0.0), (2949, 0.0), (2950, 0.0), (2951, 0.0), (2952, 0.0), (2953, 0.0), (2954, 0.0), (2955, 0.0), (2956, 0.0), (2957, 0.0), (2958, 0.0), (2959, 0.0), (2960, 0.0), (2961, 0.01330635442419656), (2962, 0.0), (2963, 0.0), (2964, 0.007045669803098792), (2965, 0.003876828385257043), (2966, 0.0048773387061857056), (2967, 0.0), (2968, 0.0), (2969, 0.014300093921231142), (2970, 0.0), (2971, 0.02479248010009458), (2972, 0.003977015942622836), (2973, 0.0), (2974, 0.004649556623906994), (2975, 0.009197305369103582), (2976, 0.003553605539904384), (2977, 0.010956504508896552), (2978, 0.010341934565271048), (2979, 0.0), (2980, 0.010572985789705449), (2981, 0.03321772717813738), (2982, 0.0), (2983, 0.0), (2984, 0.0), (2985, 0.005463667927320266), (2986, 0.004733309617644153), (2987, 0.0), (2988, 0.010839323727006776), (2989, 0.005720351182949406), (2990, 0.0), (2991, 0.0), (2992, 0.00622140133137647), (2993, 0.0), (2994, 0.0), (2995, 0.021975116076856538), (2996, 0.014184079872161007), (2997, 0.0), (2998, 0.00611175877798653), (2999, 0.004198859469719029), (3000, 0.016274359589592665), (3001, 0.0), (3002, 0.0), (3003, 0.0), (3004, 0.03799236710273686), (3005, 0.0), (3006, 0.0), (3007, 0.0), (3008, 0.007747585356175858), (3009, 0.0), (3010, 0.024073585839682003), (3011, 0.0), (3012, 0.004731981594239753), (3013, 0.004446089101791213), (3014, 0.0037436793670111044), (3015, 0.005292026971816782), (3016, 0.0), (3017, 0.032438369735510064), (3018, 0.0), (3019, 0.01659281872911563), (3020, 0.0), (3021, 0.0), (3022, 0.0), (3023, 0.045634040360026565), (3024, 0.0032552308935507967), (3025, 0.0), (3026, 0.0), (3027, 0.0036151820733826934), (3028, 0.003806137350036516), (3029, 0.0), (3030, 0.0), (3031, 0.0), (3032, 0.004528020317217454), (3033, 0.006642189020249131), (3034, 0.0), (3035, 0.0), (3036, 0.019847249390480697), (3037, 0.004393941219816662), (3038, 0.0), (3039, 0.007474994428955189), (3040, 0.0), (3041, 0.0), (3042, 0.0), (3043, 0.015008287911098843), (3044, 0.004488890760916817), (3045, 0.026054910937629298), (3046, 0.006380844337661031), (3047, 0.0), (3048, 0.0), (3049, 0.0), (3050, 0.003935570277207166), (3051, 0.005592082997479996), (3052, 0.0), (3053, 0.08082042759889209), (3054, 0.0), (3055, 0.0), (3056, 0.003321466035217475), (3057, 0.0), (3058, 0.0), (3059, 0.0), (3060, 0.0), (3061, 0.0), (3062, 0.00475434783806334), (3063, 0.0), (3064, 0.0), (3065, 0.009566532115563008), (3066, 0.0065357288195873825), (3067, 0.011554470975575971), (3068, 0.0), (3069, 0.0), (3070, 0.008408421512365592), (3071, 0.00375221779570438), (3072, 0.0047790699108194315), (3073, 0.0), (3074, 0.005152963587900149), (3075, 0.0042298459654450645), (3076, 0.0052193717144927215), (3077, 0.0), (3078, 0.0), (3079, 0.0), (3080, 0.0), (3081, 0.004946556773432919), (3082, 0.0), (3083, 0.023449835557864025), (3084, 0.0), (3085, 0.006227207444043521), (3086, 0.014149068079792274), (3087, 0.0), (3088, 0.0), (3089, 0.0), (3090, 0.0), (3091, 0.018606845922419995), (3092, 0.0), (3093, 0.0), (3094, 0.011969156200501605), (3095, 0.016936840826429444), (3096, 0.009168484087321866), (3097, 0.004335158024390435), (3098, 0.01706728752100399), (3099, 0.008395607120724917), (3100, 0.0), (3101, 0.0), (3102, 0.03544681017220338), (3103, 0.0), (3104, 0.0), (3105, 0.0), (3106, 0.0), (3107, 0.0), (3108, 0.009402064489355398), (3109, 0.0), (3110, 0.010590907022128677), (3111, 0.019748051001690345), (3112, 0.004348096890733579), (3113, 0.0), (3114, 0.006179196131938413), (3115, 0.0), (3116, 0.004416832754927228), (3117, 0.0), (3118, 0.009002712446339597), (3119, 0.01306680856453908), (3120, 0.0036352807904870134), (3121, 0.0), (3122, 0.004053641731222933), (3123, 0.004798581496853375), (3124, 0.0), (3125, 0.004049892110351193), (3126, 0.0), (3127, 0.029672968538829208), (3128, 0.0), (3129, 0.013506858424679608), (3130, 0.0), (3131, 0.0), (3132, 0.0), (3133, 0.0), (3134, 0.0), (3135, 0.0), (3136, 0.0), (3137, 0.003576983996628853), (3138, 0.0), (3139, 0.0), (3140, 0.005142186103153115), (3141, 0.0), (3142, 0.013138832631877118), (3143, 0.0), (3144, 0.020452461994016978), (3145, 0.0), (3146, 0.004424457188476979), (3147, 0.003645320049160356), (3148, 0.004597383695892906), (3149, 0.0), (3150, 0.0), (3151, 0.010501226499354407), (3152, 0.008507227329808588), (3153, 0.020869504340574087), (3154, 0.028122846748732184), (3155, 0.009515042305865305), (3156, 0.02545822194223117), (3157, 0.029069584081028124), (3158, 0.0), (3159, 0.0), (3160, 0.0), (3161, 0.0), (3162, 0.0), (3163, 0.0), (3164, 0.005515861177203006), (3165, 0.004900199363251908), (3166, 0.005473241372247575), (3167, 0.024898694887644787), (3168, 0.0), (3169, 0.0), (3170, 0.003929742728405851), (3171, 0.01295925514980658), (3172, 0.0), (3173, 0.0), (3174, 0.0), (3175, 0.0), (3176, 0.0), (3177, 0.0), (3178, 0.006317025510434287), (3179, 0.0), (3180, 0.0), (3181, 0.0), (3182, 0.00409361753111694), (3183, 0.004329428863659384), (3184, 0.004213050282487624), (3185, 0.0), (3186, 0.0), (3187, 0.004288176435965979), (3188, 0.0), (3189, 0.0), (3190, 0.0), (3191, 0.0), (3192, 0.010590426552996466), (3193, 0.0), (3194, 0.003815178352852685), (3195, 0.003976126451438913), (3196, 0.004433419296502542), (3197, 0.0), (3198, 0.004287548531652124), (3199, 0.0031144981226453507), (3200, 0.003293762523326898), (3201, 0.0), (3202, 0.0), (3203, 0.05375159136649927), (3204, 0.0), (3205, 0.0052522318529255605), (3206, 0.0), (3207, 0.0), (3208, 0.0), (3209, 0.04226304246157129), (3210, 0.01399349357719933), (3211, 0.0), (3212, 0.0), (3213, 0.013208140032027568), (3214, 0.004325613093859947), (3215, 0.005639886983118021), (3216, 0.0), (3217, 0.0), (3218, 0.011621868463716213), (3219, 0.005335354747977875), (3220, 0.003847978798184609), (3221, 0.0), (3222, 0.02116122025778816), (3223, 0.0), (3224, 0.0), (3225, 0.0), (3226, 0.016436192017280218), (3227, 0.004148441602504796), (3228, 0.012793935521981058), (3229, 0.0), (3230, 0.0), (3231, 0.0), (3232, 0.008834275390314885), (3233, 0.004096063863816662), (3234, 0.0041912054239289015), (3235, 0.004287557867647006), (3236, 0.0), (3237, 0.010437721141539517), (3238, 0.0), (3239, 0.0), (3240, 0.010233787676511005), (3241, 0.004136589122815679), (3242, 0.0), (3243, 0.0), (3244, 0.006094113874348183), (3245, 0.010457687754464066), (3246, 0.006256562792514055), (3247, 0.0), (3248, 0.03287449000159064), (3249, 0.04574871574239424), (3250, 0.0), (3251, 0.0), (3252, 0.0), (3253, 0.01457183706095674), (3254, 0.0036621037661073376), (3255, 0.0365370102471696), (3256, 0.008004456357685756), (3257, 0.005717052285884628), (3258, 0.004551695614895382), (3259, 0.009960454443937167), (3260, 0.026815970684639714), (3261, 0.0), (3262, 0.005687098772783821), (3263, 0.0), (3264, 0.007172626588734139), (3265, 0.006689119104644718), (3266, 0.0), (3267, 0.00867064727989688), (3268, 0.003995376651086083), (3269, 0.0), (3270, 0.0), (3271, 0.0), (3272, 0.0), (3273, 0.004340206712536184), (3274, 0.005011766308467101), (3275, 0.017126803066888505), (3276, 0.12953592698679509), (3277, 0.0), (3278, 0.003647520738242119), (3279, 0.01329903592836987), (3280, 0.03248279568616714), (3281, 0.0), (3282, 0.004955565763495686), (3283, 0.0), (3284, 0.015754996496420117), (3285, 0.024372346265318694), (3286, 0.0), (3287, 0.0), (3288, 0.006564499612861459), (3289, 0.0), (3290, 0.0), (3291, 0.006040284907970716), (3292, 0.0), (3293, 0.0037611165978066684), (3294, 0.04821842728541109), (3295, 0.01533454055587212), (3296, 0.0045919859620618285), (3297, 0.01369181719110624), (3298, 0.003787960901598542), (3299, 0.013136820340935886), (3300, 0.0037618008420663394), (3301, 0.0033131595548294103), (3302, 0.004741590761406385), (3303, 0.003979764841885072), (3304, 0.0035622152598899642), (3305, 0.0), (3306, 0.01677292848209751), (3307, 0.0), (3308, 0.004616876427289643), (3309, 0.006463176655417785), (3310, 0.0), (3311, 0.0036540744731450555), (3312, 0.010807068149935477), (3313, 0.03062113097420786), (3314, 0.00414111415920375), (3315, 0.0038730031640471013), (3316, 0.008112854359121596), (3317, 0.01082964826344715), (3318, 0.0035472528793995257), (3319, 0.022958171302472883), (3320, 0.0), (3321, 0.0), (3322, 0.0), (3323, 0.0), (3324, 0.0), (3325, 0.006192401177233218), (3326, 0.0041313542208085245), (3327, 0.0034819672307711373), (3328, 0.014632034724202492), (3329, 0.006025495364882277), (3330, 0.003928555178821772), (3331, 0.0034100958462867895), (3332, 0.0), (3333, 0.0), (3334, 0.009658653107468497), (3335, 0.0), (3336, 0.0), (3337, 0.0), (3338, 0.0), (3339, 0.0), (3340, 0.0), (3341, 0.0), (3342, 0.003639012512406502), (3343, 0.0), (3344, 0.024558764297578247), (3345, 0.02328104550360171), (3346, 0.010571650117248203), (3347, 0.003320549206224375), (3348, 0.0), (3349, 0.004225486285684631), (3350, 0.0), (3351, 0.03697612714611918), (3352, 0.02165127874318843), (3353, 0.004185454938494462), (3354, 0.0), (3355, 0.004713938835707848), (3356, 0.014088688400335357), (3357, 0.004730085905250253), (3358, 0.0), (3359, 0.0048173088805675114), (3360, 0.01498768483865041), (3361, 0.0), (3362, 0.038975330723498694), (3363, 0.004925040110189443), (3364, 0.004657221233503411), (3365, 0.002937068026306354), (3366, 0.0), (3367, 0.0), (3368, 0.0), (3369, 0.0), (3370, 0.012538411087470287), (3371, 0.0), (3372, 0.0), (3373, 0.010569495036916897), (3374, 0.014179144082976507), (3375, 0.015866837717949132), (3376, 0.03039536902235366), (3377, 0.029712997126982842), (3378, 0.0), (3379, 0.0037925298672268023), (3380, 0.0035001343012870927), (3381, 0.0), (3382, 0.009805766754041113), (3383, 0.0), (3384, 0.007724648161895258), (3385, 0.05380260051796701), (3386, 0.010985065431313428), (3387, 0.007279495550026625), (3388, 0.004086943433973049), (3389, 0.009757607550853668), (3390, 0.0), (3391, 0.0045154366165929116), (3392, 0.0), (3393, 0.0034096546264991076), (3394, 0.0), (3395, 0.018293801433713678), (3396, 0.0), (3397, 0.0), (3398, 0.0), (3399, 0.009989915079441278), (3400, 0.0), (3401, 0.0), (3402, 0.003851401494984525), (3403, 0.019704414000296953), (3404, 0.0), (3405, 0.0), (3406, 0.00425403684069154), (3407, 0.009989430954961952), (3408, 0.04605328523849834), (3409, 0.009027779460280059), (3410, 0.00525224373197385), (3411, 0.0), (3412, 0.0), (3413, 0.004762571177426326), (3414, 0.0), (3415, 0.0), (3416, 0.006689246738024989), (3417, 0.004349657716074014), (3418, 0.009059035945005334), (3419, 0.0), (3420, 0.02861387876950998), (3421, 0.014444692769501761), (3422, 0.0), (3423, 0.007826702472433208), (3424, 0.0), (3425, 0.004601286201567536), (3426, 0.0062690206850444545), (3427, 0.04425772743196795), (3428, 0.027457819618864482), (3429, 0.0), (3430, 0.033640480156718645), (3431, 0.0), (3432, 0.0), (3433, 0.019714747256974075), (3434, 0.0), (3435, 0.003967460752690183), (3436, 0.004015069015551351), (3437, 0.014155571331470296), (3438, 0.0), (3439, 0.0), (3440, 0.0), (3441, 0.0), (3442, 0.0), (3443, 0.0), (3444, 0.0), (3445, 0.004049900924416045), (3446, 0.018903178611852988), (3447, 0.0279638231499737), (3448, 0.0), (3449, 0.004278461150008417), (3450, 0.025702533623012603), (3451, 0.0), (3452, 0.0), (3453, 0.010702999414837535), (3454, 0.0), (3455, 0.0), (3456, 0.004476530446944158), (3457, 0.007226060383383925), (3458, 0.004730062574444134), (3459, 0.0), (3460, 0.0037324331484405626), (3461, 0.0), (3462, 0.06433718536871226), (3463, 0.03655301319344748), (3464, 0.0), (3465, 0.008797810667786324), (3466, 0.014975922585338723), (3467, 0.0), (3468, 0.0), (3469, 0.020684410457592946), (3470, 0.03130334509721801), (3471, 0.019699833245485767), (3472, 0.0), (3473, 0.0), (3474, 0.00352018592880772), (3475, 0.0), (3476, 0.0), (3477, 0.003860156935983051), (3478, 0.0), (3479, 0.005310112606067287), (3480, 0.07432543580694267), (3481, 0.0), (3482, 0.0), (3483, 0.020873227022936126), (3484, 0.0), (3485, 0.0), (3486, 0.034887098786098525), (3487, 0.003811517346963363), (3488, 0.02730044540712819), (3489, 0.0), (3490, 0.0), (3491, 0.0), (3492, 0.022640424293401927), (3493, 0.004221693940540405), (3494, 0.0), (3495, 0.0), (3496, 0.004196808619376011), (3497, 0.0), (3498, 0.0348519448816389), (3499, 0.0), (3500, 0.003932230364138663), (3501, 0.004421990895130282), (3502, 0.0), (3503, 0.0036896311863490994), (3504, 0.018840745084195955), (3505, 0.0), (3506, 0.004645743664125443), (3507, 0.0), (3508, 0.013124611287622285), (3509, 0.005792475710523926), (3510, 0.0), (3511, 0.004225304860806551), (3512, 0.006878607975209782), (3513, 0.0), (3514, 0.0), (3515, 0.0072376618231553185), (3516, 0.004192308273466113), (3517, 0.0), (3518, 0.05031446706428748), (3519, 0.0), (3520, 0.0), (3521, 0.004746076997118849), (3522, 0.0), (3523, 0.0), (3524, 0.012444210650140942), (3525, 0.0), (3526, 0.004031332565378239), (3527, 0.004419922695010764), (3528, 0.01765263330187823), (3529, 0.0), (3530, 0.0), (3531, 0.0), (3532, 0.0), (3533, 0.0), (3534, 0.003456020005603482), (3535, 0.011603648321408137), (3536, 0.006640335891380342), (3537, 0.0), (3538, 0.0), (3539, 0.0), (3540, 0.0), (3541, 0.017068176324389006), (3542, 0.004094343593946079), (3543, 0.0), (3544, 0.0), (3545, 0.0), (3546, 0.0029578846889939453), (3547, 0.0), (3548, 0.0), (3549, 0.0), (3550, 0.0), (3551, 0.004057800928830014), (3552, 0.048144206579095024), (3553, 0.019881117733352133), (3554, 0.0), (3555, 0.0), (3556, 0.03169007236671172), (3557, 0.003939034332792378), (3558, 0.01650216157559439), (3559, 0.027429588005110642), (3560, 0.0045218621048403), (3561, 0.0), (3562, 0.0), (3563, 0.003702269982728793), (3564, 0.004096365713428179), (3565, 0.0), (3566, 0.006362441469175871), (3567, 0.0), (3568, 0.0), (3569, 0.0034745206918891935), (3570, 0.0), (3571, 0.004020089208284141), (3572, 0.034298708497833945), (3573, 0.0), (3574, 0.029563888536079833), (3575, 0.003381706619597244), (3576, 0.0), (3577, 0.004699844980377689), (3578, 0.0), (3579, 0.009518659754997773), (3580, 0.015338466589333436), (3581, 0.0), (3582, 0.00881336762519345), (3583, 0.0), (3584, 0.0), (3585, 0.0), (3586, 0.010102626319339053), (3587, 0.0), (3588, 0.0), (3589, 0.0), (3590, 0.004260953584131042), (3591, 0.0), (3592, 0.0), (3593, 0.0), (3594, 0.006743436874389963), (3595, 0.0), (3596, 0.007012186275616143), (3597, 0.015901412970847448), (3598, 0.006004404315700616), (3599, 0.007131900033377153), (3600, 0.0), (3601, 0.004331760807105905), (3602, 0.0), (3603, 0.0), (3604, 0.0), (3605, 0.0), (3606, 0.0), (3607, 0.0), (3608, 0.0), (3609, 0.0), (3610, 0.0), (3611, 0.0), (3612, 0.013963374143250606), (3613, 0.00520656789434825), (3614, 0.0036611513265753424), (3615, 0.0), (3616, 0.0), (3617, 0.0), (3618, 0.0043668541470865815), (3619, 0.0), (3620, 0.00502804371470577), (3621, 0.0), (3622, 0.0), (3623, 0.004159950839702208), (3624, 0.004125090682833924), (3625, 0.0), (3626, 0.0030947317958992266), (3627, 0.0), (3628, 0.0), (3629, 0.0), (3630, 0.014369346305427284), (3631, 0.0), (3632, 0.006730451789968697), (3633, 0.0), (3634, 0.009924918947187143), (3635, 0.0053856672173878), (3636, 0.0), (3637, 0.011722973459832193), (3638, 0.004908370131993751), (3639, 0.00454830313490055), (3640, 0.004496960566095393), (3641, 0.0038822150119933404), (3642, 0.00998058505954689), (3643, 0.011046846538558251), (3644, 0.0), (3645, 0.010913514951748544), (3646, 0.0037580021882669323), (3647, 0.0), (3648, 0.00693619080383545), (3649, 0.0), (3650, 0.0), (3651, 0.0), (3652, 0.03826794873791326), (3653, 0.004084851564356948), (3654, 0.004199097481856713), (3655, 0.05883374834411424), (3656, 0.03130734106953046), (3657, 0.00343760759557201), (3658, 0.0), (3659, 0.010085455230323614), (3660, 0.003876742866060369), (3661, 0.0076162721873694154), (3662, 0.0), (3663, 0.0), (3664, 0.0), (3665, 0.018211905242634472), (3666, 0.00403455838465995), (3667, 0.01097099245553515), (3668, 0.0), (3669, 0.0036920604187174045), (3670, 0.009552950713172725), (3671, 0.0), (3672, 0.0), (3673, 0.004027855633916419), (3674, 0.0), (3675, 0.0164273435372261), (3676, 0.0), (3677, 0.0), (3678, 0.0), (3679, 0.0), (3680, 0.004637422926916819), (3681, 0.0), (3682, 0.0), (3683, 0.0), (3684, 0.01602106285092007), (3685, 0.0), (3686, 0.0), (3687, 0.0), (3688, 0.0), (3689, 0.011073272109431934), (3690, 0.0), (3691, 0.0), (3692, 0.02171802862406058), (3693, 0.0), (3694, 0.014346466358718647), (3695, 0.0), (3696, 0.0038939266123523475), (3697, 0.0), (3698, 0.0), (3699, 0.00995396710283234), (3700, 0.0), (3701, 0.0), (3702, 0.0), (3703, 0.0), (3704, 0.0043253332351839285), (3705, 0.0036094371521335137), (3706, 0.003877054467584498), (3707, 0.004044812250977448), (3708, 0.010850642028413963), (3709, 0.0), (3710, 0.0), (3711, 0.022681558568535803), (3712, 0.0), (3713, 0.005533804899254133), (3714, 0.0), (3715, 0.0), (3716, 0.0), (3717, 0.0), (3718, 0.0), (3719, 0.0), (3720, 0.02780002117114808), (3721, 0.0), (3722, 0.0), (3723, 0.0), (3724, 0.0), (3725, 0.0), (3726, 0.0), (3727, 0.003993728497951871), (3728, 0.06245602651453863), (3729, 0.0), (3730, 0.0), (3731, 0.03899660567178765), (3732, 0.0), (3733, 0.006698692491171728), (3734, 0.0037957881870528108), (3735, 0.0), (3736, 0.0), (3737, 0.0), (3738, 0.0), (3739, 0.0039044533383754266), (3740, 0.0), (3741, 0.011470382388337275), (3742, 0.0036335545323822552), (3743, 0.0), (3744, 0.0), (3745, 0.004720431062910852), (3746, 0.0), (3747, 0.006966346706633461), (3748, 0.005968629511292892), (3749, 0.004343374429897517), (3750, 0.013600306644031862), (3751, 0.02758827143081653), (3752, 0.005974977961021693), (3753, 0.04606363470783795), (3754, 0.0044715224280067935), (3755, 0.003738625717450302), (3756, 0.011066616855467644), (3757, 0.0), (3758, 0.0), (3759, 0.0), (3760, 0.0), (3761, 0.0), (3762, 0.0), (3763, 0.005043974525629636), (3764, 0.0), (3765, 0.0041010249743876435), (3766, 0.005109744554891033), (3767, 0.009635114682559443), (3768, 0.0), (3769, 0.0), (3770, 0.0), (3771, 0.00430728034157901), (3772, 0.00470411171582718), (3773, 0.0), (3774, 0.0), (3775, 0.0), (3776, 0.0), (3777, 0.013969012680081631), (3778, 0.02365869993047209), (3779, 0.050033820579943114), (3780, 0.004314871805072428), (3781, 0.0), (3782, 0.0), (3783, 0.0), (3784, 0.010399391759579647), (3785, 0.0), (3786, 0.0), (3787, 0.0), (3788, 0.0), (3789, 0.0), (3790, 0.0), (3791, 0.0), (3792, 0.0), (3793, 0.0410411656196695), (3794, 0.00925078178527818), (3795, 0.0), (3796, 0.0), (3797, 0.012005249844148384), (3798, 0.0), (3799, 0.003975449965957579), (3800, 0.0), (3801, 0.02399269642509139), (3802, 0.0), (3803, 0.0), (3804, 0.0), (3805, 0.0), (3806, 0.0), (3807, 0.004192720234299687), (3808, 0.0), (3809, 0.004132019189045873), (3810, 0.020421908114587193), (3811, 0.0038776657489774124), (3812, 0.0), (3813, 0.004398563981318917), (3814, 0.0), (3815, 0.0), (3816, 0.0), (3817, 0.0), (3818, 0.0), (3819, 0.003890897677236308), (3820, 0.0), (3821, 0.005543273847691874), (3822, 0.011732529347202533), (3823, 0.0), (3824, 0.0), (3825, 0.00614362516289509), (3826, 0.010125726977029015), (3827, 0.004429452200724308), (3828, 0.017243296850953), (3829, 0.009858129200727005), (3830, 0.0), (3831, 0.0), (3832, 0.005229556843913233), (3833, 0.0), (3834, 0.0), (3835, 0.025361971320036602), (3836, 0.0), (3837, 0.0), (3838, 0.0), (3839, 0.023943458961510077), (3840, 0.0), (3841, 0.0), (3842, 0.008658713648352327), (3843, 0.0), (3844, 0.0), (3845, 0.004271351369226093), (3846, 0.0), (3847, 0.0), (3848, 0.0), (3849, 0.0), (3850, 0.02993087854467113), (3851, 0.0), (3852, 0.024603597447717524), (3853, 0.014818303492643636), (3854, 0.06342145816709537), (3855, 0.003289720897136101), (3856, 0.0), (3857, 0.0173698138535906), (3858, 0.0), (3859, 0.0), (3860, 0.008455140193133254), (3861, 0.01462189978477863), (3862, 0.014598436226015681), (3863, 0.0), (3864, 0.006361513378781878), (3865, 0.0059185594731047215), (3866, 0.004589774623132079), (3867, 0.004376117996571955), (3868, 0.028192128471586475), (3869, 0.0), (3870, 0.0), (3871, 0.02875799715670695), (3872, 0.0), (3873, 0.0043511455343451045), (3874, 0.0), (3875, 0.01916865447927385), (3876, 0.003973231380737349), (3877, 0.0), (3878, 0.0), (3879, 0.0), (3880, 0.009442027957090647), (3881, 0.0), (3882, 0.0042141381463509054), (3883, 0.004566789172107757), (3884, 0.0), (3885, 0.0), (3886, 0.0), (3887, 0.0), (3888, 0.004021895628542969), (3889, 0.0), (3890, 0.0038322328117359854), (3891, 0.0), (3892, 0.005258813836088983), (3893, 0.0044590898996724245), (3894, 0.0), (3895, 0.017234674999986353), (3896, 0.0), (3897, 0.0), (3898, 0.0037863474039156473), (3899, 0.0), (3900, 0.003963409714047637), (3901, 0.00513591098396602), (3902, 0.004308399158113528), (3903, 0.012415793496388692), (3904, 0.031090216339472607), (3905, 0.0), (3906, 0.0), (3907, 0.0), (3908, 0.0), (3909, 0.006200535786117685), (3910, 0.003659695882094265), (3911, 0.0), (3912, 0.0), (3913, 0.025553007900336672), (3914, 0.0), (3915, 0.0043466183851499154), (3916, 0.0), (3917, 0.003910775551105661), (3918, 0.0), (3919, 0.011538126731336092), (3920, 0.004365064900774472), (3921, 0.0), (3922, 0.005278747043284442), (3923, 0.023040935653249675), (3924, 0.014430983091225216), (3925, 0.006209811275002209), (3926, 0.0070286336972549745), (3927, 0.02244984813839883), (3928, 0.0034670564235947826), (3929, 0.0), (3930, 0.0), (3931, 0.0), (3932, 0.007272429862237868), (3933, 0.0), (3934, 0.02014975806206919), (3935, 0.0), (3936, 0.0), (3937, 0.0), (3938, 0.0), (3939, 0.0), (3940, 0.005384667067132231), (3941, 0.008534544118930261), (3942, 0.0), (3943, 0.0), (3944, 0.0), (3945, 0.05821381511182391), (3946, 0.0541067765511152), (3947, 0.04076491785252111), (3948, 0.0), (3949, 0.0), (3950, 0.0), (3951, 0.0078486007792153), (3952, 0.004780900495331127), (3953, 0.0037467327180425117), (3954, 0.00967157996713047), (3955, 0.04189252995173025), (3956, 0.0035612157867058276), (3957, 0.005606194309395399), (3958, 0.014144530432115702), (3959, 0.01440123392176345), (3960, 0.004484805780185766), (3961, 0.0275748803845354), (3962, 0.004445119300230249), (3963, 0.0), (3964, 0.0), (3965, 0.0), (3966, 0.0), (3967, 0.0), (3968, 0.0), (3969, 0.0), (3970, 0.0), (3971, 0.0), (3972, 0.0), (3973, 0.04790433550670519), (3974, 0.0038075625197846537), (3975, 0.0), (3976, 0.01768244593586609), (3977, 0.0), (3978, 0.01940536515635552), (3979, 0.0), (3980, 0.0), (3981, 0.0), (3982, 0.0), (3983, 0.03727097838979622), (3984, 0.004478521739760808), (3985, 0.0), (3986, 0.0), (3987, 0.0), (3988, 0.0), (3989, 0.0), (3990, 0.0054589468430716334), (3991, 0.0), (3992, 0.01440456345497616), (3993, 0.008790851936280897), (3994, 0.0), (3995, 0.0), (3996, 0.0), (3997, 0.0), (3998, 0.006455305241944873), (3999, 0.0), (4000, 0.00932876132160389), (4001, 0.007116388212785791), (4002, 0.0), (4003, 0.0), (4004, 0.025634120747188332), (4005, 0.03381772257631904), (4006, 0.0), (4007, 0.008918236535571252), (4008, 0.00701170737480205), (4009, 0.006122231172407209), (4010, 0.0), (4011, 0.003790957748143496), (4012, 0.019001417072957532), (4013, 0.0), (4014, 0.004247279135049295), (4015, 0.0), (4016, 0.02330483222032672), (4017, 0.0), (4018, 0.0), (4019, 0.0), (4020, 0.0038538187721578344), (4021, 0.0), (4022, 0.0), (4023, 0.0), (4024, 0.004261044569634298), (4025, 0.010904739437473724), (4026, 0.0), (4027, 0.0), (4028, 0.0), (4029, 0.0), (4030, 0.0), (4031, 0.0), (4032, 0.007801806667385286), (4033, 0.004107880165211504), (4034, 0.0), (4035, 0.0331099198036557), (4036, 0.004084755102518801), (4037, 0.0), (4038, 0.004203903377847397), (4039, 0.0), (4040, 0.0), (4041, 0.0), (4042, 0.0), (4043, 0.0), (4044, 0.0), (4045, 0.0), (4046, 0.0042065380256695725), (4047, 0.0), (4048, 0.011286194288053816), (4049, 0.0), (4050, 0.01799197471865601), (4051, 0.004527708268774891), (4052, 0.0070620502847995046), (4053, 0.019621642417041785), (4054, 0.004052154269089484), (4055, 0.005818892526851869), (4056, 0.004098828337506464), (4057, 0.0059748174917552835), (4058, 0.0), (4059, 0.0), (4060, 0.00901144238897479), (4061, 0.007062522249013073), (4062, 0.05698079533189092), (4063, 0.0), (4064, 0.0), (4065, 0.0), (4066, 0.003650988195333783), (4067, 0.0), (4068, 0.013153180388803531), (4069, 0.0038894012174911377), (4070, 0.0), (4071, 0.0), (4072, 0.0), (4073, 0.0), (4074, 0.0034730228496223452), (4075, 0.0), (4076, 0.0), (4077, 0.007482673735113673), (4078, 0.0), (4079, 0.0042440139316956066), (4080, 0.0), (4081, 0.01568470063272843), (4082, 0.005849553040394445), (4083, 0.0), (4084, 0.0), (4085, 0.0037520476815606613), (4086, 0.0), (4087, 0.004541517052739178), (4088, 0.01905748700759646), (4089, 0.0), (4090, 0.0), (4091, 0.0), (4092, 0.004503696651188454), (4093, 0.0), (4094, 0.0), (4095, 0.01126036664546164), (4096, 0.007927981821553251), (4097, 0.0), (4098, 0.004512429695161848), (4099, 0.006499395880098818), (4100, 0.0), (4101, 0.004513447493237149), (4102, 0.0), (4103, 0.0), (4104, 0.02664177226359106), (4105, 0.0), (4106, 0.0060632998100087045), (4107, 0.0), (4108, 0.0), (4109, 0.0), (4110, 0.006287913753660045), (4111, 0.0043751216810524775), (4112, 0.0), (4113, 0.0045471172638828815), (4114, 0.0), (4115, 0.0), (4116, 0.004357917406385294), (4117, 0.004776650831534986), (4118, 0.010508768457953564), (4119, 0.0), (4120, 0.0), (4121, 0.010766023034251148), (4122, 0.0), (4123, 0.004286830734708641), (4124, 0.00926753141288505), (4125, 0.0), (4126, 0.0), (4127, 0.0), (4128, 0.026357206927404352), (4129, 0.0), (4130, 0.004327295675352987), (4131, 0.0), (4132, 0.0), (4133, 0.0045186253442413594), (4134, 0.00995920958046326), (4135, 0.004058919071604476), (4136, 0.0), (4137, 0.04404923249678853), (4138, 0.004417911505049973), (4139, 0.0), (4140, 0.0), (4141, 0.0325001598127862), (4142, 0.0), (4143, 0.003674004308816573), (4144, 0.0), (4145, 0.0), (4146, 0.0), (4147, 0.0), (4148, 0.0), (4149, 0.01868875735711488), (4150, 0.0), (4151, 0.003404513191034698), (4152, 0.003807903669201351), (4153, 0.0), (4154, 0.0038413763369207162), (4155, 0.0), (4156, 0.020554982391206192), (4157, 0.0), (4158, 0.00567899850272969), (4159, 0.0), (4160, 0.004821968372415166), (4161, 0.0), (4162, 0.0), (4163, 0.004933030163957881), (4164, 0.00834953262814333), (4165, 0.0340701011065619), (4166, 0.0), (4167, 0.0), (4168, 0.0), (4169, 0.0), (4170, 0.0), (4171, 0.002770380398686924), (4172, 0.0), (4173, 0.0), (4174, 0.0), (4175, 0.0), (4176, 0.01844866464924319), (4177, 0.030506030099466494), (4178, 0.004020279962413819), (4179, 0.0), (4180, 0.0), (4181, 0.0), (4182, 0.008593620228758786), (4183, 0.0039397732195942175), (4184, 0.0), (4185, 0.0), (4186, 0.0), (4187, 0.00432637648333415), (4188, 0.0), (4189, 0.01949361490920442), (4190, 0.0), (4191, 0.0), (4192, 0.012659013817143874), (4193, 0.0), (4194, 0.0), (4195, 0.0), (4196, 0.007540882793564156), (4197, 0.0), (4198, 0.0), (4199, 0.0), (4200, 0.0), (4201, 0.0), (4202, 0.00572436261198401), (4203, 0.012179741182216075), (4204, 0.0), (4205, 0.010003350939583343), (4206, 0.0), (4207, 0.0), (4208, 0.0), (4209, 0.0), (4210, 0.006623893503857765), (4211, 0.0), (4212, 0.0), (4213, 0.0), (4214, 0.0), (4215, 0.0), (4216, 0.009184794146135716), (4217, 0.006257087800947503), (4218, 0.0), (4219, 0.0), (4220, 0.0), (4221, 0.0), (4222, 0.0), (4223, 0.0), (4224, 0.0), (4225, 0.0), (4226, 0.007310137395765114), (4227, 0.010474534028634616), (4228, 0.0), (4229, 0.0), (4230, 0.0), (4231, 0.01539279935873213), (4232, 0.00826061263567118), (4233, 0.009716732966122906), (4234, 0.0), (4235, 0.009016909204576203), (4236, 0.00638179169420631), (4237, 0.0), (4238, 0.0), (4239, 0.0), (4240, 0.0), (4241, 0.0), (4242, 0.01187382213721018), (4243, 0.004855876825518977), (4244, 0.004496994313473431), (4245, 0.0), (4246, 0.017728821764364314), (4247, 0.003464455885095144), (4248, 0.0), (4249, 0.004393169421617876), (4250, 0.0), (4251, 0.0), (4252, 0.0), (4253, 0.0), (4254, 0.0), (4255, 0.010538774492068453), (4256, 0.0), (4257, 0.010808210249352697), (4258, 0.0), (4259, 0.004283374891406854), (4260, 0.0), (4261, 0.006839233623554872), (4262, 0.0), (4263, 0.0), (4264, 0.0), (4265, 0.0), (4266, 0.004052160327301344), (4267, 0.0), (4268, 0.052493703705968675), (4269, 0.004516163021986269), (4270, 0.0), (4271, 0.0), (4272, 0.006183333668033126), (4273, 0.0), (4274, 0.0), (4275, 0.0), (4276, 0.0), (4277, 0.0), (4278, 0.0), (4279, 0.0), (4280, 0.0), (4281, 0.018310882736136378), (4282, 0.003702851746095034), (4283, 0.022329162164165334), (4284, 0.004093781427928094), (4285, 0.0), (4286, 0.004211549817399337), (4287, 0.003992070727543964), (4288, 0.017826162074811983), (4289, 0.0), (4290, 0.0), (4291, 0.0), (4292, 0.0), (4293, 0.004600279284078242), (4294, 0.0), (4295, 0.004569186728838114), (4296, 0.0), (4297, 0.0), (4298, 0.0), (4299, 0.0), (4300, 0.0), (4301, 0.0), (4302, 0.0), (4303, 0.006623718360349031), (4304, 0.0), (4305, 0.0), (4306, 0.0), (4307, 0.0), (4308, 0.0), (4309, 0.0039476036418655425), (4310, 0.0), (4311, 0.0033797408586425364), (4312, 0.0), (4313, 0.0), (4314, 0.01579899057036943), (4315, 0.0), (4316, 0.0), (4317, 0.0), (4318, 0.0), (4319, 0.0), (4320, 0.0), (4321, 0.018372922253757168), (4322, 0.0), (4323, 0.0), (4324, 0.0), (4325, 0.0088142548004078), (4326, 0.0), (4327, 0.0), (4328, 0.0), (4329, 0.0), (4330, 0.004325786994896411), (4331, 0.0), (4332, 0.0), (4333, 0.004672265901060077), (4334, 0.004075122796604043), (4335, 0.010579703174723476), (4336, 0.010806585066907157), (4337, 0.007214338207514525), (4338, 0.0), (4339, 0.0), (4340, 0.0), (4341, 0.0), (4342, 0.005990312283311692), (4343, 0.0), (4344, 0.009064983025868422), (4345, 0.003800890336199062), (4346, 0.0), (4347, 0.0), (4348, 0.0), (4349, 0.01604398565491984), (4350, 0.003685760743161159), (4351, 0.00746597449291179), (4352, 0.0), (4353, 0.0), (4354, 0.0), (4355, 0.0), (4356, 0.004057858725244733), (4357, 0.004135169677973644), (4358, 0.0), (4359, 0.0), (4360, 0.0), (4361, 0.0), (4362, 0.003901541548369647), (4363, 0.0), (4364, 0.0), (4365, 0.0), (4366, 0.008322671793479985), (4367, 0.007127393679729928), (4368, 0.004501330407990922), (4369, 0.0044442088088279385), (4370, 0.0), (4371, 0.01113400616651759), (4372, 0.0), (4373, 0.004982187257282361), (4374, 0.012458282232759531), (4375, 0.05560622516183907), (4376, 0.0), (4377, 0.0), (4378, 0.0), (4379, 0.014647091305231954), (4380, 0.018639659185371766), (4381, 0.0), (4382, 0.021170364963893417), (4383, 0.0), (4384, 0.0), (4385, 0.00564394047660295), (4386, 0.0), (4387, 0.012750766876810146), (4388, 0.006729199665732155), (4389, 0.05483561667791361), (4390, 0.0), (4391, 0.0), (4392, 0.0), (4393, 0.0), (4394, 0.0038424810386270304), (4395, 0.019635271502282888), (4396, 0.0), (4397, 0.0), (4398, 0.01915110449471996), (4399, 0.01520201776059994), (4400, 0.0), (4401, 0.0042604769654866715), (4402, 0.02872617541144343), (4403, 0.01750534864324943), (4404, 0.0), (4405, 0.0), (4406, 0.0), (4407, 0.0), (4408, 0.0), (4409, 0.0), (4410, 0.0), (4411, 0.0034251958684825166), (4412, 0.005062803041444093), (4413, 0.0), (4414, 0.0), (4415, 0.0), (4416, 0.0), (4417, 0.0), (4418, 0.0), (4419, 0.0042292706935251), (4420, 0.004110909232726626), (4421, 0.0), (4422, 0.00412863211076523), (4423, 0.0), (4424, 0.0), (4425, 0.0), (4426, 0.0), (4427, 0.0), (4428, 0.0), (4429, 0.003733055534105048), (4430, 0.004240080982193336), (4431, 0.0), (4432, 0.003395007443496636), (4433, 0.0), (4434, 0.0), (4435, 0.00972068830366767), (4436, 0.01697453249411704), (4437, 0.0), (4438, 0.0), (4439, 0.0), (4440, 0.008471711137658012), (4441, 0.0), (4442, 0.008959195298912275), (4443, 0.03680610605244687), (4444, 0.005250123750046237), (4445, 0.0), (4446, 0.004248903327851194), (4447, 0.0), (4448, 0.004410657900868055), (4449, 0.0), (4450, 0.026429474059697138), (4451, 0.0), (4452, 0.0), (4453, 0.0), (4454, 0.0), (4455, 0.0), (4456, 0.049973164668311525), (4457, 0.0), (4458, 0.0), (4459, 0.006152644095312568), (4460, 0.0), (4461, 0.0), (4462, 0.0), (4463, 0.0), (4464, 0.0), (4465, 0.010529606749208957), (4466, 0.016086140480294907), (4467, 0.00680003432332572), (4468, 0.0), (4469, 0.011881423488447054), (4470, 0.004248924140689011), (4471, 0.0), (4472, 0.0037999674771621275), (4473, 0.0036797347668765927), (4474, 0.00961628740882099), (4475, 0.01356204563700187), (4476, 0.0), (4477, 0.004827407056518184), (4478, 0.0), (4479, 0.003681636131978068), (4480, 0.0), (4481, 0.00913224544189095), (4482, 0.015217620730396134), (4483, 0.0), (4484, 0.0053665446902884184), (4485, 0.0), (4486, 0.006889173971083348), (4487, 0.003940151630613131), (4488, 0.03769527701561933), (4489, 0.004244798803858497), (4490, 0.004915824238657729), (4491, 0.0), (4492, 0.01970637483896317), (4493, 0.0), (4494, 0.004546825514270791), (4495, 0.0), (4496, 0.0), (4497, 0.0), (4498, 0.0), (4499, 0.0), (4500, 0.0), (4501, 0.004148288599604524), (4502, 0.012364321706949365), (4503, 0.013191815571586418), (4504, 0.015610418572539107), (4505, 0.0), (4506, 0.0), (4507, 0.004322544544446525), (4508, 0.0), (4509, 0.0), (4510, 0.009775367470227414), (4511, 0.01048610898742401), (4512, 0.011223329779645609), (4513, 0.0), (4514, 0.0), (4515, 0.0), (4516, 0.0046675377599082616), (4517, 0.004636856252486422), (4518, 0.0), (4519, 0.0), (4520, 0.004264897732391043), (4521, 0.004819681480802127), (4522, 0.0044963037786761), (4523, 0.004035117851050908), (4524, 0.008130977011500338), (4525, 0.0), (4526, 0.0), (4527, 0.0), (4528, 0.004344841738414788), (4529, 0.0), (4530, 0.003929763426269522), (4531, 0.010287788152719461), (4532, 0.0), (4533, 0.031901101483628465), (4534, 0.01752013515147614), (4535, 0.0044068289441350295), (4536, 0.003741717773775806), (4537, 0.0), (4538, 0.0), (4539, 0.0), (4540, 0.0), (4541, 0.0), (4542, 0.0), (4543, 0.0), (4544, 0.0), (4545, 0.0), (4546, 0.005308689876663848), (4547, 0.0), (4548, 0.0), (4549, 0.0), (4550, 0.0), (4551, 0.01420169764118789), (4552, 0.0), (4553, 0.00860733141179429), (4554, 0.01873889451239526), (4555, 0.006223066974018289), (4556, 0.0), (4557, 0.009947079157196215), (4558, 0.0), (4559, 0.0), (4560, 0.0), (4561, 0.0), (4562, 0.0), (4563, 0.004086738214253297), (4564, 0.006381124392498612), (4565, 0.0), (4566, 0.004380006845463311), (4567, 0.0), (4568, 0.0), (4569, 0.0), (4570, 0.0), (4571, 0.00607285892860718), (4572, 0.0), (4573, 0.004313906399623528), (4574, 0.0), (4575, 0.004525046459693076), (4576, 0.006222219807070505), (4577, 0.0), (4578, 0.0), (4579, 0.0), (4580, 0.0), (4581, 0.009396643933970692), (4582, 0.0), (4583, 0.016014999471263985), (4584, 0.0), (4585, 0.0), (4586, 0.0), (4587, 0.0), (4588, 0.04276777939995535), (4589, 0.004516223107267018), (4590, 0.027798776849960426), (4591, 0.0037487179019133382), (4592, 0.0), (4593, 0.004531755839503447), (4594, 0.004660698569218371), (4595, 0.0), (4596, 0.011413127177205192), (4597, 0.0), (4598, 0.0), (4599, 0.0), (4600, 0.0), (4601, 0.004218375873169162), (4602, 0.030964432175230993), (4603, 0.010894275795312446), (4604, 0.0), (4605, 0.007249983811810398), (4606, 0.0), (4607, 0.0), (4608, 0.022825154273972074), (4609, 0.0), (4610, 0.016566636268389685), (4611, 0.0), (4612, 0.0), (4613, 0.0), (4614, 0.06103875051877719), (4615, 0.0), (4616, 0.0), (4617, 0.005550166551875263), (4618, 0.0), (4619, 0.004920714971063337), (4620, 0.0), (4621, 0.0), (4622, 0.0), (4623, 0.009291365890479885), (4624, 0.004325549695173531), (4625, 0.004445768790993384), (4626, 0.003360858244071234), (4627, 0.014095244397206197), (4628, 0.0), (4629, 0.00410093636132441), (4630, 0.0), (4631, 0.0), (4632, 0.005031516093441829), (4633, 0.0), (4634, 0.0), (4635, 0.0), (4636, 0.0033916044988106246), (4637, 0.005331346500876878), (4638, 0.003882803742313268), (4639, 0.0), (4640, 0.003964206153618101), (4641, 0.0), (4642, 0.0), (4643, 0.004200920603877807), (4644, 0.0), (4645, 0.0), (4646, 0.0), (4647, 0.0), (4648, 0.0), (4649, 0.006098421188483399), (4650, 0.0045739800429681855), (4651, 0.0), (4652, 0.005714257325674509), (4653, 0.0), (4654, 0.0), (4655, 0.0), (4656, 0.010579346952161502), (4657, 0.004389445039282169), (4658, 0.0189916003600963), (4659, 0.0), (4660, 0.00490512407292846), (4661, 0.0), (4662, 0.0), (4663, 0.0), (4664, 0.0), (4665, 0.0), (4666, 0.0), (4667, 0.0), (4668, 0.004096872154297624), (4669, 0.014477735749271792), (4670, 0.003960069860626283), (4671, 0.0), (4672, 0.0), (4673, 0.012478046214734395), (4674, 0.003197674932956624), (4675, 0.0), (4676, 0.0), (4677, 0.0), (4678, 0.0), (4679, 0.01903789671223755), (4680, 0.0), (4681, 0.0), (4682, 0.050234815956237716), (4683, 0.0), (4684, 0.02523868558768448), (4685, 0.0072511026830502055), (4686, 0.0), (4687, 0.0), (4688, 0.0), (4689, 0.0), (4690, 0.0), (4691, 0.0), (4692, 0.0), (4693, 0.0), (4694, 0.0), (4695, 0.007099662420849235), (4696, 0.0), (4697, 0.0), (4698, 0.0), (4699, 0.004383982451710179), (4700, 0.0), (4701, 0.02297673132311717), (4702, 0.0), (4703, 0.0296039628778568), (4704, 0.0), (4705, 0.0), (4706, 0.004590126830926254), (4707, 0.0), (4708, 0.0), (4709, 0.0), (4710, 0.0054222967553574876), (4711, 0.0), (4712, 0.003886915668213215), (4713, 0.004724874869733325), (4714, 0.0), (4715, 0.0), (4716, 0.0), (4717, 0.0), (4718, 0.0047032331805332206), (4719, 0.0), (4720, 0.0), (4721, 0.03351343146603435), (4722, 0.004605323180437736), (4723, 0.005122390289456049), (4724, 0.011514893151484532), (4725, 0.0), (4726, 0.0059038213079217255), (4727, 0.03925767657303564), (4728, 0.0), (4729, 0.0), (4730, 0.0), (4731, 0.024159901828457658), (4732, 0.0), (4733, 0.003422560349873009), (4734, 0.004376659210489469), (4735, 0.010913986441713949), (4736, 0.0), (4737, 0.0), (4738, 0.006497411287337111), (4739, 0.02111735845947537), (4740, 0.0), (4741, 0.0), (4742, 0.0), (4743, 0.0), (4744, 0.0), (4745, 0.0), (4746, 0.0), (4747, 0.010628604384731281), (4748, 0.005799734323024602), (4749, 0.0), (4750, 0.0), (4751, 0.0), (4752, 0.002778538939672314), (4753, 0.0), (4754, 0.0), (4755, 0.0), (4756, 0.0), (4757, 0.0), (4758, 0.0), (4759, 0.0)]\n"
          ]
        }
      ]
    },
    {
      "cell_type": "code",
      "source": [
        "len(Recommendation_Score)"
      ],
      "metadata": {
        "colab": {
          "base_uri": "https://localhost:8080/"
        },
        "id": "dju_xGiHKeyf",
        "outputId": "2f364783-28e2-45db-f89f-0dc7bef57b52"
      },
      "execution_count": null,
      "outputs": [
        {
          "output_type": "execute_result",
          "data": {
            "text/plain": [
              "4760"
            ]
          },
          "metadata": {},
          "execution_count": 44
        }
      ]
    },
    {
      "cell_type": "code",
      "source": [
        "Sorted_Similar_Movies = sorted(Recommendation_Score, key = lambda x:x[1], reverse = True)\n",
        "print(Sorted_Similar_Movies)"
      ],
      "metadata": {
        "colab": {
          "base_uri": "https://localhost:8080/"
        },
        "id": "Q4X7RPw6Kskt",
        "outputId": "2c3a47f0-8d55-44cb-89a4-e55635a856cd"
      },
      "execution_count": null,
      "outputs": [
        {
          "output_type": "stream",
          "name": "stdout",
          "text": [
            "[(2692, 1.0000000000000002), (3276, 0.12953592698679509), (1647, 0.09565575674874045), (1383, 0.08682496743153686), (110, 0.08580598510291418), (1994, 0.08566877926250274), (628, 0.08316819994944563), (2558, 0.08215333605773749), (3053, 0.08082042759889209), (1341, 0.08071765873975503), (1977, 0.07869373851927064), (3480, 0.07432543580694267), (62, 0.07268402188220147), (2538, 0.07076697827440319), (1886, 0.0685994443647584), (1118, 0.06717316797366256), (2903, 0.0656145978412406), (3462, 0.06433718536871226), (3854, 0.06342145816709537), (1021, 0.06341971479047902), (254, 0.06246000001206675), (3728, 0.06245602651453863), (2112, 0.06183267352146365), (2318, 0.06130040287819288), (4614, 0.06103875051877719), (2026, 0.060632813334738175), (227, 0.05900058767913702), (3655, 0.05883374834411424), (3945, 0.05821381511182391), (4062, 0.05698079533189092), (1134, 0.05688041146647251), (1243, 0.05611450095866215), (4375, 0.05560622516183907), (4389, 0.05483561667791361), (2214, 0.05449503002078705), (292, 0.05427744751241797), (3946, 0.0541067765511152), (873, 0.05384836617800791), (3385, 0.05380260051796701), (3203, 0.05375159136649927), (1102, 0.05262569846944298), (4268, 0.052493703705968675), (137, 0.05240560575406966), (2294, 0.05214051334768202), (1070, 0.05178639421596523), (1023, 0.051345341490008564), (213, 0.05108545484139001), (1809, 0.05083448281345343), (2133, 0.05061349404903305), (2944, 0.05056552145253638), (1821, 0.0503353712669925), (3518, 0.05031446706428748), (4682, 0.050234815956237716), (45, 0.050108239825324204), (3779, 0.050033820579943114), (1030, 0.05000192483027615), (4456, 0.049973164668311525), (2579, 0.04993818719655133), (2191, 0.04969047105836009), (2893, 0.049291461722511434), (2550, 0.04919838966490607), (2653, 0.04876806855764009), (408, 0.0486332058355097), (877, 0.04851580759898446), (3294, 0.04821842728541109), (3552, 0.048144206579095024), (2694, 0.04806572505875721), (3973, 0.04790433550670519), (519, 0.04752790770849365), (2630, 0.046720021027048315), (328, 0.0464843716309764), (479, 0.04642039395283739), (3753, 0.04606363470783795), (3408, 0.04605328523849834), (3249, 0.04574871574239424), (904, 0.04572492696385014), (3023, 0.045634040360026565), (615, 0.04532997208125295), (2374, 0.045029267506010696), (1320, 0.044892869064811505), (2375, 0.04437949004678768), (3427, 0.04425772743196795), (1850, 0.04413745153871697), (4137, 0.04404923249678853), (1248, 0.043885986047042906), (1358, 0.043724367790096), (682, 0.0436883173526529), (2869, 0.043555737346399455), (2859, 0.04321721849143023), (412, 0.04308674158234682), (637, 0.042906361932565015), (1292, 0.04282386837099794), (1506, 0.04278473995135462), (4588, 0.04276777939995535), (1871, 0.04263991066539836), (185, 0.04251532728291675), (67, 0.04249089742743942), (172, 0.04234411302800835), (438, 0.04227488974233439), (3209, 0.04226304246157129), (210, 0.042107425532658026), (1311, 0.04197145630090104), (3955, 0.04189252995173025), (830, 0.04181275670284866), (2212, 0.041550942623166096), (3793, 0.0410411656196695), (2122, 0.04079130187527043), (3947, 0.04076491785252111), (1241, 0.040634658892013516), (89, 0.04050454982746093), (2321, 0.040393019991417055), (1085, 0.040358683891911454), (1675, 0.04026429775557971), (1527, 0.04001506808232745), (2716, 0.0397323082051594), (174, 0.03966201614383314), (2316, 0.03939881147897681), (4727, 0.03925767657303564), (1369, 0.03902193079561562), (3731, 0.03899660567178765), (3362, 0.038975330723498694), (1024, 0.038916765858727116), (2082, 0.038480079775704494), (387, 0.03846716146793771), (788, 0.03839577528011016), (1885, 0.03838133158543274), (1393, 0.038302439033236456), (3652, 0.03826794873791326), (710, 0.03822767153218363), (108, 0.03819377240669859), (1676, 0.03815540946787739), (578, 0.03804219258239511), (3004, 0.03799236710273686), (44, 0.037830015490610526), (4488, 0.03769527701561933), (3983, 0.03727097838979622), (818, 0.0372026191183479), (2123, 0.03720054326801209), (1389, 0.03699958334302858), (3351, 0.03697612714611918), (2540, 0.036836044121869804), (4443, 0.03680610605244687), (1379, 0.03661021249825171), (3463, 0.03655301319344748), (3255, 0.0365370102471696), (2365, 0.036371915311171454), (2014, 0.03553164082856886), (3102, 0.03544681017220338), (632, 0.035424916531778275), (2868, 0.03531528371089705), (1195, 0.035158954522053865), (1982, 0.035132352090545965), (2782, 0.03504604984628269), (2706, 0.035004656428915204), (3486, 0.034887098786098525), (3498, 0.0348519448816389), (126, 0.03442723886142512), (2807, 0.03434466105144191), (3572, 0.034298708497833945), (166, 0.034106880338721), (4165, 0.0340701011065619), (694, 0.03398424975713772), (4005, 0.03381772257631904), (2622, 0.0337160608454464), (3430, 0.033640480156718645), (1750, 0.033525537500046165), (4721, 0.03351343146603435), (540, 0.03336403021943048), (2887, 0.033339889077161164), (65, 0.033335222357432075), (903, 0.033277273556547776), (1063, 0.03323564884897325), (2981, 0.03321772717813738), (618, 0.033215387566493546), (4035, 0.0331099198036557), (1648, 0.03304270458228897), (179, 0.03299791206643425), (3248, 0.03287449000159064), (2517, 0.03281805600946537), (430, 0.032775557782386826), (812, 0.03264897213964471), (1398, 0.032551250177787705), (4141, 0.0325001598127862), (3280, 0.03248279568616714), (3017, 0.032438369735510064), (935, 0.03242498779516858), (1146, 0.032323912276792106), (1568, 0.032305200700807495), (2710, 0.03228771115058383), (2198, 0.03226197545055136), (4533, 0.031901101483628465), (1464, 0.03177501194679649), (2876, 0.03170607645913188), (1795, 0.03170474022173689), (3556, 0.03169007236671172), (1272, 0.031689897067797304), (1868, 0.03160159814929205), (1367, 0.0314740609551944), (384, 0.031375886864517796), (3656, 0.03130734106953046), (3470, 0.03130334509721801), (1405, 0.031301597471054377), (2723, 0.031213085596016894), (2102, 0.031108113295811715), (3904, 0.031090216339472607), (4602, 0.030964432175230993), (2687, 0.03081295918048157), (421, 0.030755045924564337), (3313, 0.03062113097420786), (4177, 0.030506030099466494), (2920, 0.030419985119144483), (3376, 0.03039536902235366), (2467, 0.030349832150181246), (1095, 0.030321463637026903), (836, 0.03017572496332514), (1068, 0.030119469068224283), (465, 0.030045940733574215), (2114, 0.029953494904550772), (2751, 0.029940871616184327), (3850, 0.02993087854467113), (3377, 0.029712997126982842), (3127, 0.029672968538829208), (1046, 0.0296668463294941), (25, 0.029661993146240587), (193, 0.02965574164746973), (4703, 0.0296039628778568), (3574, 0.029563888536079833), (911, 0.029489742949694437), (282, 0.02932381417627929), (2413, 0.029137442334702664), (3157, 0.029069584081028124), (424, 0.02894292202508125), (3871, 0.02875799715670695), (1763, 0.028743938343300912), (4402, 0.02872617541144343), (3420, 0.02861387876950998), (176, 0.028567462620482154), (2037, 0.02855887886441926), (112, 0.028351803202462823), (629, 0.028323818657113326), (459, 0.028306192029611772), (1720, 0.028270493713760787), (1999, 0.02827019196231145), (2484, 0.028208218789779225), (2443, 0.028202669442058022), (3868, 0.028192128471586475), (2908, 0.028133859011006228), (3154, 0.028122846748732184), (3447, 0.0279638231499737), (3720, 0.02780002117114808), (4590, 0.027798776849960426), (1186, 0.027697372029676395), (2762, 0.027619395792128788), (2020, 0.02760433853454434), (3751, 0.02758827143081653), (3961, 0.0275748803845354), (3428, 0.027457819618864482), (3559, 0.027429588005110642), (2023, 0.027421198546039825), (1059, 0.027383630633248824), (1976, 0.02731271945225685), (3488, 0.02730044540712819), (530, 0.027291221851277365), (250, 0.027226566489663265), (381, 0.02720887951029035), (824, 0.02703617955742673), (1585, 0.027019209474689714), (2481, 0.026935755464672723), (84, 0.02686510334016931), (3260, 0.026815970684639714), (2791, 0.026726865554305944), (1043, 0.02667909799514787), (4104, 0.02664177226359106), (1544, 0.02662438148871933), (2011, 0.026551393092948215), (2487, 0.026550966695181515), (109, 0.02643205139332214), (4450, 0.026429474059697138), (864, 0.02642919857781322), (2157, 0.026362418525426146), (4128, 0.026357206927404352), (515, 0.026331765438682486), (2221, 0.026314127269730817), (1283, 0.02627360429690346), (3045, 0.026054910937629298), (672, 0.025943888978326675), (269, 0.025911826668303183), (976, 0.025835457630843953), (3450, 0.025702533623012603), (2449, 0.02566397530901887), (2649, 0.0256383174759544), (4004, 0.025634120747188332), (240, 0.02560329815324629), (398, 0.025596180204185172), (3913, 0.025553007900336672), (3156, 0.02545822194223117), (3835, 0.025361971320036602), (1970, 0.025311882584594714), (2718, 0.025295887709659855), (4684, 0.02523868558768448), (1500, 0.025230380767933713), (284, 0.02521675941908483), (1990, 0.02512127039352551), (952, 0.025074170173939075), (2013, 0.024907854655946297), (2560, 0.024900884420043755), (3167, 0.024898694887644787), (2971, 0.02479248010009458), (613, 0.024711185471569135), (1757, 0.024689047289508097), (885, 0.024665225460945826), (3852, 0.024603597447717524), (1788, 0.02456105346664419), (3344, 0.024558764297578247), (3285, 0.024372346265318694), (138, 0.024323105403960665), (68, 0.024308018909129085), (1845, 0.024243123237197288), (15, 0.02419997233407001), (670, 0.02419783739179122), (1935, 0.024183372537976706), (371, 0.024162281910511438), (4731, 0.024159901828457658), (917, 0.024102304079891786), (3010, 0.024073585839682003), (1749, 0.024072367723959605), (3801, 0.02399269642509139), (124, 0.023973708373304002), (1652, 0.02395727943515226), (3839, 0.023943458961510077), (1314, 0.023791247938785967), (2055, 0.023671056500801105), (3778, 0.02365869993047209), (3083, 0.023449835557864025), (942, 0.02331162231421371), (4016, 0.02330483222032672), (3345, 0.02328104550360171), (1505, 0.02311408723590848), (3923, 0.023040935653249675), (4701, 0.02297673132311717), (3319, 0.022958171302472883), (1351, 0.022939722371699195), (4608, 0.022825154273972074), (832, 0.022703674798015473), (3711, 0.022681558568535803), (3492, 0.022640424293401927), (2638, 0.02255008821433153), (2646, 0.02254208834606765), (1707, 0.022535559244408136), (566, 0.022510892276261706), (383, 0.022503035178312987), (2210, 0.022461057169533467), (3927, 0.02244984813839883), (1397, 0.02240397966612787), (1671, 0.022352000328679476), (455, 0.022348666202256947), (2767, 0.02234483438413418), (4283, 0.022329162164165334), (2885, 0.022204403658743432), (967, 0.02212890515437886), (1515, 0.02212279379611688), (795, 0.022089183519609534), (1492, 0.02208738059393966), (2621, 0.02206395229367044), (706, 0.022053813781350767), (2995, 0.021975116076856538), (2932, 0.021787138267220237), (2018, 0.021771545136099), (2040, 0.021766509490348654), (2301, 0.021749108998676787), (1141, 0.021736792745387323), (3692, 0.02171802862406058), (334, 0.021678309789128568), (858, 0.021657567915261598), (3352, 0.02165127874318843), (1261, 0.021646010087361715), (1132, 0.021624739874048587), (2362, 0.02151843086810087), (175, 0.021435814145122585), (691, 0.021334517132856164), (116, 0.021190297203543807), (4382, 0.021170364963893417), (1412, 0.021165317455705907), (3222, 0.02116122025778816), (4739, 0.02111735845947537), (1861, 0.021080262633324805), (763, 0.020936049474702144), (1052, 0.02088418939821205), (3483, 0.020873227022936126), (3153, 0.020869504340574087), (330, 0.02083432598098427), (204, 0.020819175434232413), (1173, 0.020690121637365135), (3469, 0.020684410457592946), (4156, 0.020554982391206192), (590, 0.02052016774661852), (364, 0.020462476124809705), (3144, 0.020452461994016978), (3810, 0.020421908114587193), (1865, 0.020397135650474966), (2745, 0.020337986529536882), (2469, 0.020327331227689913), (1942, 0.02021010647855676), (657, 0.02016753843494962), (3934, 0.02014975806206919), (2808, 0.020116617330486353), (1985, 0.020075913327063325), (2582, 0.020038095910536066), (123, 0.02002495485298424), (2647, 0.020023889238013525), (2867, 0.020012896776963475), (3553, 0.019881117733352133), (3036, 0.019847249390480697), (1175, 0.019846996971881223), (33, 0.01982811976881327), (2689, 0.019808662071225922), (1137, 0.01980738079879983), (3111, 0.019748051001690345), (1471, 0.019723140371140438), (3433, 0.019714747256974075), (4492, 0.01970637483896317), (3403, 0.019704414000296953), (3471, 0.019699833245485767), (2841, 0.019672158527660424), (1629, 0.019646522294603348), (2237, 0.019645170223878367), (4395, 0.019635271502282888), (4053, 0.019621642417041785), (947, 0.019580028749610776), (4189, 0.01949361490920442), (2368, 0.019472664825900016), (1847, 0.01944158031878262), (3978, 0.01940536515635552), (1365, 0.019404267158884537), (2760, 0.019230881303190634), (199, 0.019192798827108476), (2553, 0.01918257948786488), (2712, 0.019172242580976613), (3875, 0.01916865447927385), (4398, 0.01915110449471996), (2777, 0.019150069111818525), (796, 0.019118783855076666), (870, 0.019101458733942714), (929, 0.01907750610682304), (2035, 0.019075806404203983), (4088, 0.01905748700759646), (4679, 0.01903789671223755), (1245, 0.019023779576221953), (2931, 0.019007267712085392), (4012, 0.019001417072957532), (4658, 0.0189916003600963), (61, 0.018947643510867085), (3446, 0.018903178611852988), (643, 0.018891608215082303), (85, 0.018858881701653337), (3504, 0.018840745084195955), (1385, 0.018811075043573905), (442, 0.018793431504857287), (1878, 0.018760426292574), (4554, 0.01873889451239526), (4149, 0.01868875735711488), (4380, 0.018639659185371766), (638, 0.018638192181457982), (553, 0.018626091591471963), (3091, 0.018606845922419995), (2167, 0.018554758706441375), (2149, 0.018534971099095614), (1033, 0.01851494052997313), (145, 0.018478616191454234), (261, 0.018469737886631928), (4176, 0.01844866464924319), (1386, 0.01841612325325868), (2598, 0.018413716693842064), (768, 0.01839963761616678), (669, 0.01839887981557003), (181, 0.018394486596062576), (4321, 0.018372922253757168), (2823, 0.01835491005385117), (4281, 0.018310882736136378), (3395, 0.018293801433713678), (218, 0.018276257011838694), (2513, 0.018254587131071066), (3665, 0.018211905242634472), (2347, 0.018210532492251557), (1403, 0.01816635933860338), (757, 0.018121270779317498), (2795, 0.018018971168215946), (4050, 0.01799197471865601), (1216, 0.01788937155795879), (2607, 0.017886567640959257), (551, 0.017879021481163687), (1274, 0.017878676796084562), (4288, 0.017826162074811983), (409, 0.01777044534680698), (251, 0.01774293546366945), (4246, 0.017728821764364314), (2645, 0.017722728087446543), (794, 0.01772266317947682), (106, 0.017694291926821353), (3976, 0.01768244593586609), (3528, 0.01765263330187823), (345, 0.0175943078594971), (1609, 0.017587837548734296), (4534, 0.01752013515147614), (4403, 0.01750534864324943), (147, 0.017501692034776428), (1064, 0.017489338955572784), (776, 0.017430727774203354), (1003, 0.017413799914358263), (3857, 0.0173698138535906), (1996, 0.017342260131035507), (1579, 0.017305966010733264), (3828, 0.017243296850953), (3895, 0.017234674999986353), (2027, 0.017211762837406823), (1572, 0.017151923914654442), (867, 0.017143280070086912), (3275, 0.017126803066888505), (1817, 0.017079365461392743), (1270, 0.01707457290337614), (3541, 0.017068176324389006), (3098, 0.01706728752100399), (547, 0.017005788191998508), (677, 0.01698009867158477), (4436, 0.01697453249411704), (2070, 0.016963642081950517), (2258, 0.01695357969101458), (437, 0.016944602980234473), (3095, 0.016936840826429444), (374, 0.01691138841431111), (1872, 0.016855358418850993), (2654, 0.016811871837205204), (1445, 0.016799842459308857), (1257, 0.016780122395827466), (3306, 0.01677292848209751), (343, 0.01676885472520075), (1116, 0.016726215596439508), (1377, 0.016706693014931055), (2161, 0.0166547993209256), (1361, 0.016639999192608577), (1202, 0.01661947521336266), (3019, 0.01659281872911563), (2290, 0.016568031713992765), (4610, 0.016566636268389685), (209, 0.016565455949954615), (358, 0.016548057253371957), (3558, 0.01650216157559439), (787, 0.016442330447973753), (3226, 0.016436192017280218), (3675, 0.0164273435372261), (1510, 0.016426077036086853), (2406, 0.016378861308911825), (2650, 0.01635719998257615), (1838, 0.01628831865654077), (3000, 0.016274359589592665), (2353, 0.016263782769292235), (1945, 0.016241130909833448), (779, 0.016228507558802327), (83, 0.016135916557259204), (1045, 0.0160884253507564), (4466, 0.016086140480294907), (4349, 0.01604398565491984), (3684, 0.01602106285092007), (1512, 0.016020103358719232), (1053, 0.016016951983817734), (4583, 0.016014999471263985), (586, 0.015953169855907084), (934, 0.01595064416078665), (1682, 0.01594644945965737), (2276, 0.015927001317592566), (2440, 0.015914923649828855), (252, 0.015905266971820226), (3597, 0.015901412970847448), (1906, 0.01586995913362982), (3375, 0.015866837717949132), (937, 0.01586173807897033), (510, 0.015851766812052134), (1880, 0.01583435623846983), (1759, 0.015810989468568036), (4314, 0.01579899057036943), (21, 0.015795545957229106), (1112, 0.01577254802604813), (3284, 0.015754996496420117), (2119, 0.0157521095635279), (1128, 0.015707961718627903), (4081, 0.01568470063272843), (968, 0.01568348382689181), (2298, 0.015631112734166605), (2639, 0.01561662899650801), (1523, 0.015615555422060808), (957, 0.015611344190509285), (4504, 0.015610418572539107), (1741, 0.015543427312550043), (1927, 0.015539168639317055), (860, 0.015533028774021677), (2110, 0.01546291358070383), (161, 0.01546060413571044), (2376, 0.015458562881164256), (1184, 0.015407476885689782), (684, 0.01540692351558269), (4231, 0.01539279935873213), (1074, 0.015378519615075786), (3580, 0.015338466589333436), (1417, 0.015336160004975511), (3295, 0.01533454055587212), (203, 0.015318327312479462), (533, 0.015259432494182327), (144, 0.015229049454914857), (1843, 0.0152191406699741), (4482, 0.015217620730396134), (4399, 0.01520201776059994), (2644, 0.015183584629816978), (287, 0.015164603675996941), (833, 0.01514687365251938), (458, 0.015090523702394661), (1275, 0.015075634959301136), (808, 0.015057478276055709), (3043, 0.015008287911098843), (1774, 0.01500249311075252), (3360, 0.01498768483865041), (222, 0.014984201882502504), (2568, 0.014978899281825336), (3466, 0.014975922585338723), (2618, 0.014965901317973531), (1384, 0.01490299422307468), (1278, 0.014894319811663174), (48, 0.01483249268913463), (3853, 0.014818303492643636), (496, 0.01480342928956529), (1716, 0.014772859645077055), (1895, 0.014760012112022297), (1162, 0.014720098876354176), (701, 0.014690575100321904), (1152, 0.014647638320278773), (4379, 0.014647091305231954), (916, 0.01463886765183706), (3328, 0.014632034724202492), (3861, 0.01462189978477863), (1119, 0.014617721104969384), (2460, 0.014602840436490242), (3862, 0.014598436226015681), (3253, 0.01457183706095674), (7, 0.014561732392097335), (2742, 0.014553162192577273), (46, 0.014549246041298935), (2097, 0.014545966442513433), (874, 0.014502778784036694), (1331, 0.01449454312780911), (4669, 0.014477735749271792), (2874, 0.014469350858331106), (2522, 0.014458181026348469), (3421, 0.014444692769501761), (3924, 0.014430983091225216), (75, 0.014428537276150274), (3992, 0.01440456345497616), (3959, 0.01440123392176345), (3630, 0.014369346305427284), (534, 0.014358237401011813), (3694, 0.014346466358718647), (160, 0.014339567681854841), (1853, 0.014322555937048509), (1232, 0.014320935908685805), (2366, 0.014306227535800372), (2334, 0.014306061608309825), (1997, 0.01430468448900132), (2969, 0.014300093921231142), (120, 0.014232706717788538), (584, 0.014218769455158303), (450, 0.014210175002890063), (4551, 0.01420169764118789), (2996, 0.014184079872161007), (3374, 0.014179144082976507), (3437, 0.014155571331470296), (3086, 0.014149068079792274), (3958, 0.014144530432115702), (2254, 0.01412420170643606), (986, 0.014116073114025348), (896, 0.014102144879434203), (4627, 0.014095244397206197), (3356, 0.014088688400335357), (43, 0.014052561459717302), (13, 0.014050351477465329), (2053, 0.01404911702047719), (2910, 0.014047882678899877), (1254, 0.014042648823130817), (879, 0.013996539333911356), (2016, 0.013995177806577885), (3210, 0.01399349357719933), (3777, 0.013969012680081631), (3612, 0.013963374143250606), (1317, 0.01396146411608441), (1401, 0.013946798330583255), (1224, 0.013939957597182777), (2919, 0.013938194730751122), (2474, 0.013927791478404537), (429, 0.013902846394619965), (2917, 0.013896344261972239), (1018, 0.01387541604684045), (2000, 0.013864643907306354), (2934, 0.013830701237675484), (622, 0.013805519867592712), (2805, 0.013804793732694665), (231, 0.013795410846082965), (543, 0.013756127802902772), (433, 0.013753146198475443), (270, 0.01370860576870114), (2052, 0.013696665538090841), (87, 0.013692854412594213), (3297, 0.01369181719110624), (86, 0.013667324946912935), (609, 0.013660629425987567), (407, 0.013656767863832686), (545, 0.013645211421365168), (1443, 0.013642714463001691), (5, 0.013607237167715466), (3750, 0.013600306644031862), (2279, 0.013596864692693608), (4475, 0.01356204563700187), (1252, 0.013552491629523412), (51, 0.01352291002996663), (2489, 0.01351444283736527), (3129, 0.013506858424679608), (1334, 0.013480813382578942), (2177, 0.013464528557619), (1967, 0.013453359203777032), (2784, 0.013427951471864175), (296, 0.01339762170508024), (502, 0.01339494016877194), (906, 0.013379024805873552), (2695, 0.013339337904542885), (2886, 0.013331186571955887), (1342, 0.013314294483239175), (692, 0.013313176120458552), (2961, 0.01330635442419656), (3279, 0.01329903592836987), (806, 0.013290987571578932), (1160, 0.01323149047406923), (814, 0.013212168677904455), (3213, 0.013208140032027568), (4503, 0.013191815571586418), (4068, 0.013153180388803531), (1802, 0.013147833797064757), (3142, 0.013138832631877118), (3299, 0.013136820340935886), (1337, 0.01313438059499921), (3508, 0.013124611287622285), (1621, 0.013113562477272352), (1129, 0.013092756424589489), (2250, 0.013077723569381226), (1239, 0.013075700495336883), (3119, 0.01306680856453908), (988, 0.013041709488215064), (1655, 0.01304010252032697), (2024, 0.013034376555022186), (1035, 0.013019037128158814), (866, 0.013012421455628639), (2216, 0.012995751694138798), (1721, 0.012987922123915363), (370, 0.012984783707001383), (52, 0.012975256196223476), (329, 0.012971822938654213), (3171, 0.01295925514980658), (88, 0.012956422804104644), (620, 0.012940453515295866), (2154, 0.012929855270340417), (799, 0.012908976316232222), (1183, 0.012906269176476522), (452, 0.01288582460710976), (2512, 0.012873368025811719), (1376, 0.012847283136857804), (1293, 0.012815994408426321), (989, 0.012810542379155082), (1752, 0.012796412302868094), (3228, 0.012793935521981058), (676, 0.012791327793818873), (1360, 0.012764583843040246), (4387, 0.012750766876810146), (1919, 0.012745925530785358), (878, 0.012704431695162225), (149, 0.012703554654840922), (1493, 0.012663718670588823), (4192, 0.012659013817143874), (1658, 0.01259991425175646), (2769, 0.012583469830766872), (1988, 0.01257922866654054), (1787, 0.012556118300882092), (1595, 0.012555483630809636), (1665, 0.012552706141532685), (1654, 0.01253982490592316), (3370, 0.012538411087470287), (276, 0.01252962854227663), (895, 0.012506345789181894), (2275, 0.012500396351830867), (4673, 0.012478046214734395), (4374, 0.012458282232759531), (511, 0.012455949362485567), (3524, 0.012444210650140942), (2224, 0.012443975119428822), (3903, 0.012415793496388692), (2145, 0.012375532542918493), (1114, 0.012371623689646847), (4502, 0.012364321706949365), (1050, 0.012345137811971371), (2051, 0.012343307662585666), (853, 0.012317907655928231), (236, 0.012317479904365464), (1714, 0.01228766218948469), (1310, 0.012283211521432984), (899, 0.012275301519464476), (648, 0.012204668452305547), (2740, 0.012188479622886064), (4203, 0.012179741182216075), (434, 0.012166727196737497), (2633, 0.012089075105660915), (2116, 0.012046636008574179), (1000, 0.012045963737434223), (2468, 0.01204193277800945), (3797, 0.012005249844148384), (847, 0.012003880073605616), (2005, 0.012001203501429917), (1157, 0.011998065138340714), (1739, 0.011996828462853194), (816, 0.011975288642133864), (3094, 0.011969156200501605), (948, 0.011958857631358647), (2049, 0.011920572346725958), (4469, 0.011881423488447054), (2939, 0.011876757880343435), (4242, 0.01187382213721018), (1870, 0.01187073196219161), (130, 0.01185976890698336), (2602, 0.011841630546743824), (208, 0.011835479126553415), (2096, 0.011786252294593734), (2915, 0.011778793545965182), (2601, 0.011772234445366592), (1290, 0.011752245728485647), (1387, 0.011749140403712121), (3822, 0.011732529347202533), (3637, 0.011722973459832193), (317, 0.011714070653083877), (1237, 0.011690951109487684), (1971, 0.011687144380484432), (2436, 0.011685003131880835), (2688, 0.011669149881610759), (2065, 0.011661194127102408), (1182, 0.011647006341078184), (1249, 0.011639216045274231), (1058, 0.011627044096957787), (3218, 0.011621868463716213), (3535, 0.011603648321408137), (2464, 0.011601012310721607), (1798, 0.011579023851276352), (762, 0.011565802460271628), (3067, 0.011554470975575971), (0, 0.011546332026688772), (3919, 0.011538126731336092), (4724, 0.011514893151484532), (653, 0.011513826516229802), (1465, 0.011511653723195103), (1897, 0.01149662091259292), (3741, 0.011470382388337275), (2727, 0.011447851356393653), (4596, 0.011413127177205192), (2412, 0.01138069783023169), (2447, 0.011376534316809642), (538, 0.011356101129767182), (733, 0.011344502297943426), (1685, 0.011310980627308592), (342, 0.011310653658386478), (2494, 0.011304709742230268), (1090, 0.01128807213379552), (4048, 0.011286194288053816), (1806, 0.01127808917825061), (760, 0.011262128100237268), (4095, 0.01126036664546164), (1674, 0.01124945222498353), (4512, 0.011223329779645609), (1343, 0.011222254223028008), (472, 0.011204084176594097), (1413, 0.011188735613001662), (2277, 0.011178584191527044), (4371, 0.01113400616651759), (844, 0.011119001318339317), (1015, 0.011106598768129543), (1382, 0.01110618558663647), (470, 0.011085389716308505), (173, 0.011079543531217229), (3689, 0.011073272109431934), (1951, 0.011072060093526442), (3756, 0.011066616855467644), (57, 0.011064777625903402), (461, 0.011064201898523054), (2798, 0.011049787952846082), (3643, 0.011046846538558251), (482, 0.011041699880214494), (1876, 0.01103535421420103), (1957, 0.01102634509621817), (1779, 0.011010520028166298), (3386, 0.010985065431313428), (3667, 0.01097099245553515), (905, 0.010957540311738892), (2977, 0.010956504508896552), (2744, 0.010939049331654916), (4735, 0.010913986441713949), (3645, 0.010913514951748544), (4025, 0.010904739437473724), (1815, 0.010900864589426552), (4603, 0.010894275795312446), (1475, 0.010869933299643395), (555, 0.01086890100320765), (842, 0.010863913402683723), (1619, 0.010856373676182831), (368, 0.010855396813514415), (2144, 0.010851474280455745), (3708, 0.010850642028413963), (2988, 0.010839323727006776), (464, 0.01083335489922152), (3317, 0.01082964826344715), (2486, 0.010826132359878388), (281, 0.010815984070260461), (4257, 0.010808210249352697), (3312, 0.010807068149935477), (4336, 0.010806585066907157), (2668, 0.01078942726484808), (1077, 0.010789161116283615), (1192, 0.010783618651049126), (1006, 0.010781845206556945), (4121, 0.010766023034251148), (1075, 0.010760057578878247), (1019, 0.010748064965956908), (1678, 0.010730519226336815), (3453, 0.010702999414837535), (2812, 0.010694110938761766), (2925, 0.010688792348950454), (207, 0.010650481762796352), (406, 0.010649908220718967), (4747, 0.010628604384731281), (1730, 0.010627712630311892), (1017, 0.010625464152176384), (2524, 0.010620749608614198), (2155, 0.01061655870088541), (2849, 0.010615337013807966), (1148, 0.010596409366512552), (1591, 0.010595951254207918), (3110, 0.010590907022128677), (3192, 0.010590426552996466), (1020, 0.010580958939484273), (4335, 0.010579703174723476), (4656, 0.010579346952161502), (2980, 0.010572985789705449), (962, 0.01057289929089713), (689, 0.01057221173888857), (3346, 0.010571650117248203), (3373, 0.010569495036916897), (897, 0.01056533697792477), (4255, 0.010538774492068453), (4465, 0.010529606749208957), (2632, 0.010510027778752077), (4118, 0.010508768457953564), (850, 0.010506643629643903), (697, 0.010502500684441488), (280, 0.010502475712557234), (3151, 0.010501226499354407), (2174, 0.010493342184459898), (527, 0.010493181314430985), (4511, 0.01048610898742401), (19, 0.010477646223865114), (4227, 0.010474534028634616), (104, 0.010469928260091), (2045, 0.010465909407492945), (3245, 0.010457687754464066), (2087, 0.010453506856812622), (2831, 0.010452802987261168), (2698, 0.010439251713064519), (3237, 0.010437721141539517), (2008, 0.01043758660771291), (2346, 0.010400677207781792), (3784, 0.010399391759579647), (385, 0.010394461466413964), (353, 0.010390644409440396), (1371, 0.01036450004203284), (2978, 0.010341934565271048), (82, 0.010331738357008288), (79, 0.010329076997204336), (2121, 0.010323492770154846), (683, 0.010323349396015442), (667, 0.010311635595686243), (775, 0.010302690885454237), (1858, 0.010296807511669621), (966, 0.010293809380852462), (4531, 0.010287788152719461), (1446, 0.010278609879867494), (224, 0.010271607429212274), (1418, 0.010269077653008699), (2103, 0.010242680252041348), (3240, 0.010233787676511005), (1710, 0.010232198506991474), (2473, 0.01022652656500996), (1754, 0.010196940983331935), (753, 0.010184075834557929), (1736, 0.010182027943344848), (2126, 0.010182008909063584), (651, 0.010176179921232549), (119, 0.01016947266156409), (1519, 0.010129574817871941), (3826, 0.010125726977029015), (3586, 0.010102626319339053), (29, 0.010091542144401052), (838, 0.010087983539556002), (180, 0.010086200877770091), (3659, 0.010085455230323614), (1705, 0.010083302603999816), (1864, 0.010080255095200552), (1220, 0.010052170305988449), (197, 0.010047369018008278), (356, 0.01004590886272929), (332, 0.010032160223039715), (4205, 0.010003350939583343), (675, 0.009999134874459291), (3399, 0.009989915079441278), (3407, 0.009989430954961952), (3642, 0.00998058505954689), (2265, 0.009971549196754647), (1125, 0.009962331180589526), (3259, 0.009960454443937167), (4134, 0.00995920958046326), (3699, 0.00995396710283234), (4557, 0.009947079157196215), (2546, 0.009943078393128647), (2143, 0.009941052523923116), (418, 0.009930581968006055), (162, 0.009925397162243546), (3634, 0.009924918947187143), (2780, 0.009923087976692415), (1432, 0.009921677470521905), (1388, 0.009910266546574944), (544, 0.009903602149461817), (485, 0.009897907197972532), (1255, 0.00989347854064574), (1514, 0.009866821301493628), (742, 0.00986486898578012), (3829, 0.009858129200727005), (2739, 0.00985655375470751), (1874, 0.009825092621578988), (428, 0.009814984263600201), (3382, 0.009805766754041113), (2196, 0.009804479595923923), (918, 0.009796121456467676), (4510, 0.009775367470227414), (201, 0.009774889174251346), (1234, 0.00977326672368651), (654, 0.00977139499551023), (1832, 0.009770815519563129), (1727, 0.009770012863075628), (1009, 0.009767370381797957), (32, 0.00976201656835813), (1735, 0.0097580510615841), (3389, 0.009757607550853668), (1875, 0.009755183973764858), (2235, 0.009745252870439132), (734, 0.009737287870242913), (2803, 0.009727567835885863), (4435, 0.00972068830366767), (4233, 0.009716732966122906), (1206, 0.00971521287045669), (900, 0.009714231144515674), (963, 0.009711408033792846), (1185, 0.009704962358633225), (183, 0.0097016288658367), (1308, 0.009679464459947915), (3954, 0.00967157996713047), (3334, 0.009658653107468497), (307, 0.009640339882171715), (3767, 0.009635114682559443), (1477, 0.00962015066684186), (1764, 0.009619220913010313), (4474, 0.00961628740882099), (994, 0.009609158240342761), (542, 0.009574150912277793), (3065, 0.009566532115563008), (1339, 0.009559875948617734), (3670, 0.009552950713172725), (2080, 0.009551713250487311), (1690, 0.009535970361104613), (1419, 0.009535285903943458), (1436, 0.009519640688582322), (3579, 0.009518659754997773), (447, 0.009517464445640644), (1949, 0.009516346583168883), (3155, 0.009515042305865305), (463, 0.009503173248807468), (1920, 0.00950269921848561), (244, 0.009497339133224132), (1440, 0.009490939168370578), (936, 0.00948585114603557), (908, 0.009461533122046964), (483, 0.009448013665941748), (3880, 0.009442027957090647), (931, 0.009431722641386215), (1542, 0.009428365835964393), (800, 0.009423495816262624), (1922, 0.009420742958559616), (242, 0.009416841722584083), (1539, 0.00941254779942789), (3108, 0.009402064489355398), (4581, 0.009396643933970692), (1762, 0.009396467294814635), (2284, 0.009388814321436453), (1406, 0.00937996804820557), (360, 0.00937785508785987), (869, 0.009337580366574547), (1934, 0.009330447922954102), (4000, 0.00932876132160389), (142, 0.00929852677783197), (4623, 0.009291365890479885), (2933, 0.009273924429013284), (1948, 0.009272447228557613), (4124, 0.00926753141288505), (3794, 0.00925078178527818), (494, 0.009242953469126507), (2975, 0.009197305369103582), (105, 0.00918842632765017), (1136, 0.009186306579227508), (4216, 0.009184794146135716), (705, 0.009183036992320015), (3096, 0.009168484087321866), (2752, 0.009161111980987987), (2897, 0.00914570098329675), (2918, 0.009141178103745474), (1455, 0.009140632893604766), (4481, 0.00913224544189095), (732, 0.009118694621452657), (2280, 0.009109371006046767), (403, 0.009107643962202684), (1937, 0.009080198695980935), (1231, 0.009075052444429218), (4344, 0.009064983025868422), (3418, 0.009059035945005334), (2211, 0.009040248742664864), (3409, 0.009027779460280059), (4235, 0.009016909204576203), (4060, 0.00901144238897479), (3118, 0.009002712446339597), (790, 0.008996276213128665), (3, 0.008984959557563017), (1215, 0.008978905758741702), (60, 0.008978372279410486), (2206, 0.008971302484828915), (4442, 0.008959195298912275), (2871, 0.00894365846792624), (2614, 0.008930619537123981), (4007, 0.008918236535571252), (827, 0.0089107755741947), (396, 0.008905390550959387), (2603, 0.008885755942127496), (441, 0.008885023626133538), (924, 0.008870485536153758), (828, 0.008864835418897179), (3232, 0.008834275390314885), (1230, 0.0088311531862817), (4325, 0.0088142548004078), (3582, 0.00881336762519345), (1743, 0.00880393623577948), (3465, 0.008797810667786324), (3993, 0.008790851936280897), (1797, 0.008771969870402161), (939, 0.008767454038442027), (2563, 0.008734549125480603), (1061, 0.008710885683051032), (1776, 0.008708737355571674), (1854, 0.008706319366326778), (1992, 0.008702203093352184), (1630, 0.008698397448485376), (1950, 0.008680671085234747), (3267, 0.00867064727989688), (719, 0.008669340731470465), (915, 0.008666891446694672), (616, 0.008663009982624082), (3842, 0.008658713648352327), (1236, 0.008617520499085022), (2913, 0.008611039285439727), (4553, 0.00860733141179429), (843, 0.008599147653695724), (500, 0.008595696291907136), (309, 0.008594889499257782), (4182, 0.008593620228758786), (829, 0.00858070436183787), (113, 0.008565009077469229), (170, 0.008564276862129822), (1680, 0.008558939161712437), (501, 0.008543408534374648), (3941, 0.008534544118930261), (3152, 0.008507227329808588), (2844, 0.008488422960752726), (4440, 0.008471711137658012), (1005, 0.008466918490902427), (156, 0.00846423104417469), (3860, 0.008455140193133254), (2809, 0.008452096715804122), (285, 0.00842027926297156), (801, 0.008420104869418596), (3070, 0.008408421512365592), (3099, 0.008395607120724917), (122, 0.008369986681741898), (695, 0.008361435012516133), (2306, 0.008351057467662012), (4164, 0.00834953262814333), (4366, 0.008322671793479985), (1348, 0.008312513381770331), (1747, 0.008288211905296921), (63, 0.008284191186349864), (1816, 0.008279564297019822), (148, 0.008272929674343028), (2264, 0.00826267387707308), (4232, 0.00826061263567118), (125, 0.008260195767917448), (1790, 0.008243934101338522), (1115, 0.008206366471880389), (1694, 0.008188562182799487), (271, 0.008166790376581298), (333, 0.008155374594179303), (4524, 0.008130977011500338), (3316, 0.008112854359121596), (2617, 0.008008234349778032), (3256, 0.008004456357685756), (641, 0.007994263141358081), (582, 0.007987917694670024), (402, 0.007984916079711708), (2076, 0.00796048248625369), (266, 0.007929871577527243), (4096, 0.007927981821553251), (1713, 0.007927652985652215), (1712, 0.007909230728310993), (2403, 0.007871244101935083), (3951, 0.0078486007792153), (3423, 0.007826702472433208), (4032, 0.007801806667385286), (1442, 0.007789624420120254), (2505, 0.00776878502570374), (1300, 0.007753524164805389), (2545, 0.007749624052838119), (3008, 0.007747585356175858), (2417, 0.007735154053179571), (3384, 0.007724648161895258), (1708, 0.0076837934007438), (1014, 0.0076785263071838285), (1069, 0.007670430228387972), (2339, 0.0076651495878491864), (3661, 0.0076162721873694154), (243, 0.007612298185224817), (949, 0.007596921650926837), (2209, 0.007587005003349295), (2936, 0.007585917209365681), (1306, 0.007563871341010695), (4196, 0.007540882793564156), (4077, 0.007482673735113673), (3039, 0.007474994428955189), (4351, 0.00746597449291179), (537, 0.007452995639068521), (435, 0.007438122390803795), (283, 0.007419661860114194), (1770, 0.007418142197255792), (2510, 0.007411940005111977), (2843, 0.007407967804734604), (1799, 0.007378079739748218), (2101, 0.007366277043688874), (1486, 0.0073546815379607), (2244, 0.007349038006488715), (2418, 0.007319120180583123), (4226, 0.007310137395765114), (715, 0.007303801861649951), (668, 0.007300911082921824), (940, 0.007286066596438564), (2873, 0.007285137506640218), (40, 0.007280723063074608), (3387, 0.007279495550026625), (3932, 0.007272429862237868), (340, 0.007271194459830218), (1509, 0.007263697469805648), (1841, 0.007262209049891806), (341, 0.0072552016295216746), (4685, 0.0072511026830502055), (4605, 0.007249983811810398), (3515, 0.0072376618231553185), (2759, 0.007227276038400544), (3457, 0.007226060383383925), (4337, 0.007214338207514525), (2678, 0.007206046186854666), (737, 0.007195749922832982), (3264, 0.007172626588734139), (386, 0.007162898760070513), (1099, 0.007150193193624154), (1718, 0.0071356238971669005), (3599, 0.007131900033377153), (4367, 0.007127393679729928), (635, 0.007125604623157847), (1583, 0.007121860282853317), (1812, 0.00711922898116932), (4001, 0.007116388212785791), (369, 0.00711621768175912), (4695, 0.007099662420849235), (232, 0.007076532287517437), (4061, 0.007062522249013073), (4052, 0.0070620502847995046), (748, 0.0070575006083655025), (2964, 0.007045669803098792), (3926, 0.0070286336972549745), (363, 0.007022706177395017), (2303, 0.0070199352986839375), (1908, 0.0070163895273879315), (3596, 0.007012186275616143), (4008, 0.00701170737480205), (1407, 0.007006752218112212), (301, 0.007003708482466545), (1737, 0.006994405005855892), (2309, 0.006969670421573086), (1124, 0.00696909565399992), (3747, 0.006966346706633461), (413, 0.006964259008201645), (1526, 0.006953405120345168), (2708, 0.006946355814354548), (3648, 0.00693619080383545), (1359, 0.006910564299485398), (1761, 0.006903123192389253), (600, 0.006902310649410325), (752, 0.006898704889986701), (131, 0.006898659530457524), (4486, 0.006889173971083348), (3512, 0.006878607975209782), (1494, 0.006876041980734002), (1461, 0.006874164775380991), (1276, 0.0068674919474429295), (1644, 0.0068659234385540675), (671, 0.006861381317100525), (1266, 0.006852117891655171), (313, 0.006851145805926166), (2193, 0.006847769791567298), (4261, 0.006839233623554872), (809, 0.006812198583765322), (1911, 0.006802956270720859), (1094, 0.006802037991309833), (4467, 0.00680003432332572), (1172, 0.006790123511238522), (2816, 0.006783625101974758), (2565, 0.006783519947629211), (631, 0.00678308866266927), (2691, 0.006782615765962009), (778, 0.0067792264530558135), (1048, 0.006767266394881065), (523, 0.006763786453451801), (2726, 0.0067590242085366035), (2732, 0.006757892395793574), (1250, 0.006751714524906311), (3594, 0.006743436874389963), (1860, 0.00674065598173895), (2109, 0.006732113997182297), (3632, 0.006730451789968697), (4388, 0.006729199665732155), (817, 0.006725833501611385), (782, 0.006718365785921707), (1396, 0.006710037736042231), (1302, 0.006703820478998934), (1867, 0.006702697119115482), (1688, 0.006701753711206067), (3733, 0.006698692491171728), (1936, 0.006697091727892684), (3416, 0.006689246738024989), (3265, 0.006689119104644718), (1501, 0.006688262696346834), (2421, 0.006688176133467472), (1111, 0.006688146273371885), (2503, 0.006687967170624807), (1873, 0.006685774904320673), (346, 0.006677268361386033), (1612, 0.0066721984139720275), (821, 0.006671888711593748), (56, 0.006670148371498796), (182, 0.006663066274836816), (2640, 0.00666271526389526), (2239, 0.006652006017361275), (1345, 0.006650554153669217), (3033, 0.006642189020249131), (921, 0.006640900730374652), (3536, 0.006640335891380342), (2572, 0.006629935428869165), (4210, 0.006623893503857765), (4303, 0.006623718360349031), (2335, 0.006619888444473258), (1986, 0.0065985821638595765), (1773, 0.006573977696333884), (1262, 0.006566963721084713), (3288, 0.006564499612861459), (2463, 0.006561417365907359), (521, 0.006560043491193264), (1087, 0.0065569616465325905), (1551, 0.006553708061309069), (1807, 0.0065506758157188065), (22, 0.006545199761396595), (834, 0.006537744197752728), (3066, 0.0065357288195873825), (321, 0.006529242409618219), (2160, 0.006514447982940101), (1329, 0.006512218840442316), (446, 0.006502028324105184), (4099, 0.006499395880098818), (4738, 0.006497411287337111), (1420, 0.006486571646021314), (1692, 0.00648305183587773), (1226, 0.006481871564674706), (273, 0.006480655870039018), (2480, 0.006480626834042307), (1238, 0.006479862589605734), (1374, 0.006479629355186382), (958, 0.006477690109302091), (322, 0.0064698550656045115), (1849, 0.006467295024322502), (3309, 0.006463176655417785), (3998, 0.006455305241944873), (758, 0.006450782753423989), (1696, 0.00643472289502409), (1852, 0.006422071641859014), (1012, 0.006416430846532506), (2202, 0.00640953486482725), (2291, 0.00640722957973634), (1425, 0.006406212689404369), (1567, 0.006397492607177805), (230, 0.006384226146923099), (4236, 0.00638179169420631), (568, 0.00638149070005827), (4564, 0.006381124392498612), (3046, 0.006380844337661031), (449, 0.006378671507567389), (2095, 0.006366290800796256), (3566, 0.006362441469175871), (3864, 0.006361513378781878), (1307, 0.006351602955077388), (1913, 0.006339737197669118), (1552, 0.006337283951782572), (263, 0.0063354323864049135), (2056, 0.00633079415252761), (164, 0.006321000682505369), (1096, 0.0063186827173887595), (3178, 0.006317025510434287), (248, 0.006315560705028522), (1793, 0.006308172010903629), (2098, 0.006296930151813754), (300, 0.0062928139021815105), (4110, 0.006287913753660045), (1327, 0.006287217597652292), (1267, 0.006285635229132145), (2062, 0.0062783731055744444), (3426, 0.0062690206850444545), (4217, 0.006257087800947503), (3246, 0.006256562792514055), (2680, 0.006250475684112502), (2094, 0.006244646532246242), (835, 0.0062409012401110605), (2935, 0.006240581084176121), (1746, 0.006234361388990929), (3085, 0.006227207444043521), (4555, 0.006223066974018289), (4576, 0.006222219807070505), (2992, 0.00622140133137647), (2205, 0.0062183974485320445), (1723, 0.006217771605585141), (3925, 0.006209811275002209), (2203, 0.006208168093385455), (3909, 0.006200535786117685), (1818, 0.006195705499817689), (1664, 0.006194512517979501), (9, 0.006192501109286881), (3325, 0.006192401177233218), (4272, 0.006183333668033126), (3114, 0.006179196131938413), (766, 0.006173630640640379), (2832, 0.006163292249768243), (4459, 0.006152644095312568), (2426, 0.006151783125793033), (2175, 0.00614527451416463), (3825, 0.00614362516289509), (445, 0.0061326207254436835), (1312, 0.00612487689342198), (4009, 0.006122231172407209), (2998, 0.00611175877798653), (4649, 0.006098421188483399), (468, 0.006096968216757005), (3244, 0.006094113874348183), (1316, 0.0060836344883706695), (35, 0.006080511087095571), (4571, 0.00607285892860718), (1662, 0.006066507539710643), (1833, 0.006064152613967461), (4106, 0.0060632998100087045), (327, 0.006062090738104845), (354, 0.006048094982817403), (3291, 0.006040284907970716), (2113, 0.006036774862296073), (3329, 0.006025495364882277), (1650, 0.006024901667398115), (3598, 0.006004404315700616), (2236, 0.006004370351054139), (2058, 0.006000708672979128), (1538, 0.005996499659210246), (4342, 0.005990312283311692), (1903, 0.0059874130560775545), (3752, 0.005974977961021693), (4057, 0.0059748174917552835), (3748, 0.005968629511292892), (1715, 0.005953061859010524), (2074, 0.0059399870550733425), (1684, 0.005929500399477763), (3865, 0.0059185594731047215), (583, 0.005914592386889126), (2929, 0.005914239312500572), (735, 0.005911853404231016), (2185, 0.0059038359956808525), (4726, 0.0059038213079217255), (970, 0.005901790047932684), (664, 0.005889532248709414), (2820, 0.005877069615822826), (597, 0.005876169153043846), (2285, 0.0058659476361033695), (4082, 0.005849553040394445), (2156, 0.0058255224593960755), (1571, 0.005824729279498281), (979, 0.005822924913747538), (4055, 0.005818892526851869), (2529, 0.005814453597916095), (2587, 0.005806126961464257), (1553, 0.005805001926793313), (4748, 0.005799734323024602), (3509, 0.005792475710523926), (1037, 0.00579241104014424), (78, 0.005782774485676316), (2775, 0.005779383291061602), (1863, 0.00576767131598771), (2942, 0.005765687449278094), (2870, 0.005759942395059957), (1194, 0.005753615273212544), (2768, 0.005748137846309452), (4202, 0.00572436261198401), (2989, 0.005720351182949406), (3257, 0.005717052285884628), (4652, 0.005714257325674509), (277, 0.005710140683143754), (627, 0.00570552945844678), (2349, 0.005700322573049349), (3262, 0.005687098772783821), (4158, 0.00567899850272969), (2764, 0.005662729632665728), (4385, 0.00564394047660295), (3215, 0.005639886983118021), (2490, 0.00563895219076985), (2379, 0.005633014893031107), (3957, 0.005606194309395399), (2655, 0.005599455572982668), (3051, 0.005592082997479996), (2251, 0.005561275866525498), (2407, 0.005554900351935012), (4617, 0.005550166551875263), (2197, 0.005544504176959088), (3821, 0.005543273847691874), (2901, 0.005541901576931012), (1279, 0.005540551305106071), (3713, 0.005533804899254133), (2559, 0.005526840635781914), (2789, 0.005526535759588908), (2889, 0.005525633964277727), (3164, 0.005515861177203006), (288, 0.005499348808270385), (1453, 0.005495109182484126), (177, 0.005491101201021732), (3166, 0.005473241372247575), (2439, 0.0054723034269910644), (2665, 0.005464719713671595), (2985, 0.005463667927320266), (3990, 0.0054589468430716334), (4710, 0.0054222967553574876), (2883, 0.005415758957807224), (3635, 0.0053856672173878), (3940, 0.005384667067132231), (2255, 0.005378419885867682), (4484, 0.0053665446902884184), (2731, 0.005338601363867317), (3219, 0.005335354747977875), (2022, 0.005333886735516834), (4637, 0.005331346500876878), (2257, 0.005317229176290935), (3479, 0.005310112606067287), (4546, 0.005308689876663848), (1144, 0.005298015622701029), (3015, 0.005292026971816782), (477, 0.005289019782645597), (3922, 0.005278747043284442), (159, 0.005266572069223145), (3892, 0.005258813836088983), (3410, 0.00525224373197385), (3205, 0.0052522318529255605), (4444, 0.005250123750046237), (2774, 0.0052374960755379694), (3832, 0.005229556843913233), (2438, 0.005224334324821547), (3076, 0.0052193717144927215), (3613, 0.00520656789434825), (1695, 0.0052034971458435955), (168, 0.005186677922893971), (1701, 0.00517196817503084), (2199, 0.0051681967427707415), (3074, 0.005152963587900149), (2415, 0.005142455419523625), (3140, 0.005142186103153115), (3901, 0.00513591098396602), (2423, 0.0051321632210752305), (4723, 0.005122390289456049), (2286, 0.005121313367530718), (2075, 0.00511650347146088), (3766, 0.005109744554891033), (2872, 0.005096554897692993), (1208, 0.005090013050375528), (4412, 0.005062803041444093), (2643, 0.005060998766597588), (2350, 0.005050327254062306), (3763, 0.005043974525629636), (4632, 0.005031516093441829), (2696, 0.005030509124126119), (3620, 0.00502804371470577), (2448, 0.0050219303718640395), (336, 0.0050170058716180665), (3274, 0.005011766308467101), (2797, 0.005001975904334972), (326, 0.004984318161225925), (2914, 0.004984099548637066), (4373, 0.004982187257282361), (2530, 0.004966898626282775), (414, 0.004965340194418802), (2266, 0.004957542334345428), (3282, 0.004955565763495686), (2838, 0.004949520448217215), (3081, 0.004946556773432919), (4163, 0.004933030163957881), (2879, 0.00492729229814617), (3363, 0.004925040110189443), (4619, 0.004920714971063337), (1711, 0.004919503928223662), (4490, 0.004915824238657729), (2834, 0.004913324020913746), (2488, 0.004910330480851291), (3638, 0.004908370131993751), (4660, 0.00490512407292846), (3165, 0.004900199363251908), (155, 0.004891211919300356), (2778, 0.004879617708647509), (2966, 0.0048773387061857056), (561, 0.004866407462010676), (2535, 0.00485953643924831), (4243, 0.004855876825518977), (2388, 0.004850807405873213), (4477, 0.004827407056518184), (2570, 0.004823604365306524), (4160, 0.004821968372415166), (1264, 0.004821141602282036), (4521, 0.004819681480802127), (3359, 0.0048173088805675114), (2796, 0.004816730303314325), (2188, 0.0048123759026123345), (2434, 0.004805720659763191), (3123, 0.004798581496853375), (2848, 0.004798299994512464), (2772, 0.004793888672041674), (2064, 0.004792777999846398), (2437, 0.004787307415709872), (2428, 0.00478570106907872), (3952, 0.004780900495331127), (925, 0.004780355801111837), (3072, 0.0047790699108194315), (2625, 0.00477881403059734), (4117, 0.004776650831534986), (1429, 0.004763647787816012), (3413, 0.004762571177426326), (1995, 0.004758628205698955), (2705, 0.004758082283945374), (3062, 0.00475434783806334), (448, 0.004752876601378251), (2459, 0.004749527373216865), (3521, 0.004746076997118849), (1187, 0.004742908550049819), (3302, 0.004741590761406385), (2857, 0.004739805109155436), (2986, 0.004733309617644153), (3012, 0.004731981594239753), (1547, 0.00473161926117162), (3357, 0.004730085905250253), (3458, 0.004730062574444134), (4713, 0.004724874869733325), (2748, 0.004721389497990495), (3745, 0.004720431062910852), (3355, 0.004713938835707848), (2229, 0.004710607653164121), (2108, 0.004706216693405783), (3772, 0.00470411171582718), (4718, 0.0047032331805332206), (3577, 0.004699844980377689), (2320, 0.004694168658607323), (1498, 0.004685567174437593), (2702, 0.004683820382273867), (4333, 0.004672265901060077), (419, 0.004669521377201264), (1947, 0.004667553478413007), (4516, 0.0046675377599082616), (436, 0.004663627458235286), (1748, 0.004663500772972878), (2623, 0.004662482651946681), (4594, 0.004660698569218371), (3364, 0.004657221233503411), (2974, 0.004649556623906994), (3506, 0.004645743664125443), (3680, 0.004637422926916819), (4517, 0.004636856252486422), (2162, 0.004631668873390758), (2881, 0.004618216116021635), (3308, 0.004616876427289643), (1049, 0.004615813826131996), (4722, 0.004605323180437736), (2427, 0.004604372272235798), (3425, 0.004601286201567536), (4293, 0.004600279284078242), (3148, 0.004597383695892906), (2400, 0.004596096986714327), (3296, 0.0045919859620618285), (4706, 0.004590126830926254), (3866, 0.004589774623132079), (721, 0.004587888087888673), (985, 0.0045867971408777835), (431, 0.0045850807358710065), (2475, 0.0045831845718758545), (4650, 0.0045739800429681855), (4295, 0.004569186728838114), (3883, 0.004566789172107757), (1489, 0.00456368768200518), (2089, 0.004563073569796169), (2924, 0.004557100839093546), (2176, 0.004556797966743329), (1909, 0.004554598069154386), (2302, 0.004553468253823313), (3258, 0.004551695614895382), (3639, 0.00454830313490055), (4113, 0.0045471172638828815), (4494, 0.004546825514270791), (998, 0.004542837194426327), (107, 0.004541537719491987), (4087, 0.004541517052739178), (813, 0.004539315734847688), (2629, 0.0045327245656580535), (4593, 0.004531755839503447), (614, 0.004528930883883815), (3032, 0.004528020317217454), (4051, 0.004527708268774891), (4575, 0.004525046459693076), (999, 0.004524951474597808), (2478, 0.004522842813422323), (3560, 0.0045218621048403), (4133, 0.0045186253442413594), (4589, 0.004516223107267018), (4269, 0.004516163021986269), (3391, 0.0045154366165929116), (4101, 0.004513447493237149), (4098, 0.004512429695161848), (4092, 0.004503696651188454), (1968, 0.004502966110446198), (4368, 0.004501330407990922), (4244, 0.004496994313473431), (3640, 0.004496960566095393), (4522, 0.0044963037786761), (3044, 0.004488890760916817), (2926, 0.004488267265783805), (2134, 0.004486901379034337), (2943, 0.004486838527042858), (274, 0.0044853402432961645), (3960, 0.004484805780185766), (739, 0.0044845073790034055), (596, 0.0044810881476520705), (3984, 0.004478521739760808), (3456, 0.004476530446944158), (2411, 0.00447249266289973), (3754, 0.0044715224280067935), (1924, 0.004471037400308834), (1007, 0.004465601161250122), (857, 0.004464882621948349), (443, 0.004461422811767923), (3893, 0.0044590898996724245), (2394, 0.004449237101866755), (2223, 0.004448880396433958), (2260, 0.0044471592848161325), (3013, 0.004446089101791213), (4625, 0.004445768790993384), (3962, 0.004445119300230249), (4369, 0.0044442088088279385), (8, 0.004443848290745335), (2888, 0.004436624948649858), (3196, 0.004433419296502542), (1822, 0.004432376592292647), (2269, 0.0044307274003392546), (3827, 0.004429452200724308), (2890, 0.0044275383024382844), (2664, 0.004426893443875191), (1349, 0.004425959156456921), (318, 0.004425454183812406), (3146, 0.004424457188476979), (3501, 0.004421990895130282), (716, 0.004421793024705079), (350, 0.004421278073155824), (3527, 0.004419922695010764), (576, 0.004418166135292814), (4138, 0.004417911505049973), (623, 0.004417409213640194), (12, 0.00441699787325966), (3116, 0.004416832754927228), (2555, 0.004415972696873658), (2386, 0.0044147511450760655), (4448, 0.004410657900868055), (1325, 0.004407809070037862), (4535, 0.0044068289441350295), (2840, 0.00440342561119288), (3813, 0.004398563981318917), (3037, 0.004393941219816662), (4249, 0.004393169421617876), (2916, 0.0043930861550104195), (1474, 0.004392960800022228), (4657, 0.004389445039282169), (1109, 0.004389444025976211), (876, 0.004384885099825269), (4699, 0.004383982451710179), (1866, 0.004382418751820699), (4566, 0.004380006845463311), (2592, 0.004378500543288703), (2854, 0.0043767234483945185), (2295, 0.004376699071471705), (4734, 0.004376659210489469), (888, 0.004376319648834274), (3867, 0.004376117996571955), (4111, 0.0043751216810524775), (2159, 0.004373326159339099), (3618, 0.0043668541470865815), (3920, 0.004365064900774472), (4116, 0.004357917406385294), (3873, 0.0043511455343451045), (3417, 0.004349657716074014), (3112, 0.004348096890733579), (3915, 0.0043466183851499154), (4528, 0.004344841738414788), (3749, 0.004343374429897517), (206, 0.0043412939834492036), (3273, 0.004340206712536184), (2830, 0.004337511797558874), (1923, 0.004335215700104477), (3097, 0.004335158024390435), (688, 0.004335000632789941), (774, 0.004334180793365964), (587, 0.004332948197653346), (3601, 0.004331760807105905), (2348, 0.004329586653616257), (3183, 0.004329428863659384), (1188, 0.00432857691505016), (4130, 0.004327295675352987), (729, 0.00432710556426363), (4187, 0.00432637648333415), (2660, 0.004326054988345203), (4330, 0.004325786994896411), (3214, 0.004325613093859947), (4624, 0.004325549695173531), (481, 0.004325423768154502), (3704, 0.0043253332351839285), (1518, 0.004324492633372803), (1364, 0.00432395439849661), (4507, 0.004322544544446525), (652, 0.004321510202629334), (3780, 0.004314871805072428), (4573, 0.004313906399623528), (612, 0.004311764966990096), (2242, 0.0043098641187901635), (3902, 0.004308399158113528), (3771, 0.00430728034157901), (1907, 0.004307089952025274), (1687, 0.004302698371174395), (2390, 0.0043024313116174304), (761, 0.00429776004512419), (2755, 0.0042931129483367155), (3187, 0.004288176435965979), (3235, 0.004287557867647006), (3198, 0.004287548531652124), (2477, 0.004287152252629707), (4123, 0.004286830734708641), (1896, 0.004286631959804867), (2391, 0.0042866053701590716), (1960, 0.004284461415061397), (2289, 0.004284210849299535), (2104, 0.004283473614175584), (4259, 0.004283374891406854), (2344, 0.0042800238638407255), (1851, 0.004279155872966623), (3449, 0.004278461150008417), (3845, 0.004271351369226093), (2714, 0.004266035500641544), (4520, 0.004264897732391043), (1570, 0.004262137037158504), (4024, 0.004261044569634298), (3590, 0.004260953584131042), (4401, 0.0042604769654866715), (673, 0.004257668397527923), (2230, 0.004257641123518425), (1537, 0.004256321168085056), (3406, 0.00425403684069154), (4470, 0.004248924140689011), (4446, 0.004248903327851194), (4014, 0.004247279135049295), (2776, 0.00424480262340213), (4489, 0.004244798803858497), (4079, 0.0042440139316956066), (1905, 0.004243088492848145), (4430, 0.004240080982193336), (41, 0.004239671204916577), (2361, 0.004235408031360269), (2048, 0.004233864667823104), (1324, 0.00423223248191581), (1893, 0.004231866936480377), (3075, 0.0042298459654450645), (4419, 0.0042292706935251), (728, 0.004225744795406348), (493, 0.00422557234706502), (3349, 0.004225486285684631), (2105, 0.004225367540477181), (3511, 0.004225304860806551), (1643, 0.004222242349883334), (3493, 0.004221693940540405), (1703, 0.0042193488807350955), (4601, 0.004218375873169162), (1400, 0.004216299889311737), (3882, 0.0042141381463509054), (3184, 0.004213050282487624), (1225, 0.004212920454944933), (456, 0.004212116012138784), (4286, 0.004211549817399337), (826, 0.00420745384628956), (1916, 0.004206906319902667), (4046, 0.0042065380256695725), (2652, 0.0042042955086627415), (4038, 0.004203903377847397), (1513, 0.004201928673728265), (4643, 0.004200920603877807), (930, 0.0042003529936593285), (3654, 0.004199097481856713), (2999, 0.004198859469719029), (74, 0.004198218721165316), (3496, 0.004196808619376011), (3807, 0.004192720234299687), (3516, 0.004192308273466113), (792, 0.004192285440989171), (3234, 0.0041912054239289015), (192, 0.004186610838934528), (3353, 0.004185454938494462), (34, 0.004185208069075577), (178, 0.004185155889164909), (2067, 0.0041748212963176375), (1350, 0.004170754201188117), (606, 0.004169754394464729), (991, 0.00416777536985811), (1454, 0.0041655009645293175), (1918, 0.004162035854143324), (3623, 0.004159950839702208), (1161, 0.0041595907928347175), (1122, 0.004154705805087538), (2466, 0.004154203809753283), (2609, 0.004153445625914251), (2402, 0.004153383380168458), (2393, 0.004152455308324702), (1902, 0.004151397687284035), (783, 0.0041501241391827095), (3227, 0.004148441602504796), (4501, 0.004148288599604524), (2083, 0.004146409350835014), (1083, 0.004144393398254513), (3314, 0.00414111415920375), (2661, 0.004137872168730524), (3241, 0.004136589122815679), (564, 0.004136210957731788), (4357, 0.004135169677973644), (3809, 0.004132019189045873), (3326, 0.0041313542208085245), (865, 0.004129712877648873), (4422, 0.00412863211076523), (1463, 0.004126964335592213), (3624, 0.004125090682833924), (1176, 0.004123731032685853), (255, 0.004123664784851486), (579, 0.004123122816878563), (2405, 0.004118212975606719), (1071, 0.00411774021393769), (23, 0.0041161690235314834), (2821, 0.004115583392005328), (238, 0.004115269661001162), (2088, 0.004114459921440085), (2894, 0.004114011559340001), (1179, 0.004113295608504514), (4420, 0.004110909232726626), (980, 0.0041102746990228116), (644, 0.004109646947186838), (4033, 0.004107880165211504), (1628, 0.004107129131292875), (3765, 0.0041010249743876435), (4629, 0.00410093636132441), (2911, 0.004100054145057739), (4056, 0.004098828337506464), (11, 0.004097965878863071), (4668, 0.004096872154297624), (3564, 0.004096365713428179), (1722, 0.004096331953506875), (3233, 0.004096063863816662), (2531, 0.004094937789697838), (743, 0.004094394269701722), (3542, 0.004094343593946079), (4284, 0.004093781427928094), (3182, 0.00409361753111694), (588, 0.004092765581601982), (2319, 0.004092668432104866), (3388, 0.004086943433973049), (4563, 0.004086738214253297), (872, 0.004086391241020856), (3653, 0.004084851564356948), (4036, 0.004084755102518801), (1983, 0.004080549494588665), (169, 0.004080493594620273), (1931, 0.00407823557672052), (4334, 0.004075122796604043), (2554, 0.004074604771425584), (636, 0.00407311053814283), (1131, 0.004072796916110354), (660, 0.004069730448135065), (1286, 0.004068030176826906), (2091, 0.0040658340572372045), (1421, 0.0040655980672453865), (1946, 0.004062519180181587), (871, 0.004062366078001136), (4135, 0.004058919071604476), (4356, 0.004057858725244733), (3551, 0.004057800928830014), (1229, 0.004056817588338421), (1717, 0.004055597992694863), (693, 0.004053902454877006), (3122, 0.004053641731222933), (1533, 0.004053413013584801), (2746, 0.004053015263420347), (4266, 0.004052160327301344), (4054, 0.004052154269089484), (3445, 0.004049900924416045), (3125, 0.004049892110351193), (580, 0.004048329060468331), (3707, 0.004044812250977448), (1223, 0.004043656132503028), (216, 0.004043498821506541), (1768, 0.0040355852130124804), (1140, 0.004035182776376835), (4523, 0.004035117851050908), (3666, 0.00403455838465995), (71, 0.00403329357032042), (198, 0.0040319097172374085), (3526, 0.004031332565378239), (2169, 0.004031031116976641), (3673, 0.004027855633916419), (750, 0.004027081403910688), (3888, 0.004021895628542969), (4178, 0.004020279962413819), (3571, 0.004020089208284141), (3436, 0.004015069015551351), (1410, 0.004012904983502088), (2313, 0.004008447656929598), (2878, 0.004007698016444397), (504, 0.004002156769431164), (2802, 0.004001277470518704), (2068, 0.004001187837191268), (3268, 0.003995376651086083), (3727, 0.003993728497951871), (4287, 0.003992070727543964), (509, 0.003984786902268343), (1163, 0.003981854561532991), (2593, 0.003980487978040464), (3303, 0.003979764841885072), (2556, 0.003977906414707372), (2972, 0.003977015942622836), (1335, 0.003976785560194786), (1645, 0.003976599251078481), (3195, 0.003976126451438913), (3799, 0.003975449965957579), (749, 0.003975218449187911), (2904, 0.003973735303503441), (3876, 0.003973231380737349), (2946, 0.003971568756995637), (2073, 0.003970941363082752), (3435, 0.003967460752690183), (1338, 0.003966854084017741), (4640, 0.003964206153618101), (959, 0.003963474403763089), (3900, 0.003963409714047637), (755, 0.0039625020200632155), (1740, 0.0039611471636986275), (4670, 0.003960069860626283), (769, 0.003955516341151442), (696, 0.003955250956899405), (2061, 0.00395095734023765), (2492, 0.003950419622646144), (4309, 0.0039476036418655425), (2422, 0.003946818310086102), (1170, 0.003945076203332522), (4487, 0.003940151630613131), (4183, 0.0039397732195942175), (3557, 0.003939034332792378), (1620, 0.003938369516461229), (490, 0.003937191738517629), (3050, 0.003935570277207166), (923, 0.003933513143231304), (3500, 0.003932230364138663), (4530, 0.003929763426269522), (3170, 0.003929742728405851), (3330, 0.003928555178821772), (1026, 0.003926008835785079), (1472, 0.003925391849626983), (2945, 0.003924864362784203), (698, 0.003923567534769372), (1813, 0.003921861713327999), (1891, 0.003920938066907699), (2606, 0.00391559289239259), (1027, 0.003912624164531648), (3917, 0.003910775551105661), (1476, 0.003909033895805162), (1191, 0.003908847263284002), (1378, 0.003908722067951611), (114, 0.003907242116802649), (2226, 0.003906735130836857), (348, 0.003906469160269509), (400, 0.0039047847780559557), (969, 0.0039045519374739887), (3739, 0.0039044533383754266), (4362, 0.003901541548369647), (1313, 0.003897899969845205), (127, 0.0038960683962480187), (3696, 0.0038939266123523475), (2674, 0.0038927078471473614), (1634, 0.003892692367637699), (3819, 0.003890897677236308), (4069, 0.0038894012174911377), (727, 0.003887602434741252), (4712, 0.003886915668213215), (1882, 0.0038836972239921315), (4638, 0.003882803742313268), (3641, 0.0038822150119933404), (1693, 0.003879612519064924), (3811, 0.0038776657489774124), (3706, 0.003877054467584498), (2965, 0.003876828385257043), (3660, 0.003876742866060369), (2612, 0.0038752991332185347), (1138, 0.003874343990870502), (1706, 0.0038734458094096765), (3315, 0.0038730031640471013), (2779, 0.0038725818725747992), (1598, 0.003866812307646181), (2430, 0.003862359971383804), (1408, 0.0038620343627022474), (3477, 0.003860156935983051), (852, 0.003855018800544787), (221, 0.003854197973099234), (4020, 0.0038538187721578344), (3402, 0.003851401494984525), (1969, 0.0038505687177021702), (1558, 0.0038484654736963024), (3220, 0.003847978798184609), (1422, 0.003847463084059563), (1247, 0.003845931376268928), (598, 0.0038452507923214924), (1892, 0.003844383624364109), (488, 0.0038432652265478666), (1448, 0.0038425518606934788), (4394, 0.0038424810386270304), (1060, 0.0038422303294164475), (4154, 0.0038413763369207162), (1653, 0.0038384793696573443), (1597, 0.00383700046943248), (1666, 0.0038369925280600323), (2496, 0.0038344495238299085), (3890, 0.0038322328117359854), (1438, 0.0038308925562838465), (1782, 0.003827162946189437), (1483, 0.0038262617942213368), (1481, 0.0038257032154625325), (2195, 0.0038242012456922384), (1488, 0.0038237723310434917), (854, 0.003822550847002764), (373, 0.0038177132775606267), (1044, 0.0038174192327837535), (3194, 0.003815178352852685), (2069, 0.003814508218087273), (1123, 0.003814181202538646), (3487, 0.003811517346963363), (2907, 0.0038112508998538923), (2461, 0.003809949377794367), (4152, 0.003807903669201351), (3974, 0.0038075625197846537), (3028, 0.003806137350036516), (1034, 0.003806055300052256), (522, 0.0038048722740887356), (589, 0.003804446742305112), (894, 0.003804108776199438), (4345, 0.003800890336199062), (2634, 0.003800232398117619), (1084, 0.0038000655774031162), (4472, 0.0037999674771621275), (2642, 0.003799311682488931), (880, 0.0037988332352336634), (3734, 0.0037957881870528108), (325, 0.003795769964289687), (457, 0.0037949259294785052), (3379, 0.0037925298672268023), (215, 0.003790959138400922), (4011, 0.003790957748143496), (2397, 0.003790808357010729), (2029, 0.003790651438593641), (2117, 0.003789381433255422), (3298, 0.003787960901598542), (3898, 0.0037863474039156473), (349, 0.003779070090821499), (2131, 0.0037770935039500657), (2004, 0.003776467716873657), (388, 0.0037751153873016806), (1744, 0.003772681479571664), (1667, 0.003761828324825524), (3300, 0.0037618008420663394), (3293, 0.0037611165978066684), (798, 0.0037593627563697503), (3646, 0.0037580021882669323), (2899, 0.0037565437878071587), (1478, 0.00375432483820309), (1002, 0.0037537396452862674), (3071, 0.00375221779570438), (4085, 0.0037520476815606613), (92, 0.003749187930371604), (4591, 0.0037487179019133382), (3953, 0.0037467327180425117), (2528, 0.003745117540238802), (3014, 0.0037436793670111044), (4536, 0.003741717773775806), (1582, 0.0037391522800040134), (3755, 0.003738625717450302), (4429, 0.003733055534105048), (3460, 0.0037324331484405626), (1796, 0.0037267425601400788), (2743, 0.003726386701672961), (1415, 0.0037257061437202983), (2892, 0.00372210426644054), (1001, 0.0037208090249630918), (471, 0.003719838832096509), (907, 0.0037183958831229114), (2457, 0.003717741015127545), (975, 0.0037170710983798075), (1819, 0.003715398644768352), (18, 0.0037152057009939374), (1372, 0.003706361631555888), (2527, 0.003704470654797584), (4282, 0.003702851746095034), (1608, 0.003702842778067987), (3563, 0.003702269982728793), (132, 0.003700565489969978), (355, 0.003699668131678568), (1177, 0.0036983219973410982), (2862, 0.003696611291003953), (475, 0.0036963997787459943), (1107, 0.003695576725421135), (655, 0.003694308660335933), (3669, 0.0036920604187174045), (1884, 0.0036907733508304143), (372, 0.003690572905675907), (3503, 0.0036896311863490994), (2399, 0.003688289174066015), (2482, 0.0036879179691857097), (4350, 0.003685760743161159), (103, 0.0036842435672748944), (4479, 0.003681636131978068), (200, 0.003680552833700227), (659, 0.003680037171445061), (4473, 0.0036797347668765927), (1565, 0.0036761364385048375), (4143, 0.003674004308816573), (1503, 0.0036739714523375236), (111, 0.0036735132997608054), (359, 0.0036684097175786537), (31, 0.0036677890863186977), (2453, 0.003666478949652975), (594, 0.003665428646098084), (3254, 0.0036621037661073376), (2367, 0.003661190313171404), (3614, 0.0036611513265753424), (3910, 0.003659695882094265), (1375, 0.003659409974124722), (2611, 0.003657691043816513), (1627, 0.0036570132789441193), (2800, 0.0036563302052199393), (3311, 0.0036540744731450555), (558, 0.003652217698575911), (4066, 0.003650988195333783), (3278, 0.003647520738242119), (1065, 0.0036459226397245943), (3147, 0.003645320049160356), (2201, 0.0036451260130785394), (1357, 0.003644794077967306), (1217, 0.0036401527082462), (96, 0.00364011999035985), (886, 0.003639791310577937), (3342, 0.003639012512406502), (605, 0.0036353019344139907), (3120, 0.0036352807904870134), (3742, 0.0036335545323822552), (563, 0.003630963515063103), (1041, 0.003630930984758848), (1340, 0.0036297361996925877), (1040, 0.0036250435677794303), (121, 0.0036243615566701752), (2741, 0.0036228459205336007), (136, 0.0036190073757653616), (1462, 0.0036156009707725935), (2287, 0.0036152324695102865), (3027, 0.0036151820733826934), (1543, 0.003612830979848079), (3705, 0.0036094371521335137), (910, 0.003609109516789663), (1209, 0.0036083884882391836), (856, 0.003604115256923291), (1760, 0.0036002631611659138), (944, 0.0035977168157321346), (2031, 0.003597333245842007), (1219, 0.003597260125931698), (804, 0.0035960818811651514), (608, 0.0035912015694880297), (1869, 0.0035909504478995238), (981, 0.0035888706517672748), (2502, 0.0035869959294237094), (1079, 0.003586946831122914), (1605, 0.003586437955728959), (3137, 0.003576983996628853), (2355, 0.003574340453374228), (1273, 0.003569548934626697), (3304, 0.0035622152598899642), (286, 0.0035614938568766666), (3956, 0.0035612157867058276), (951, 0.003558315031166773), (16, 0.003557623606882507), (1827, 0.0035558807331722946), (604, 0.0035540814866799695), (2976, 0.003553605539904384), (1427, 0.0035527324235992952), (744, 0.0035510836047965323), (416, 0.0035509444278017297), (3318, 0.0035472528793995257), (2771, 0.0035443920547181293), (495, 0.0035416130243417633), (2747, 0.003539024793376063), (2724, 0.0035378825716355076), (1080, 0.003536759537882012), (2338, 0.0035339751512865974), (184, 0.003523166194396505), (722, 0.0035227481301806913), (617, 0.0035202674065801104), (3474, 0.00352018592880772), (2591, 0.0035197566761783045), (267, 0.003517810452666374), (1964, 0.0035124499859084495), (2845, 0.00351213425596008), (2240, 0.0035097568760357155), (851, 0.0035090393372846107), (410, 0.0035085204623433817), (1719, 0.0035070843674083166), (1830, 0.003503615372178199), (703, 0.0035017727504891723), (3380, 0.0035001343012870927), (2580, 0.0034957371736071587), (1199, 0.0034922606117121714), (357, 0.0034907473579112464), (1251, 0.003485721959299503), (3327, 0.0034819672307711373), (1414, 0.003479134276565176), (3569, 0.0034745206918891935), (4074, 0.0034730228496223452), (2520, 0.003472228725159329), (480, 0.003469299532548244), (1423, 0.00346864633482125), (3928, 0.0034670564235947826), (4247, 0.003464455885095144), (1616, 0.0034622912984279), (815, 0.0034586369756708204), (3534, 0.003456020005603482), (194, 0.003454559852102992), (1318, 0.0034510870149951573), (1352, 0.0034492264981698115), (3657, 0.00343760759557201), (1088, 0.0034356129233749635), (611, 0.0034327626069459286), (4411, 0.0034251958684825166), (4733, 0.003422560349873009), (2509, 0.0034207052815823573), (1394, 0.00341696701932093), (1370, 0.00341076013982029), (3331, 0.0034100958462867895), (3393, 0.0034096546264991076), (97, 0.003405316238909232), (4151, 0.003404513191034698), (861, 0.003403552149162261), (712, 0.0033969184965951405), (4432, 0.003395007443496636), (4636, 0.0033916044988106246), (642, 0.0033872851329153904), (190, 0.0033819786494244442), (3575, 0.003381706619597244), (1943, 0.0033808184237231207), (4311, 0.0033797408586425364), (2697, 0.003378899867419929), (165, 0.003376724317833042), (195, 0.003373304385025805), (453, 0.0033715932866815166), (4626, 0.003360858244071234), (1828, 0.0033577557923945922), (2359, 0.003353561469544483), (1078, 0.0033424948966648944), (626, 0.0033226487714441456), (2761, 0.003321847991753816), (3056, 0.003321466035217475), (3347, 0.003320549206224375), (3301, 0.0033131595548294103), (2526, 0.0033129833201272856), (2034, 0.003309836019928925), (2127, 0.003303103419667192), (2441, 0.0032991874607980662), (707, 0.003297541470992398), (3200, 0.003293762523326898), (2010, 0.00329035824328422), (3855, 0.003289720897136101), (2132, 0.003275060130152518), (2039, 0.0032575616538033105), (1624, 0.0032568453106879896), (3024, 0.0032552308935507967), (2758, 0.0032488753378975502), (1356, 0.0032378231236762016), (1305, 0.0032143428567419207), (4674, 0.003197674932956624), (1989, 0.003148871310024478), (1303, 0.003145776942830235), (1677, 0.00314187381913773), (953, 0.003135026334496788), (3199, 0.0031144981226453507), (3626, 0.0030947317958992266), (2766, 0.0030790235853099227), (351, 0.0030724474092060465), (571, 0.0030711116695979583), (562, 0.003031511900567948), (607, 0.0029913645784479972), (228, 0.002978768358312792), (3546, 0.0029578846889939453), (256, 0.002953600720387565), (3365, 0.002937068026306354), (831, 0.0029256237051194325), (4752, 0.002778538939672314), (4171, 0.002770380398686924), (129, 0.0026826030701816513), (202, 0.002532977448581821), (2534, 0.0017630857497867138), (1, 0.0), (2, 0.0), (4, 0.0), (6, 0.0), (10, 0.0), (14, 0.0), (17, 0.0), (20, 0.0), (24, 0.0), (26, 0.0), (27, 0.0), (28, 0.0), (30, 0.0), (36, 0.0), (37, 0.0), (38, 0.0), (39, 0.0), (42, 0.0), (47, 0.0), (49, 0.0), (50, 0.0), (53, 0.0), (54, 0.0), (55, 0.0), (58, 0.0), (59, 0.0), (64, 0.0), (66, 0.0), (69, 0.0), (70, 0.0), (72, 0.0), (73, 0.0), (76, 0.0), (77, 0.0), (80, 0.0), (81, 0.0), (90, 0.0), (91, 0.0), (93, 0.0), (94, 0.0), (95, 0.0), (98, 0.0), (99, 0.0), (100, 0.0), (101, 0.0), (102, 0.0), (115, 0.0), (117, 0.0), (118, 0.0), (128, 0.0), (133, 0.0), (134, 0.0), (135, 0.0), (139, 0.0), (140, 0.0), (141, 0.0), (143, 0.0), (146, 0.0), (150, 0.0), (151, 0.0), (152, 0.0), (153, 0.0), (154, 0.0), (157, 0.0), (158, 0.0), (163, 0.0), (167, 0.0), (171, 0.0), (186, 0.0), (187, 0.0), (188, 0.0), (189, 0.0), (191, 0.0), (196, 0.0), (205, 0.0), (211, 0.0), (212, 0.0), (214, 0.0), (217, 0.0), (219, 0.0), (220, 0.0), (223, 0.0), (225, 0.0), (226, 0.0), (229, 0.0), (233, 0.0), (234, 0.0), (235, 0.0), (237, 0.0), (239, 0.0), (241, 0.0), (245, 0.0), (246, 0.0), (247, 0.0), (249, 0.0), (253, 0.0), (257, 0.0), (258, 0.0), (259, 0.0), (260, 0.0), (262, 0.0), (264, 0.0), (265, 0.0), (268, 0.0), (272, 0.0), (275, 0.0), (278, 0.0), (279, 0.0), (289, 0.0), (290, 0.0), (291, 0.0), (293, 0.0), (294, 0.0), (295, 0.0), (297, 0.0), (298, 0.0), (299, 0.0), (302, 0.0), (303, 0.0), (304, 0.0), (305, 0.0), (306, 0.0), (308, 0.0), (310, 0.0), (311, 0.0), (312, 0.0), (314, 0.0), (315, 0.0), (316, 0.0), (319, 0.0), (320, 0.0), (323, 0.0), (324, 0.0), (331, 0.0), (335, 0.0), (337, 0.0), (338, 0.0), (339, 0.0), (344, 0.0), (347, 0.0), (352, 0.0), (361, 0.0), (362, 0.0), (365, 0.0), (366, 0.0), (367, 0.0), (375, 0.0), (376, 0.0), (377, 0.0), (378, 0.0), (379, 0.0), (380, 0.0), (382, 0.0), (389, 0.0), (390, 0.0), (391, 0.0), (392, 0.0), (393, 0.0), (394, 0.0), (395, 0.0), (397, 0.0), (399, 0.0), (401, 0.0), (404, 0.0), (405, 0.0), (411, 0.0), (415, 0.0), (417, 0.0), (420, 0.0), (422, 0.0), (423, 0.0), (425, 0.0), (426, 0.0), (427, 0.0), (432, 0.0), (439, 0.0), (440, 0.0), (444, 0.0), (451, 0.0), (454, 0.0), (460, 0.0), (462, 0.0), (466, 0.0), (467, 0.0), (469, 0.0), (473, 0.0), (474, 0.0), (476, 0.0), (478, 0.0), (484, 0.0), (486, 0.0), (487, 0.0), (489, 0.0), (491, 0.0), (492, 0.0), (497, 0.0), (498, 0.0), (499, 0.0), (503, 0.0), (505, 0.0), (506, 0.0), (507, 0.0), (508, 0.0), (512, 0.0), (513, 0.0), (514, 0.0), (516, 0.0), (517, 0.0), (518, 0.0), (520, 0.0), (524, 0.0), (525, 0.0), (526, 0.0), (528, 0.0), (529, 0.0), (531, 0.0), (532, 0.0), (535, 0.0), (536, 0.0), (539, 0.0), (541, 0.0), (546, 0.0), (548, 0.0), (549, 0.0), (550, 0.0), (552, 0.0), (554, 0.0), (556, 0.0), (557, 0.0), (559, 0.0), (560, 0.0), (565, 0.0), (567, 0.0), (569, 0.0), (570, 0.0), (572, 0.0), (573, 0.0), (574, 0.0), (575, 0.0), (577, 0.0), (581, 0.0), (585, 0.0), (591, 0.0), (592, 0.0), (593, 0.0), (595, 0.0), (599, 0.0), (601, 0.0), (602, 0.0), (603, 0.0), (610, 0.0), (619, 0.0), (621, 0.0), (624, 0.0), (625, 0.0), (630, 0.0), (633, 0.0), (634, 0.0), (639, 0.0), (640, 0.0), (645, 0.0), (646, 0.0), (647, 0.0), (649, 0.0), (650, 0.0), (656, 0.0), (658, 0.0), (661, 0.0), (662, 0.0), (663, 0.0), (665, 0.0), (666, 0.0), (674, 0.0), (678, 0.0), (679, 0.0), (680, 0.0), (681, 0.0), (685, 0.0), (686, 0.0), (687, 0.0), (690, 0.0), (699, 0.0), (700, 0.0), (702, 0.0), (704, 0.0), (708, 0.0), (709, 0.0), (711, 0.0), (713, 0.0), (714, 0.0), (717, 0.0), (718, 0.0), (720, 0.0), (723, 0.0), (724, 0.0), (725, 0.0), (726, 0.0), (730, 0.0), (731, 0.0), (736, 0.0), (738, 0.0), (740, 0.0), (741, 0.0), (745, 0.0), (746, 0.0), (747, 0.0), (751, 0.0), (754, 0.0), (756, 0.0), (759, 0.0), (764, 0.0), (765, 0.0), (767, 0.0), (770, 0.0), (771, 0.0), (772, 0.0), (773, 0.0), (777, 0.0), (780, 0.0), (781, 0.0), (784, 0.0), (785, 0.0), (786, 0.0), (789, 0.0), (791, 0.0), (793, 0.0), (797, 0.0), (802, 0.0), (803, 0.0), (805, 0.0), (807, 0.0), (810, 0.0), (811, 0.0), (819, 0.0), (820, 0.0), (822, 0.0), (823, 0.0), (825, 0.0), (837, 0.0), (839, 0.0), (840, 0.0), (841, 0.0), (845, 0.0), (846, 0.0), (848, 0.0), (849, 0.0), (855, 0.0), (859, 0.0), (862, 0.0), (863, 0.0), (868, 0.0), (875, 0.0), (881, 0.0), (882, 0.0), (883, 0.0), (884, 0.0), (887, 0.0), (889, 0.0), (890, 0.0), (891, 0.0), (892, 0.0), (893, 0.0), (898, 0.0), (901, 0.0), (902, 0.0), (909, 0.0), (912, 0.0), (913, 0.0), (914, 0.0), (919, 0.0), (920, 0.0), (922, 0.0), (926, 0.0), (927, 0.0), (928, 0.0), (932, 0.0), (933, 0.0), (938, 0.0), (941, 0.0), (943, 0.0), (945, 0.0), (946, 0.0), (950, 0.0), (954, 0.0), (955, 0.0), (956, 0.0), (960, 0.0), (961, 0.0), (964, 0.0), (965, 0.0), (971, 0.0), (972, 0.0), (973, 0.0), (974, 0.0), (977, 0.0), (978, 0.0), (982, 0.0), (983, 0.0), (984, 0.0), (987, 0.0), (990, 0.0), (992, 0.0), (993, 0.0), (995, 0.0), (996, 0.0), (997, 0.0), (1004, 0.0), (1008, 0.0), (1010, 0.0), (1011, 0.0), (1013, 0.0), (1016, 0.0), (1022, 0.0), (1025, 0.0), (1028, 0.0), (1029, 0.0), (1031, 0.0), (1032, 0.0), (1036, 0.0), (1038, 0.0), (1039, 0.0), (1042, 0.0), (1047, 0.0), (1051, 0.0), (1054, 0.0), (1055, 0.0), (1056, 0.0), (1057, 0.0), (1062, 0.0), (1066, 0.0), (1067, 0.0), (1072, 0.0), (1073, 0.0), (1076, 0.0), (1081, 0.0), (1082, 0.0), (1086, 0.0), (1089, 0.0), (1091, 0.0), (1092, 0.0), (1093, 0.0), (1097, 0.0), (1098, 0.0), (1100, 0.0), (1101, 0.0), (1103, 0.0), (1104, 0.0), (1105, 0.0), (1106, 0.0), (1108, 0.0), (1110, 0.0), (1113, 0.0), (1117, 0.0), (1120, 0.0), (1121, 0.0), (1126, 0.0), (1127, 0.0), (1130, 0.0), (1133, 0.0), (1135, 0.0), (1139, 0.0), (1142, 0.0), (1143, 0.0), (1145, 0.0), (1147, 0.0), (1149, 0.0), (1150, 0.0), (1151, 0.0), (1153, 0.0), (1154, 0.0), (1155, 0.0), (1156, 0.0), (1158, 0.0), (1159, 0.0), (1164, 0.0), (1165, 0.0), (1166, 0.0), (1167, 0.0), (1168, 0.0), (1169, 0.0), (1171, 0.0), (1174, 0.0), (1178, 0.0), (1180, 0.0), (1181, 0.0), (1189, 0.0), (1190, 0.0), (1193, 0.0), (1196, 0.0), (1197, 0.0), (1198, 0.0), (1200, 0.0), (1201, 0.0), (1203, 0.0), (1204, 0.0), (1205, 0.0), (1207, 0.0), (1210, 0.0), (1211, 0.0), (1212, 0.0), (1213, 0.0), (1214, 0.0), (1218, 0.0), (1221, 0.0), (1222, 0.0), (1227, 0.0), (1228, 0.0), (1233, 0.0), (1235, 0.0), (1240, 0.0), (1242, 0.0), (1244, 0.0), (1246, 0.0), (1253, 0.0), (1256, 0.0), (1258, 0.0), (1259, 0.0), (1260, 0.0), (1263, 0.0), (1265, 0.0), (1268, 0.0), (1269, 0.0), (1271, 0.0), (1277, 0.0), (1280, 0.0), (1281, 0.0), (1282, 0.0), (1284, 0.0), (1285, 0.0), (1287, 0.0), (1288, 0.0), (1289, 0.0), (1291, 0.0), (1294, 0.0), (1295, 0.0), (1296, 0.0), (1297, 0.0), (1298, 0.0), (1299, 0.0), (1301, 0.0), (1304, 0.0), (1309, 0.0), (1315, 0.0), (1319, 0.0), (1321, 0.0), (1322, 0.0), (1323, 0.0), (1326, 0.0), (1328, 0.0), (1330, 0.0), (1332, 0.0), (1333, 0.0), (1336, 0.0), (1344, 0.0), (1346, 0.0), (1347, 0.0), (1353, 0.0), (1354, 0.0), (1355, 0.0), (1362, 0.0), (1363, 0.0), (1366, 0.0), (1368, 0.0), (1373, 0.0), (1380, 0.0), (1381, 0.0), (1390, 0.0), (1391, 0.0), (1392, 0.0), (1395, 0.0), (1399, 0.0), (1402, 0.0), (1404, 0.0), (1409, 0.0), (1411, 0.0), (1416, 0.0), (1424, 0.0), (1426, 0.0), (1428, 0.0), (1430, 0.0), (1431, 0.0), (1433, 0.0), (1434, 0.0), (1435, 0.0), (1437, 0.0), (1439, 0.0), (1441, 0.0), (1444, 0.0), (1447, 0.0), (1449, 0.0), (1450, 0.0), (1451, 0.0), (1452, 0.0), (1456, 0.0), (1457, 0.0), (1458, 0.0), (1459, 0.0), (1460, 0.0), (1466, 0.0), (1467, 0.0), (1468, 0.0), (1469, 0.0), (1470, 0.0), (1473, 0.0), (1479, 0.0), (1480, 0.0), (1482, 0.0), (1484, 0.0), (1485, 0.0), (1487, 0.0), (1490, 0.0), (1491, 0.0), (1495, 0.0), (1496, 0.0), (1497, 0.0), (1499, 0.0), (1502, 0.0), (1504, 0.0), (1507, 0.0), (1508, 0.0), (1511, 0.0), (1516, 0.0), (1517, 0.0), (1520, 0.0), (1521, 0.0), (1522, 0.0), (1524, 0.0), (1525, 0.0), (1528, 0.0), (1529, 0.0), (1530, 0.0), (1531, 0.0), (1532, 0.0), (1534, 0.0), (1535, 0.0), (1536, 0.0), (1540, 0.0), (1541, 0.0), (1545, 0.0), (1546, 0.0), (1548, 0.0), (1549, 0.0), (1550, 0.0), (1554, 0.0), (1555, 0.0), (1556, 0.0), (1557, 0.0), (1559, 0.0), (1560, 0.0), (1561, 0.0), (1562, 0.0), (1563, 0.0), (1564, 0.0), (1566, 0.0), (1569, 0.0), (1573, 0.0), (1574, 0.0), (1575, 0.0), (1576, 0.0), (1577, 0.0), (1578, 0.0), (1580, 0.0), (1581, 0.0), (1584, 0.0), (1586, 0.0), (1587, 0.0), (1588, 0.0), (1589, 0.0), (1590, 0.0), (1592, 0.0), (1593, 0.0), (1594, 0.0), (1596, 0.0), (1599, 0.0), (1600, 0.0), (1601, 0.0), (1602, 0.0), (1603, 0.0), (1604, 0.0), (1606, 0.0), (1607, 0.0), (1610, 0.0), (1611, 0.0), (1613, 0.0), (1614, 0.0), (1615, 0.0), (1617, 0.0), (1618, 0.0), (1622, 0.0), (1623, 0.0), (1625, 0.0), (1626, 0.0), (1631, 0.0), (1632, 0.0), (1633, 0.0), (1635, 0.0), (1636, 0.0), (1637, 0.0), (1638, 0.0), (1639, 0.0), (1640, 0.0), (1641, 0.0), (1642, 0.0), (1646, 0.0), (1649, 0.0), (1651, 0.0), (1656, 0.0), (1657, 0.0), (1659, 0.0), (1660, 0.0), (1661, 0.0), (1663, 0.0), (1668, 0.0), (1669, 0.0), (1670, 0.0), (1672, 0.0), (1673, 0.0), (1679, 0.0), (1681, 0.0), (1683, 0.0), (1686, 0.0), (1689, 0.0), (1691, 0.0), (1697, 0.0), (1698, 0.0), (1699, 0.0), (1700, 0.0), (1702, 0.0), (1704, 0.0), (1709, 0.0), (1724, 0.0), (1725, 0.0), (1726, 0.0), (1728, 0.0), (1729, 0.0), (1731, 0.0), (1732, 0.0), (1733, 0.0), (1734, 0.0), (1738, 0.0), (1742, 0.0), (1745, 0.0), (1751, 0.0), (1753, 0.0), (1755, 0.0), (1756, 0.0), (1758, 0.0), (1765, 0.0), (1766, 0.0), (1767, 0.0), (1769, 0.0), (1771, 0.0), (1772, 0.0), (1775, 0.0), (1777, 0.0), (1778, 0.0), (1780, 0.0), (1781, 0.0), (1783, 0.0), (1784, 0.0), (1785, 0.0), (1786, 0.0), (1789, 0.0), (1791, 0.0), (1792, 0.0), (1794, 0.0), (1800, 0.0), (1801, 0.0), (1803, 0.0), (1804, 0.0), (1805, 0.0), (1808, 0.0), (1810, 0.0), (1811, 0.0), (1814, 0.0), (1820, 0.0), (1823, 0.0), (1824, 0.0), (1825, 0.0), (1826, 0.0), (1829, 0.0), (1831, 0.0), (1834, 0.0), (1835, 0.0), (1836, 0.0), (1837, 0.0), (1839, 0.0), (1840, 0.0), (1842, 0.0), (1844, 0.0), (1846, 0.0), (1848, 0.0), (1855, 0.0), (1856, 0.0), (1857, 0.0), (1859, 0.0), (1862, 0.0), (1877, 0.0), (1879, 0.0), (1881, 0.0), (1883, 0.0), (1887, 0.0), (1888, 0.0), (1889, 0.0), (1890, 0.0), (1894, 0.0), (1898, 0.0), (1899, 0.0), (1900, 0.0), (1901, 0.0), (1904, 0.0), (1910, 0.0), (1912, 0.0), (1914, 0.0), (1915, 0.0), (1917, 0.0), (1921, 0.0), (1925, 0.0), (1926, 0.0), (1928, 0.0), (1929, 0.0), (1930, 0.0), (1932, 0.0), (1933, 0.0), (1938, 0.0), (1939, 0.0), (1940, 0.0), (1941, 0.0), (1944, 0.0), (1952, 0.0), (1953, 0.0), (1954, 0.0), (1955, 0.0), (1956, 0.0), (1958, 0.0), (1959, 0.0), (1961, 0.0), (1962, 0.0), (1963, 0.0), (1965, 0.0), (1966, 0.0), (1972, 0.0), (1973, 0.0), (1974, 0.0), (1975, 0.0), (1978, 0.0), (1979, 0.0), (1980, 0.0), (1981, 0.0), (1984, 0.0), (1987, 0.0), (1991, 0.0), (1993, 0.0), (1998, 0.0), (2001, 0.0), (2002, 0.0), (2003, 0.0), (2006, 0.0), (2007, 0.0), (2009, 0.0), (2012, 0.0), (2015, 0.0), (2017, 0.0), (2019, 0.0), (2021, 0.0), (2025, 0.0), (2028, 0.0), (2030, 0.0), (2032, 0.0), (2033, 0.0), (2036, 0.0), (2038, 0.0), (2041, 0.0), (2042, 0.0), (2043, 0.0), (2044, 0.0), (2046, 0.0), (2047, 0.0), (2050, 0.0), (2054, 0.0), (2057, 0.0), (2059, 0.0), (2060, 0.0), (2063, 0.0), (2066, 0.0), (2071, 0.0), (2072, 0.0), (2077, 0.0), (2078, 0.0), (2079, 0.0), (2081, 0.0), (2084, 0.0), (2085, 0.0), (2086, 0.0), (2090, 0.0), (2092, 0.0), (2093, 0.0), (2099, 0.0), (2100, 0.0), (2106, 0.0), (2107, 0.0), (2111, 0.0), (2115, 0.0), (2118, 0.0), (2120, 0.0), (2124, 0.0), (2125, 0.0), (2128, 0.0), (2129, 0.0), (2130, 0.0), (2135, 0.0), (2136, 0.0), (2137, 0.0), (2138, 0.0), (2139, 0.0), (2140, 0.0), (2141, 0.0), (2142, 0.0), (2146, 0.0), (2147, 0.0), (2148, 0.0), (2150, 0.0), (2151, 0.0), (2152, 0.0), (2153, 0.0), (2158, 0.0), (2163, 0.0), (2164, 0.0), (2165, 0.0), (2166, 0.0), (2168, 0.0), (2170, 0.0), (2171, 0.0), (2172, 0.0), (2173, 0.0), (2178, 0.0), (2179, 0.0), (2180, 0.0), (2181, 0.0), (2182, 0.0), (2183, 0.0), (2184, 0.0), (2186, 0.0), (2187, 0.0), (2189, 0.0), (2190, 0.0), (2192, 0.0), (2194, 0.0), (2200, 0.0), (2204, 0.0), (2207, 0.0), (2208, 0.0), (2213, 0.0), (2215, 0.0), (2217, 0.0), (2218, 0.0), (2219, 0.0), (2220, 0.0), (2222, 0.0), (2225, 0.0), (2227, 0.0), (2228, 0.0), (2231, 0.0), (2232, 0.0), (2233, 0.0), (2234, 0.0), (2238, 0.0), (2241, 0.0), (2243, 0.0), (2245, 0.0), (2246, 0.0), (2247, 0.0), (2248, 0.0), (2249, 0.0), (2252, 0.0), (2253, 0.0), (2256, 0.0), (2259, 0.0), (2261, 0.0), (2262, 0.0), (2263, 0.0), (2267, 0.0), (2268, 0.0), (2270, 0.0), (2271, 0.0), (2272, 0.0), (2273, 0.0), (2274, 0.0), (2278, 0.0), (2281, 0.0), (2282, 0.0), (2283, 0.0), (2288, 0.0), (2292, 0.0), (2293, 0.0), (2296, 0.0), (2297, 0.0), (2299, 0.0), (2300, 0.0), (2304, 0.0), (2305, 0.0), (2307, 0.0), (2308, 0.0), (2310, 0.0), (2311, 0.0), (2312, 0.0), (2314, 0.0), (2315, 0.0), (2317, 0.0), (2322, 0.0), (2323, 0.0), (2324, 0.0), (2325, 0.0), (2326, 0.0), (2327, 0.0), (2328, 0.0), (2329, 0.0), (2330, 0.0), (2331, 0.0), (2332, 0.0), (2333, 0.0), (2336, 0.0), (2337, 0.0), (2340, 0.0), (2341, 0.0), (2342, 0.0), (2343, 0.0), (2345, 0.0), (2351, 0.0), (2352, 0.0), (2354, 0.0), (2356, 0.0), (2357, 0.0), (2358, 0.0), (2360, 0.0), (2363, 0.0), (2364, 0.0), (2369, 0.0), (2370, 0.0), (2371, 0.0), (2372, 0.0), (2373, 0.0), (2377, 0.0), (2378, 0.0), (2380, 0.0), (2381, 0.0), (2382, 0.0), (2383, 0.0), (2384, 0.0), (2385, 0.0), (2387, 0.0), (2389, 0.0), (2392, 0.0), (2395, 0.0), (2396, 0.0), (2398, 0.0), (2401, 0.0), (2404, 0.0), (2408, 0.0), (2409, 0.0), (2410, 0.0), (2414, 0.0), (2416, 0.0), (2419, 0.0), (2420, 0.0), (2424, 0.0), (2425, 0.0), (2429, 0.0), (2431, 0.0), (2432, 0.0), (2433, 0.0), (2435, 0.0), (2442, 0.0), (2444, 0.0), (2445, 0.0), (2446, 0.0), (2450, 0.0), (2451, 0.0), (2452, 0.0), (2454, 0.0), (2455, 0.0), (2456, 0.0), (2458, 0.0), (2462, 0.0), (2465, 0.0), (2470, 0.0), (2471, 0.0), (2472, 0.0), (2476, 0.0), (2479, 0.0), (2483, 0.0), (2485, 0.0), (2491, 0.0), (2493, 0.0), (2495, 0.0), (2497, 0.0), (2498, 0.0), (2499, 0.0), (2500, 0.0), (2501, 0.0), (2504, 0.0), (2506, 0.0), (2507, 0.0), (2508, 0.0), (2511, 0.0), (2514, 0.0), (2515, 0.0), (2516, 0.0), (2518, 0.0), (2519, 0.0), (2521, 0.0), (2523, 0.0), (2525, 0.0), (2532, 0.0), (2533, 0.0), (2536, 0.0), (2537, 0.0), (2539, 0.0), (2541, 0.0), (2542, 0.0), (2543, 0.0), (2544, 0.0), (2547, 0.0), (2548, 0.0), (2549, 0.0), (2551, 0.0), (2552, 0.0), (2557, 0.0), (2561, 0.0), (2562, 0.0), (2564, 0.0), (2566, 0.0), (2567, 0.0), (2569, 0.0), (2571, 0.0), (2573, 0.0), (2574, 0.0), (2575, 0.0), (2576, 0.0), (2577, 0.0), (2578, 0.0), (2581, 0.0), (2583, 0.0), (2584, 0.0), (2585, 0.0), (2586, 0.0), (2588, 0.0), (2589, 0.0), (2590, 0.0), (2594, 0.0), (2595, 0.0), (2596, 0.0), (2597, 0.0), (2599, 0.0), (2600, 0.0), (2604, 0.0), (2605, 0.0), (2608, 0.0), (2610, 0.0), (2613, 0.0), (2615, 0.0), (2616, 0.0), (2619, 0.0), (2620, 0.0), (2624, 0.0), (2626, 0.0), (2627, 0.0), (2628, 0.0), (2631, 0.0), (2635, 0.0), (2636, 0.0), (2637, 0.0), (2641, 0.0), (2648, 0.0), (2651, 0.0), (2656, 0.0), (2657, 0.0), (2658, 0.0), (2659, 0.0), (2662, 0.0), (2663, 0.0), (2666, 0.0), (2667, 0.0), (2669, 0.0), (2670, 0.0), (2671, 0.0), (2672, 0.0), (2673, 0.0), (2675, 0.0), (2676, 0.0), (2677, 0.0), (2679, 0.0), (2681, 0.0), (2682, 0.0), (2683, 0.0), (2684, 0.0), (2685, 0.0), (2686, 0.0), (2690, 0.0), (2693, 0.0), (2699, 0.0), (2700, 0.0), (2701, 0.0), (2703, 0.0), (2704, 0.0), (2707, 0.0), (2709, 0.0), (2711, 0.0), (2713, 0.0), (2715, 0.0), (2717, 0.0), (2719, 0.0), (2720, 0.0), (2721, 0.0), (2722, 0.0), (2725, 0.0), (2728, 0.0), (2729, 0.0), (2730, 0.0), (2733, 0.0), (2734, 0.0), (2735, 0.0), (2736, 0.0), (2737, 0.0), (2738, 0.0), (2749, 0.0), (2750, 0.0), (2753, 0.0), (2754, 0.0), (2756, 0.0), (2757, 0.0), (2763, 0.0), (2765, 0.0), (2770, 0.0), (2773, 0.0), (2781, 0.0), (2783, 0.0), (2785, 0.0), (2786, 0.0), (2787, 0.0), (2788, 0.0), (2790, 0.0), (2792, 0.0), (2793, 0.0), (2794, 0.0), (2799, 0.0), (2801, 0.0), (2804, 0.0), (2806, 0.0), (2810, 0.0), (2811, 0.0), (2813, 0.0), (2814, 0.0), (2815, 0.0), (2817, 0.0), (2818, 0.0), (2819, 0.0), (2822, 0.0), (2824, 0.0), (2825, 0.0), (2826, 0.0), (2827, 0.0), (2828, 0.0), (2829, 0.0), (2833, 0.0), (2835, 0.0), (2836, 0.0), (2837, 0.0), (2839, 0.0), (2842, 0.0), (2846, 0.0), (2847, 0.0), (2850, 0.0), (2851, 0.0), (2852, 0.0), (2853, 0.0), (2855, 0.0), (2856, 0.0), (2858, 0.0), (2860, 0.0), (2861, 0.0), (2863, 0.0), (2864, 0.0), (2865, 0.0), (2866, 0.0), (2875, 0.0), (2877, 0.0), (2880, 0.0), (2882, 0.0), (2884, 0.0), (2891, 0.0), (2895, 0.0), (2896, 0.0), (2898, 0.0), (2900, 0.0), (2902, 0.0), (2905, 0.0), (2906, 0.0), (2909, 0.0), (2912, 0.0), (2921, 0.0), (2922, 0.0), (2923, 0.0), (2927, 0.0), (2928, 0.0), (2930, 0.0), (2937, 0.0), (2938, 0.0), (2940, 0.0), (2941, 0.0), (2947, 0.0), (2948, 0.0), (2949, 0.0), (2950, 0.0), (2951, 0.0), (2952, 0.0), (2953, 0.0), (2954, 0.0), (2955, 0.0), (2956, 0.0), (2957, 0.0), (2958, 0.0), (2959, 0.0), (2960, 0.0), (2962, 0.0), (2963, 0.0), (2967, 0.0), (2968, 0.0), (2970, 0.0), (2973, 0.0), (2979, 0.0), (2982, 0.0), (2983, 0.0), (2984, 0.0), (2987, 0.0), (2990, 0.0), (2991, 0.0), (2993, 0.0), (2994, 0.0), (2997, 0.0), (3001, 0.0), (3002, 0.0), (3003, 0.0), (3005, 0.0), (3006, 0.0), (3007, 0.0), (3009, 0.0), (3011, 0.0), (3016, 0.0), (3018, 0.0), (3020, 0.0), (3021, 0.0), (3022, 0.0), (3025, 0.0), (3026, 0.0), (3029, 0.0), (3030, 0.0), (3031, 0.0), (3034, 0.0), (3035, 0.0), (3038, 0.0), (3040, 0.0), (3041, 0.0), (3042, 0.0), (3047, 0.0), (3048, 0.0), (3049, 0.0), (3052, 0.0), (3054, 0.0), (3055, 0.0), (3057, 0.0), (3058, 0.0), (3059, 0.0), (3060, 0.0), (3061, 0.0), (3063, 0.0), (3064, 0.0), (3068, 0.0), (3069, 0.0), (3073, 0.0), (3077, 0.0), (3078, 0.0), (3079, 0.0), (3080, 0.0), (3082, 0.0), (3084, 0.0), (3087, 0.0), (3088, 0.0), (3089, 0.0), (3090, 0.0), (3092, 0.0), (3093, 0.0), (3100, 0.0), (3101, 0.0), (3103, 0.0), (3104, 0.0), (3105, 0.0), (3106, 0.0), (3107, 0.0), (3109, 0.0), (3113, 0.0), (3115, 0.0), (3117, 0.0), (3121, 0.0), (3124, 0.0), (3126, 0.0), (3128, 0.0), (3130, 0.0), (3131, 0.0), (3132, 0.0), (3133, 0.0), (3134, 0.0), (3135, 0.0), (3136, 0.0), (3138, 0.0), (3139, 0.0), (3141, 0.0), (3143, 0.0), (3145, 0.0), (3149, 0.0), (3150, 0.0), (3158, 0.0), (3159, 0.0), (3160, 0.0), (3161, 0.0), (3162, 0.0), (3163, 0.0), (3168, 0.0), (3169, 0.0), (3172, 0.0), (3173, 0.0), (3174, 0.0), (3175, 0.0), (3176, 0.0), (3177, 0.0), (3179, 0.0), (3180, 0.0), (3181, 0.0), (3185, 0.0), (3186, 0.0), (3188, 0.0), (3189, 0.0), (3190, 0.0), (3191, 0.0), (3193, 0.0), (3197, 0.0), (3201, 0.0), (3202, 0.0), (3204, 0.0), (3206, 0.0), (3207, 0.0), (3208, 0.0), (3211, 0.0), (3212, 0.0), (3216, 0.0), (3217, 0.0), (3221, 0.0), (3223, 0.0), (3224, 0.0), (3225, 0.0), (3229, 0.0), (3230, 0.0), (3231, 0.0), (3236, 0.0), (3238, 0.0), (3239, 0.0), (3242, 0.0), (3243, 0.0), (3247, 0.0), (3250, 0.0), (3251, 0.0), (3252, 0.0), (3261, 0.0), (3263, 0.0), (3266, 0.0), (3269, 0.0), (3270, 0.0), (3271, 0.0), (3272, 0.0), (3277, 0.0), (3281, 0.0), (3283, 0.0), (3286, 0.0), (3287, 0.0), (3289, 0.0), (3290, 0.0), (3292, 0.0), (3305, 0.0), (3307, 0.0), (3310, 0.0), (3320, 0.0), (3321, 0.0), (3322, 0.0), (3323, 0.0), (3324, 0.0), (3332, 0.0), (3333, 0.0), (3335, 0.0), (3336, 0.0), (3337, 0.0), (3338, 0.0), (3339, 0.0), (3340, 0.0), (3341, 0.0), (3343, 0.0), (3348, 0.0), (3350, 0.0), (3354, 0.0), (3358, 0.0), (3361, 0.0), (3366, 0.0), (3367, 0.0), (3368, 0.0), (3369, 0.0), (3371, 0.0), (3372, 0.0), (3378, 0.0), (3381, 0.0), (3383, 0.0), (3390, 0.0), (3392, 0.0), (3394, 0.0), (3396, 0.0), (3397, 0.0), (3398, 0.0), (3400, 0.0), (3401, 0.0), (3404, 0.0), (3405, 0.0), (3411, 0.0), (3412, 0.0), (3414, 0.0), (3415, 0.0), (3419, 0.0), (3422, 0.0), (3424, 0.0), (3429, 0.0), (3431, 0.0), (3432, 0.0), (3434, 0.0), (3438, 0.0), (3439, 0.0), (3440, 0.0), (3441, 0.0), (3442, 0.0), (3443, 0.0), (3444, 0.0), (3448, 0.0), (3451, 0.0), (3452, 0.0), (3454, 0.0), (3455, 0.0), (3459, 0.0), (3461, 0.0), (3464, 0.0), (3467, 0.0), (3468, 0.0), (3472, 0.0), (3473, 0.0), (3475, 0.0), (3476, 0.0), (3478, 0.0), (3481, 0.0), (3482, 0.0), (3484, 0.0), (3485, 0.0), (3489, 0.0), (3490, 0.0), (3491, 0.0), (3494, 0.0), (3495, 0.0), (3497, 0.0), (3499, 0.0), (3502, 0.0), (3505, 0.0), (3507, 0.0), (3510, 0.0), (3513, 0.0), (3514, 0.0), (3517, 0.0), (3519, 0.0), (3520, 0.0), (3522, 0.0), (3523, 0.0), (3525, 0.0), (3529, 0.0), (3530, 0.0), (3531, 0.0), (3532, 0.0), (3533, 0.0), (3537, 0.0), (3538, 0.0), (3539, 0.0), (3540, 0.0), (3543, 0.0), (3544, 0.0), (3545, 0.0), (3547, 0.0), (3548, 0.0), (3549, 0.0), (3550, 0.0), (3554, 0.0), (3555, 0.0), (3561, 0.0), (3562, 0.0), (3565, 0.0), (3567, 0.0), (3568, 0.0), (3570, 0.0), (3573, 0.0), (3576, 0.0), (3578, 0.0), (3581, 0.0), (3583, 0.0), (3584, 0.0), (3585, 0.0), (3587, 0.0), (3588, 0.0), (3589, 0.0), (3591, 0.0), (3592, 0.0), (3593, 0.0), (3595, 0.0), (3600, 0.0), (3602, 0.0), (3603, 0.0), (3604, 0.0), (3605, 0.0), (3606, 0.0), (3607, 0.0), (3608, 0.0), (3609, 0.0), (3610, 0.0), (3611, 0.0), (3615, 0.0), (3616, 0.0), (3617, 0.0), (3619, 0.0), (3621, 0.0), (3622, 0.0), (3625, 0.0), (3627, 0.0), (3628, 0.0), (3629, 0.0), (3631, 0.0), (3633, 0.0), (3636, 0.0), (3644, 0.0), (3647, 0.0), (3649, 0.0), (3650, 0.0), (3651, 0.0), (3658, 0.0), (3662, 0.0), (3663, 0.0), (3664, 0.0), (3668, 0.0), (3671, 0.0), (3672, 0.0), (3674, 0.0), (3676, 0.0), (3677, 0.0), (3678, 0.0), (3679, 0.0), (3681, 0.0), (3682, 0.0), (3683, 0.0), (3685, 0.0), (3686, 0.0), (3687, 0.0), (3688, 0.0), (3690, 0.0), (3691, 0.0), (3693, 0.0), (3695, 0.0), (3697, 0.0), (3698, 0.0), (3700, 0.0), (3701, 0.0), (3702, 0.0), (3703, 0.0), (3709, 0.0), (3710, 0.0), (3712, 0.0), (3714, 0.0), (3715, 0.0), (3716, 0.0), (3717, 0.0), (3718, 0.0), (3719, 0.0), (3721, 0.0), (3722, 0.0), (3723, 0.0), (3724, 0.0), (3725, 0.0), (3726, 0.0), (3729, 0.0), (3730, 0.0), (3732, 0.0), (3735, 0.0), (3736, 0.0), (3737, 0.0), (3738, 0.0), (3740, 0.0), (3743, 0.0), (3744, 0.0), (3746, 0.0), (3757, 0.0), (3758, 0.0), (3759, 0.0), (3760, 0.0), (3761, 0.0), (3762, 0.0), (3764, 0.0), (3768, 0.0), (3769, 0.0), (3770, 0.0), (3773, 0.0), (3774, 0.0), (3775, 0.0), (3776, 0.0), (3781, 0.0), (3782, 0.0), (3783, 0.0), (3785, 0.0), (3786, 0.0), (3787, 0.0), (3788, 0.0), (3789, 0.0), (3790, 0.0), (3791, 0.0), (3792, 0.0), (3795, 0.0), (3796, 0.0), (3798, 0.0), (3800, 0.0), (3802, 0.0), (3803, 0.0), (3804, 0.0), (3805, 0.0), (3806, 0.0), (3808, 0.0), (3812, 0.0), (3814, 0.0), (3815, 0.0), (3816, 0.0), (3817, 0.0), (3818, 0.0), (3820, 0.0), (3823, 0.0), (3824, 0.0), (3830, 0.0), (3831, 0.0), (3833, 0.0), (3834, 0.0), (3836, 0.0), (3837, 0.0), (3838, 0.0), (3840, 0.0), (3841, 0.0), (3843, 0.0), (3844, 0.0), (3846, 0.0), (3847, 0.0), (3848, 0.0), (3849, 0.0), (3851, 0.0), (3856, 0.0), (3858, 0.0), (3859, 0.0), (3863, 0.0), (3869, 0.0), (3870, 0.0), (3872, 0.0), (3874, 0.0), (3877, 0.0), (3878, 0.0), (3879, 0.0), (3881, 0.0), (3884, 0.0), (3885, 0.0), (3886, 0.0), (3887, 0.0), (3889, 0.0), (3891, 0.0), (3894, 0.0), (3896, 0.0), (3897, 0.0), (3899, 0.0), (3905, 0.0), (3906, 0.0), (3907, 0.0), (3908, 0.0), (3911, 0.0), (3912, 0.0), (3914, 0.0), (3916, 0.0), (3918, 0.0), (3921, 0.0), (3929, 0.0), (3930, 0.0), (3931, 0.0), (3933, 0.0), (3935, 0.0), (3936, 0.0), (3937, 0.0), (3938, 0.0), (3939, 0.0), (3942, 0.0), (3943, 0.0), (3944, 0.0), (3948, 0.0), (3949, 0.0), (3950, 0.0), (3963, 0.0), (3964, 0.0), (3965, 0.0), (3966, 0.0), (3967, 0.0), (3968, 0.0), (3969, 0.0), (3970, 0.0), (3971, 0.0), (3972, 0.0), (3975, 0.0), (3977, 0.0), (3979, 0.0), (3980, 0.0), (3981, 0.0), (3982, 0.0), (3985, 0.0), (3986, 0.0), (3987, 0.0), (3988, 0.0), (3989, 0.0), (3991, 0.0), (3994, 0.0), (3995, 0.0), (3996, 0.0), (3997, 0.0), (3999, 0.0), (4002, 0.0), (4003, 0.0), (4006, 0.0), (4010, 0.0), (4013, 0.0), (4015, 0.0), (4017, 0.0), (4018, 0.0), (4019, 0.0), (4021, 0.0), (4022, 0.0), (4023, 0.0), (4026, 0.0), (4027, 0.0), (4028, 0.0), (4029, 0.0), (4030, 0.0), (4031, 0.0), (4034, 0.0), (4037, 0.0), (4039, 0.0), (4040, 0.0), (4041, 0.0), (4042, 0.0), (4043, 0.0), (4044, 0.0), (4045, 0.0), (4047, 0.0), (4049, 0.0), (4058, 0.0), (4059, 0.0), (4063, 0.0), (4064, 0.0), (4065, 0.0), (4067, 0.0), (4070, 0.0), (4071, 0.0), (4072, 0.0), (4073, 0.0), (4075, 0.0), (4076, 0.0), (4078, 0.0), (4080, 0.0), (4083, 0.0), (4084, 0.0), (4086, 0.0), (4089, 0.0), (4090, 0.0), (4091, 0.0), (4093, 0.0), (4094, 0.0), (4097, 0.0), (4100, 0.0), (4102, 0.0), (4103, 0.0), (4105, 0.0), (4107, 0.0), (4108, 0.0), (4109, 0.0), (4112, 0.0), (4114, 0.0), (4115, 0.0), (4119, 0.0), (4120, 0.0), (4122, 0.0), (4125, 0.0), (4126, 0.0), (4127, 0.0), (4129, 0.0), (4131, 0.0), (4132, 0.0), (4136, 0.0), (4139, 0.0), (4140, 0.0), (4142, 0.0), (4144, 0.0), (4145, 0.0), (4146, 0.0), (4147, 0.0), (4148, 0.0), (4150, 0.0), (4153, 0.0), (4155, 0.0), (4157, 0.0), (4159, 0.0), (4161, 0.0), (4162, 0.0), (4166, 0.0), (4167, 0.0), (4168, 0.0), (4169, 0.0), (4170, 0.0), (4172, 0.0), (4173, 0.0), (4174, 0.0), (4175, 0.0), (4179, 0.0), (4180, 0.0), (4181, 0.0), (4184, 0.0), (4185, 0.0), (4186, 0.0), (4188, 0.0), (4190, 0.0), (4191, 0.0), (4193, 0.0), (4194, 0.0), (4195, 0.0), (4197, 0.0), (4198, 0.0), (4199, 0.0), (4200, 0.0), (4201, 0.0), (4204, 0.0), (4206, 0.0), (4207, 0.0), (4208, 0.0), (4209, 0.0), (4211, 0.0), (4212, 0.0), (4213, 0.0), (4214, 0.0), (4215, 0.0), (4218, 0.0), (4219, 0.0), (4220, 0.0), (4221, 0.0), (4222, 0.0), (4223, 0.0), (4224, 0.0), (4225, 0.0), (4228, 0.0), (4229, 0.0), (4230, 0.0), (4234, 0.0), (4237, 0.0), (4238, 0.0), (4239, 0.0), (4240, 0.0), (4241, 0.0), (4245, 0.0), (4248, 0.0), (4250, 0.0), (4251, 0.0), (4252, 0.0), (4253, 0.0), (4254, 0.0), (4256, 0.0), (4258, 0.0), (4260, 0.0), (4262, 0.0), (4263, 0.0), (4264, 0.0), (4265, 0.0), (4267, 0.0), (4270, 0.0), (4271, 0.0), (4273, 0.0), (4274, 0.0), (4275, 0.0), (4276, 0.0), (4277, 0.0), (4278, 0.0), (4279, 0.0), (4280, 0.0), (4285, 0.0), (4289, 0.0), (4290, 0.0), (4291, 0.0), (4292, 0.0), (4294, 0.0), (4296, 0.0), (4297, 0.0), (4298, 0.0), (4299, 0.0), (4300, 0.0), (4301, 0.0), (4302, 0.0), (4304, 0.0), (4305, 0.0), (4306, 0.0), (4307, 0.0), (4308, 0.0), (4310, 0.0), (4312, 0.0), (4313, 0.0), (4315, 0.0), (4316, 0.0), (4317, 0.0), (4318, 0.0), (4319, 0.0), (4320, 0.0), (4322, 0.0), (4323, 0.0), (4324, 0.0), (4326, 0.0), (4327, 0.0), (4328, 0.0), (4329, 0.0), (4331, 0.0), (4332, 0.0), (4338, 0.0), (4339, 0.0), (4340, 0.0), (4341, 0.0), (4343, 0.0), (4346, 0.0), (4347, 0.0), (4348, 0.0), (4352, 0.0), (4353, 0.0), (4354, 0.0), (4355, 0.0), (4358, 0.0), (4359, 0.0), (4360, 0.0), (4361, 0.0), (4363, 0.0), (4364, 0.0), (4365, 0.0), (4370, 0.0), (4372, 0.0), (4376, 0.0), (4377, 0.0), (4378, 0.0), (4381, 0.0), (4383, 0.0), (4384, 0.0), (4386, 0.0), (4390, 0.0), (4391, 0.0), (4392, 0.0), (4393, 0.0), (4396, 0.0), (4397, 0.0), (4400, 0.0), (4404, 0.0), (4405, 0.0), (4406, 0.0), (4407, 0.0), (4408, 0.0), (4409, 0.0), (4410, 0.0), (4413, 0.0), (4414, 0.0), (4415, 0.0), (4416, 0.0), (4417, 0.0), (4418, 0.0), (4421, 0.0), (4423, 0.0), (4424, 0.0), (4425, 0.0), (4426, 0.0), (4427, 0.0), (4428, 0.0), (4431, 0.0), (4433, 0.0), (4434, 0.0), (4437, 0.0), (4438, 0.0), (4439, 0.0), (4441, 0.0), (4445, 0.0), (4447, 0.0), (4449, 0.0), (4451, 0.0), (4452, 0.0), (4453, 0.0), (4454, 0.0), (4455, 0.0), (4457, 0.0), (4458, 0.0), (4460, 0.0), (4461, 0.0), (4462, 0.0), (4463, 0.0), (4464, 0.0), (4468, 0.0), (4471, 0.0), (4476, 0.0), (4478, 0.0), (4480, 0.0), (4483, 0.0), (4485, 0.0), (4491, 0.0), (4493, 0.0), (4495, 0.0), (4496, 0.0), (4497, 0.0), (4498, 0.0), (4499, 0.0), (4500, 0.0), (4505, 0.0), (4506, 0.0), (4508, 0.0), (4509, 0.0), (4513, 0.0), (4514, 0.0), (4515, 0.0), (4518, 0.0), (4519, 0.0), (4525, 0.0), (4526, 0.0), (4527, 0.0), (4529, 0.0), (4532, 0.0), (4537, 0.0), (4538, 0.0), (4539, 0.0), (4540, 0.0), (4541, 0.0), (4542, 0.0), (4543, 0.0), (4544, 0.0), (4545, 0.0), (4547, 0.0), (4548, 0.0), (4549, 0.0), (4550, 0.0), (4552, 0.0), (4556, 0.0), (4558, 0.0), (4559, 0.0), (4560, 0.0), (4561, 0.0), (4562, 0.0), (4565, 0.0), (4567, 0.0), (4568, 0.0), (4569, 0.0), (4570, 0.0), (4572, 0.0), (4574, 0.0), (4577, 0.0), (4578, 0.0), (4579, 0.0), (4580, 0.0), (4582, 0.0), (4584, 0.0), (4585, 0.0), (4586, 0.0), (4587, 0.0), (4592, 0.0), (4595, 0.0), (4597, 0.0), (4598, 0.0), (4599, 0.0), (4600, 0.0), (4604, 0.0), (4606, 0.0), (4607, 0.0), (4609, 0.0), (4611, 0.0), (4612, 0.0), (4613, 0.0), (4615, 0.0), (4616, 0.0), (4618, 0.0), (4620, 0.0), (4621, 0.0), (4622, 0.0), (4628, 0.0), (4630, 0.0), (4631, 0.0), (4633, 0.0), (4634, 0.0), (4635, 0.0), (4639, 0.0), (4641, 0.0), (4642, 0.0), (4644, 0.0), (4645, 0.0), (4646, 0.0), (4647, 0.0), (4648, 0.0), (4651, 0.0), (4653, 0.0), (4654, 0.0), (4655, 0.0), (4659, 0.0), (4661, 0.0), (4662, 0.0), (4663, 0.0), (4664, 0.0), (4665, 0.0), (4666, 0.0), (4667, 0.0), (4671, 0.0), (4672, 0.0), (4675, 0.0), (4676, 0.0), (4677, 0.0), (4678, 0.0), (4680, 0.0), (4681, 0.0), (4683, 0.0), (4686, 0.0), (4687, 0.0), (4688, 0.0), (4689, 0.0), (4690, 0.0), (4691, 0.0), (4692, 0.0), (4693, 0.0), (4694, 0.0), (4696, 0.0), (4697, 0.0), (4698, 0.0), (4700, 0.0), (4702, 0.0), (4704, 0.0), (4705, 0.0), (4707, 0.0), (4708, 0.0), (4709, 0.0), (4711, 0.0), (4714, 0.0), (4715, 0.0), (4716, 0.0), (4717, 0.0), (4719, 0.0), (4720, 0.0), (4725, 0.0), (4728, 0.0), (4729, 0.0), (4730, 0.0), (4732, 0.0), (4736, 0.0), (4737, 0.0), (4740, 0.0), (4741, 0.0), (4742, 0.0), (4743, 0.0), (4744, 0.0), (4745, 0.0), (4746, 0.0), (4749, 0.0), (4750, 0.0), (4751, 0.0), (4753, 0.0), (4754, 0.0), (4755, 0.0), (4756, 0.0), (4757, 0.0), (4758, 0.0), (4759, 0.0)]\n"
          ]
        }
      ]
    },
    {
      "cell_type": "code",
      "source": [
        "print('Top 30 Movies suggested for You : \\n')\n",
        "i = 1\n",
        "for movie in Sorted_Similar_Movies:\n",
        "  index  = movie[0]\n",
        "  title_from_index = df[df.index==index]['Movie_Title'].values[0]\n",
        "  if (i<31):\n",
        "    print(i,'.',title_from_index)\n",
        "    i+=1"
      ],
      "metadata": {
        "colab": {
          "base_uri": "https://localhost:8080/"
        },
        "id": "RLNtGR9mMC9B",
        "outputId": "4e368410-98a9-4308-a533-aaa963bd14b3"
      },
      "execution_count": null,
      "outputs": [
        {
          "output_type": "stream",
          "name": "stdout",
          "text": [
            "Top 30 Movies suggested for You : \n",
            "\n",
            "1 . Niagara\n",
            "2 . Caravans\n",
            "3 . Night of the Living Dead\n",
            "4 . The Juror\n",
            "5 . Some Like It Hot\n",
            "6 . The Kentucky Fried Movie\n",
            "7 . Enough\n",
            "8 . Eye for an Eye\n",
            "9 . Duel in the Sun\n",
            "10 . Superman III\n",
            "11 . The Misfits\n",
            "12 . Beyond the Black Rainbow\n",
            "13 . Brokeback Mountain\n",
            "14 . All That Jazz\n",
            "15 . Tora! Tora! Tora!\n",
            "16 . Master and Commander: The Far Side of the World\n",
            "17 . Harry Brown\n",
            "18 . The Change-Up\n",
            "19 . Savages\n",
            "20 . Running with Scissors\n",
            "21 . To Kill a Mockingbird\n",
            "22 . The Odd Life of Timothy Green\n",
            "23 . Edge of Darkness\n",
            "24 . Man on Wire\n",
            "25 . The Curse of Downers Grove\n",
            "26 . Intolerable Cruelty\n",
            "27 . The Horse Whisperer\n",
            "28 . The Great Gatsby\n",
            "29 . Straight Out of Brooklyn\n",
            "30 . Broken Vessels\n"
          ]
        }
      ]
    }
  ]
}